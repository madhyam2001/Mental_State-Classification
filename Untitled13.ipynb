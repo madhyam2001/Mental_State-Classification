{
 "cells": [
  {
   "cell_type": "code",
   "execution_count": 100,
   "id": "1b9995ad",
   "metadata": {},
   "outputs": [],
   "source": [
    "import tensorflow as tf\n",
    "from tensorflow import keras\n",
    "from tensorflow.keras import callbacks, layers, models\n",
    "from tensorflow.keras.utils import to_categorical\n",
    "\n",
    "import numpy as np\n",
    "\n",
    "import matplotlib.pyplot as plt\n",
    "import pandas as pd\n",
    "\n",
    "from sklearn.preprocessing import StandardScaler\n",
    "from sklearn.preprocessing import LabelEncoder\n",
    "from sklearn.preprocessing import label_binarize\n",
    "from sklearn.model_selection import cross_val_score, train_test_split\n",
    "from sklearn.metrics import confusion_matrix, classification_report\n",
    "import seaborn as sns"
   ]
  },
  {
   "cell_type": "code",
   "execution_count": 101,
   "id": "74e29c0d",
   "metadata": {},
   "outputs": [],
   "source": [
    "df= pd.read_csv('mental-state.csv')\n",
    "data_new= pd.get_dummies(df, columns = ['Label'])"
   ]
  },
  {
   "cell_type": "code",
   "execution_count": 102,
   "id": "6c573210",
   "metadata": {},
   "outputs": [
    {
     "data": {
      "text/html": [
       "<div>\n",
       "<style scoped>\n",
       "    .dataframe tbody tr th:only-of-type {\n",
       "        vertical-align: middle;\n",
       "    }\n",
       "\n",
       "    .dataframe tbody tr th {\n",
       "        vertical-align: top;\n",
       "    }\n",
       "\n",
       "    .dataframe thead th {\n",
       "        text-align: right;\n",
       "    }\n",
       "</style>\n",
       "<table border=\"1\" class=\"dataframe\">\n",
       "  <thead>\n",
       "    <tr style=\"text-align: right;\">\n",
       "      <th></th>\n",
       "      <th>lag1_mean_0</th>\n",
       "      <th>lag1_mean_1</th>\n",
       "      <th>lag1_mean_2</th>\n",
       "      <th>lag1_mean_3</th>\n",
       "      <th>lag1_mean_d_h2h1_0</th>\n",
       "      <th>lag1_mean_d_h2h1_1</th>\n",
       "      <th>lag1_mean_d_h2h1_2</th>\n",
       "      <th>lag1_mean_d_h2h1_3</th>\n",
       "      <th>lag1_mean_q1_0</th>\n",
       "      <th>lag1_mean_q1_1</th>\n",
       "      <th>...</th>\n",
       "      <th>freq_659_3</th>\n",
       "      <th>freq_669_3</th>\n",
       "      <th>freq_679_3</th>\n",
       "      <th>freq_689_3</th>\n",
       "      <th>freq_699_3</th>\n",
       "      <th>freq_709_3</th>\n",
       "      <th>freq_720_3</th>\n",
       "      <th>freq_730_3</th>\n",
       "      <th>freq_740_3</th>\n",
       "      <th>freq_750_3</th>\n",
       "    </tr>\n",
       "  </thead>\n",
       "  <tbody>\n",
       "    <tr>\n",
       "      <th>0</th>\n",
       "      <td>25.781648</td>\n",
       "      <td>33.836367</td>\n",
       "      <td>-92.769629</td>\n",
       "      <td>19.187957</td>\n",
       "      <td>-1.542262</td>\n",
       "      <td>0.197462</td>\n",
       "      <td>-119.561133</td>\n",
       "      <td>2.032654</td>\n",
       "      <td>21.596272</td>\n",
       "      <td>33.965587</td>\n",
       "      <td>...</td>\n",
       "      <td>0.000579</td>\n",
       "      <td>0.000230</td>\n",
       "      <td>0.000351</td>\n",
       "      <td>0.000547</td>\n",
       "      <td>0.000381</td>\n",
       "      <td>0.000350</td>\n",
       "      <td>0.000453</td>\n",
       "      <td>0.000442</td>\n",
       "      <td>0.000325</td>\n",
       "      <td>0.000209</td>\n",
       "    </tr>\n",
       "    <tr>\n",
       "      <th>1</th>\n",
       "      <td>29.357891</td>\n",
       "      <td>26.792566</td>\n",
       "      <td>417.203910</td>\n",
       "      <td>19.472121</td>\n",
       "      <td>-38.797263</td>\n",
       "      <td>-16.897194</td>\n",
       "      <td>-29.368531</td>\n",
       "      <td>-9.055370</td>\n",
       "      <td>44.647424</td>\n",
       "      <td>40.893307</td>\n",
       "      <td>...</td>\n",
       "      <td>0.000448</td>\n",
       "      <td>0.001671</td>\n",
       "      <td>0.000740</td>\n",
       "      <td>0.001122</td>\n",
       "      <td>0.000521</td>\n",
       "      <td>0.000624</td>\n",
       "      <td>0.000439</td>\n",
       "      <td>0.001249</td>\n",
       "      <td>0.000727</td>\n",
       "      <td>0.000801</td>\n",
       "    </tr>\n",
       "    <tr>\n",
       "      <th>2</th>\n",
       "      <td>28.451926</td>\n",
       "      <td>31.076434</td>\n",
       "      <td>72.231301</td>\n",
       "      <td>14.245938</td>\n",
       "      <td>-13.225057</td>\n",
       "      <td>-0.614138</td>\n",
       "      <td>-28.331698</td>\n",
       "      <td>-8.858742</td>\n",
       "      <td>31.450289</td>\n",
       "      <td>30.692883</td>\n",
       "      <td>...</td>\n",
       "      <td>0.001028</td>\n",
       "      <td>0.000748</td>\n",
       "      <td>0.000569</td>\n",
       "      <td>0.000327</td>\n",
       "      <td>0.000197</td>\n",
       "      <td>0.000833</td>\n",
       "      <td>0.000909</td>\n",
       "      <td>0.000699</td>\n",
       "      <td>0.001165</td>\n",
       "      <td>0.000616</td>\n",
       "    </tr>\n",
       "    <tr>\n",
       "      <th>3</th>\n",
       "      <td>21.282184</td>\n",
       "      <td>19.985184</td>\n",
       "      <td>16.220094</td>\n",
       "      <td>39.787312</td>\n",
       "      <td>1.847866</td>\n",
       "      <td>0.670216</td>\n",
       "      <td>-1.820355</td>\n",
       "      <td>20.220724</td>\n",
       "      <td>21.404679</td>\n",
       "      <td>20.777411</td>\n",
       "      <td>...</td>\n",
       "      <td>0.015502</td>\n",
       "      <td>0.000990</td>\n",
       "      <td>0.005644</td>\n",
       "      <td>0.006891</td>\n",
       "      <td>0.010546</td>\n",
       "      <td>0.009583</td>\n",
       "      <td>0.011158</td>\n",
       "      <td>0.008853</td>\n",
       "      <td>0.004551</td>\n",
       "      <td>0.002287</td>\n",
       "    </tr>\n",
       "    <tr>\n",
       "      <th>4</th>\n",
       "      <td>20.431516</td>\n",
       "      <td>28.982168</td>\n",
       "      <td>27.540246</td>\n",
       "      <td>19.960398</td>\n",
       "      <td>2.491458</td>\n",
       "      <td>-6.020503</td>\n",
       "      <td>-1.071166</td>\n",
       "      <td>2.655259</td>\n",
       "      <td>16.295039</td>\n",
       "      <td>32.658163</td>\n",
       "      <td>...</td>\n",
       "      <td>0.013212</td>\n",
       "      <td>0.001659</td>\n",
       "      <td>0.014379</td>\n",
       "      <td>0.014492</td>\n",
       "      <td>0.002949</td>\n",
       "      <td>0.004575</td>\n",
       "      <td>0.008305</td>\n",
       "      <td>0.007202</td>\n",
       "      <td>0.006957</td>\n",
       "      <td>0.009836</td>\n",
       "    </tr>\n",
       "  </tbody>\n",
       "</table>\n",
       "<p>5 rows × 988 columns</p>\n",
       "</div>"
      ],
      "text/plain": [
       "   lag1_mean_0  lag1_mean_1  lag1_mean_2  lag1_mean_3  lag1_mean_d_h2h1_0  \\\n",
       "0    25.781648    33.836367   -92.769629    19.187957           -1.542262   \n",
       "1    29.357891    26.792566   417.203910    19.472121          -38.797263   \n",
       "2    28.451926    31.076434    72.231301    14.245938          -13.225057   \n",
       "3    21.282184    19.985184    16.220094    39.787312            1.847866   \n",
       "4    20.431516    28.982168    27.540246    19.960398            2.491458   \n",
       "\n",
       "   lag1_mean_d_h2h1_1  lag1_mean_d_h2h1_2  lag1_mean_d_h2h1_3  lag1_mean_q1_0  \\\n",
       "0            0.197462         -119.561133            2.032654       21.596272   \n",
       "1          -16.897194          -29.368531           -9.055370       44.647424   \n",
       "2           -0.614138          -28.331698           -8.858742       31.450289   \n",
       "3            0.670216           -1.820355           20.220724       21.404679   \n",
       "4           -6.020503           -1.071166            2.655259       16.295039   \n",
       "\n",
       "   lag1_mean_q1_1  ...  freq_659_3  freq_669_3  freq_679_3  freq_689_3  \\\n",
       "0       33.965587  ...    0.000579    0.000230    0.000351    0.000547   \n",
       "1       40.893307  ...    0.000448    0.001671    0.000740    0.001122   \n",
       "2       30.692883  ...    0.001028    0.000748    0.000569    0.000327   \n",
       "3       20.777411  ...    0.015502    0.000990    0.005644    0.006891   \n",
       "4       32.658163  ...    0.013212    0.001659    0.014379    0.014492   \n",
       "\n",
       "   freq_699_3  freq_709_3  freq_720_3  freq_730_3  freq_740_3  freq_750_3  \n",
       "0    0.000381    0.000350    0.000453    0.000442    0.000325    0.000209  \n",
       "1    0.000521    0.000624    0.000439    0.001249    0.000727    0.000801  \n",
       "2    0.000197    0.000833    0.000909    0.000699    0.001165    0.000616  \n",
       "3    0.010546    0.009583    0.011158    0.008853    0.004551    0.002287  \n",
       "4    0.002949    0.004575    0.008305    0.007202    0.006957    0.009836  \n",
       "\n",
       "[5 rows x 988 columns]"
      ]
     },
     "execution_count": 102,
     "metadata": {},
     "output_type": "execute_result"
    }
   ],
   "source": [
    "x=data_new.loc[:,'lag1_mean_0':'freq_750_3']\n",
    "x.head()"
   ]
  },
  {
   "cell_type": "code",
   "execution_count": 103,
   "id": "61924bef",
   "metadata": {},
   "outputs": [
    {
     "data": {
      "text/html": [
       "<div>\n",
       "<style scoped>\n",
       "    .dataframe tbody tr th:only-of-type {\n",
       "        vertical-align: middle;\n",
       "    }\n",
       "\n",
       "    .dataframe tbody tr th {\n",
       "        vertical-align: top;\n",
       "    }\n",
       "\n",
       "    .dataframe thead th {\n",
       "        text-align: right;\n",
       "    }\n",
       "</style>\n",
       "<table border=\"1\" class=\"dataframe\">\n",
       "  <thead>\n",
       "    <tr style=\"text-align: right;\">\n",
       "      <th></th>\n",
       "      <th>Label_0.0</th>\n",
       "      <th>Label_1.0</th>\n",
       "      <th>Label_2.0</th>\n",
       "    </tr>\n",
       "  </thead>\n",
       "  <tbody>\n",
       "    <tr>\n",
       "      <th>0</th>\n",
       "      <td>0</td>\n",
       "      <td>0</td>\n",
       "      <td>1</td>\n",
       "    </tr>\n",
       "    <tr>\n",
       "      <th>1</th>\n",
       "      <td>0</td>\n",
       "      <td>0</td>\n",
       "      <td>1</td>\n",
       "    </tr>\n",
       "    <tr>\n",
       "      <th>2</th>\n",
       "      <td>0</td>\n",
       "      <td>0</td>\n",
       "      <td>1</td>\n",
       "    </tr>\n",
       "    <tr>\n",
       "      <th>3</th>\n",
       "      <td>0</td>\n",
       "      <td>1</td>\n",
       "      <td>0</td>\n",
       "    </tr>\n",
       "    <tr>\n",
       "      <th>4</th>\n",
       "      <td>0</td>\n",
       "      <td>0</td>\n",
       "      <td>1</td>\n",
       "    </tr>\n",
       "  </tbody>\n",
       "</table>\n",
       "</div>"
      ],
      "text/plain": [
       "   Label_0.0  Label_1.0  Label_2.0\n",
       "0          0          0          1\n",
       "1          0          0          1\n",
       "2          0          0          1\n",
       "3          0          1          0\n",
       "4          0          0          1"
      ]
     },
     "execution_count": 103,
     "metadata": {},
     "output_type": "execute_result"
    }
   ],
   "source": [
    "y=data_new.loc[:,'Label_0.0':'Label_2.0']\n",
    "y.head()"
   ]
  },
  {
   "cell_type": "code",
   "execution_count": 104,
   "id": "b7d85337",
   "metadata": {},
   "outputs": [],
   "source": [
    "scaler = StandardScaler()\n",
    "X_scaled = scaler.fit_transform(x)"
   ]
  },
  {
   "cell_type": "code",
   "execution_count": 105,
   "id": "5d93076c",
   "metadata": {},
   "outputs": [],
   "source": [
    "from sklearn.decomposition import PCA"
   ]
  },
  {
   "cell_type": "code",
   "execution_count": 106,
   "id": "3c25bedc",
   "metadata": {},
   "outputs": [],
   "source": [
    "pca = PCA(n_components=64)"
   ]
  },
  {
   "cell_type": "code",
   "execution_count": 107,
   "id": "625144c6",
   "metadata": {},
   "outputs": [],
   "source": [
    "X_pca = pca.fit_transform(X_scaled)\n",
    "df_pca = pd.concat([pd.DataFrame(X_pca), y], axis=1)"
   ]
  },
  {
   "cell_type": "code",
   "execution_count": 108,
   "id": "cebd16ce",
   "metadata": {},
   "outputs": [
    {
     "data": {
      "text/html": [
       "<div>\n",
       "<style scoped>\n",
       "    .dataframe tbody tr th:only-of-type {\n",
       "        vertical-align: middle;\n",
       "    }\n",
       "\n",
       "    .dataframe tbody tr th {\n",
       "        vertical-align: top;\n",
       "    }\n",
       "\n",
       "    .dataframe thead th {\n",
       "        text-align: right;\n",
       "    }\n",
       "</style>\n",
       "<table border=\"1\" class=\"dataframe\">\n",
       "  <thead>\n",
       "    <tr style=\"text-align: right;\">\n",
       "      <th></th>\n",
       "      <th>0</th>\n",
       "      <th>1</th>\n",
       "      <th>2</th>\n",
       "      <th>3</th>\n",
       "      <th>4</th>\n",
       "      <th>5</th>\n",
       "      <th>6</th>\n",
       "      <th>7</th>\n",
       "      <th>8</th>\n",
       "      <th>9</th>\n",
       "      <th>...</th>\n",
       "      <th>57</th>\n",
       "      <th>58</th>\n",
       "      <th>59</th>\n",
       "      <th>60</th>\n",
       "      <th>61</th>\n",
       "      <th>62</th>\n",
       "      <th>63</th>\n",
       "      <th>Label_0.0</th>\n",
       "      <th>Label_1.0</th>\n",
       "      <th>Label_2.0</th>\n",
       "    </tr>\n",
       "  </thead>\n",
       "  <tbody>\n",
       "    <tr>\n",
       "      <th>0</th>\n",
       "      <td>-21.044050</td>\n",
       "      <td>-0.010535</td>\n",
       "      <td>0.718237</td>\n",
       "      <td>-2.682393</td>\n",
       "      <td>4.193227</td>\n",
       "      <td>-1.814457</td>\n",
       "      <td>1.506927</td>\n",
       "      <td>-7.564069</td>\n",
       "      <td>5.086255</td>\n",
       "      <td>-2.217937</td>\n",
       "      <td>...</td>\n",
       "      <td>-1.306918</td>\n",
       "      <td>0.227764</td>\n",
       "      <td>0.756084</td>\n",
       "      <td>-1.547749</td>\n",
       "      <td>0.490091</td>\n",
       "      <td>1.025926</td>\n",
       "      <td>0.077259</td>\n",
       "      <td>0</td>\n",
       "      <td>0</td>\n",
       "      <td>1</td>\n",
       "    </tr>\n",
       "    <tr>\n",
       "      <th>1</th>\n",
       "      <td>-24.072607</td>\n",
       "      <td>-9.930574</td>\n",
       "      <td>-12.967207</td>\n",
       "      <td>2.545072</td>\n",
       "      <td>5.526551</td>\n",
       "      <td>-3.177310</td>\n",
       "      <td>-0.278590</td>\n",
       "      <td>1.138539</td>\n",
       "      <td>0.579483</td>\n",
       "      <td>1.883216</td>\n",
       "      <td>...</td>\n",
       "      <td>-1.326977</td>\n",
       "      <td>1.266401</td>\n",
       "      <td>0.123532</td>\n",
       "      <td>0.620789</td>\n",
       "      <td>2.078735</td>\n",
       "      <td>-1.663094</td>\n",
       "      <td>-0.958898</td>\n",
       "      <td>0</td>\n",
       "      <td>0</td>\n",
       "      <td>1</td>\n",
       "    </tr>\n",
       "    <tr>\n",
       "      <th>2</th>\n",
       "      <td>-22.926461</td>\n",
       "      <td>-3.452873</td>\n",
       "      <td>-3.501628</td>\n",
       "      <td>-1.068487</td>\n",
       "      <td>0.706277</td>\n",
       "      <td>2.762854</td>\n",
       "      <td>-2.036844</td>\n",
       "      <td>-2.407663</td>\n",
       "      <td>-1.345975</td>\n",
       "      <td>1.013190</td>\n",
       "      <td>...</td>\n",
       "      <td>-0.570548</td>\n",
       "      <td>0.245745</td>\n",
       "      <td>0.709826</td>\n",
       "      <td>-0.379645</td>\n",
       "      <td>0.571367</td>\n",
       "      <td>-0.000776</td>\n",
       "      <td>-0.258072</td>\n",
       "      <td>0</td>\n",
       "      <td>0</td>\n",
       "      <td>1</td>\n",
       "    </tr>\n",
       "    <tr>\n",
       "      <th>3</th>\n",
       "      <td>8.600035</td>\n",
       "      <td>-1.355738</td>\n",
       "      <td>1.934047</td>\n",
       "      <td>-1.049669</td>\n",
       "      <td>-1.309943</td>\n",
       "      <td>-1.622926</td>\n",
       "      <td>-0.501734</td>\n",
       "      <td>0.973511</td>\n",
       "      <td>-0.773587</td>\n",
       "      <td>-1.199485</td>\n",
       "      <td>...</td>\n",
       "      <td>-0.494932</td>\n",
       "      <td>-0.147908</td>\n",
       "      <td>0.708309</td>\n",
       "      <td>-0.165715</td>\n",
       "      <td>-1.807516</td>\n",
       "      <td>-1.320308</td>\n",
       "      <td>0.410463</td>\n",
       "      <td>0</td>\n",
       "      <td>1</td>\n",
       "      <td>0</td>\n",
       "    </tr>\n",
       "    <tr>\n",
       "      <th>4</th>\n",
       "      <td>12.194237</td>\n",
       "      <td>23.783829</td>\n",
       "      <td>-8.415842</td>\n",
       "      <td>3.450492</td>\n",
       "      <td>-3.116790</td>\n",
       "      <td>1.795192</td>\n",
       "      <td>-0.232985</td>\n",
       "      <td>-0.756297</td>\n",
       "      <td>-5.876472</td>\n",
       "      <td>-1.407715</td>\n",
       "      <td>...</td>\n",
       "      <td>-0.562077</td>\n",
       "      <td>0.401398</td>\n",
       "      <td>2.428464</td>\n",
       "      <td>-0.582994</td>\n",
       "      <td>2.149580</td>\n",
       "      <td>-1.959568</td>\n",
       "      <td>-2.471454</td>\n",
       "      <td>0</td>\n",
       "      <td>0</td>\n",
       "      <td>1</td>\n",
       "    </tr>\n",
       "  </tbody>\n",
       "</table>\n",
       "<p>5 rows × 67 columns</p>\n",
       "</div>"
      ],
      "text/plain": [
       "           0          1          2         3         4         5         6  \\\n",
       "0 -21.044050  -0.010535   0.718237 -2.682393  4.193227 -1.814457  1.506927   \n",
       "1 -24.072607  -9.930574 -12.967207  2.545072  5.526551 -3.177310 -0.278590   \n",
       "2 -22.926461  -3.452873  -3.501628 -1.068487  0.706277  2.762854 -2.036844   \n",
       "3   8.600035  -1.355738   1.934047 -1.049669 -1.309943 -1.622926 -0.501734   \n",
       "4  12.194237  23.783829  -8.415842  3.450492 -3.116790  1.795192 -0.232985   \n",
       "\n",
       "          7         8         9  ...        57        58        59        60  \\\n",
       "0 -7.564069  5.086255 -2.217937  ... -1.306918  0.227764  0.756084 -1.547749   \n",
       "1  1.138539  0.579483  1.883216  ... -1.326977  1.266401  0.123532  0.620789   \n",
       "2 -2.407663 -1.345975  1.013190  ... -0.570548  0.245745  0.709826 -0.379645   \n",
       "3  0.973511 -0.773587 -1.199485  ... -0.494932 -0.147908  0.708309 -0.165715   \n",
       "4 -0.756297 -5.876472 -1.407715  ... -0.562077  0.401398  2.428464 -0.582994   \n",
       "\n",
       "         61        62        63  Label_0.0  Label_1.0  Label_2.0  \n",
       "0  0.490091  1.025926  0.077259          0          0          1  \n",
       "1  2.078735 -1.663094 -0.958898          0          0          1  \n",
       "2  0.571367 -0.000776 -0.258072          0          0          1  \n",
       "3 -1.807516 -1.320308  0.410463          0          1          0  \n",
       "4  2.149580 -1.959568 -2.471454          0          0          1  \n",
       "\n",
       "[5 rows x 67 columns]"
      ]
     },
     "execution_count": 108,
     "metadata": {},
     "output_type": "execute_result"
    }
   ],
   "source": [
    "df_pca.head()"
   ]
  },
  {
   "cell_type": "code",
   "execution_count": 178,
   "id": "f5857aa1",
   "metadata": {},
   "outputs": [],
   "source": [
    "# y=y.values"
   ]
  },
  {
   "cell_type": "code",
   "execution_count": 176,
   "id": "b8f880c1",
   "metadata": {},
   "outputs": [],
   "source": [
    "from mlxtend.feature_selection import ExhaustiveFeatureSelector\n",
    "from sklearn.ensemble import RandomForestClassifier"
   ]
  },
  {
   "cell_type": "code",
   "execution_count": 180,
   "id": "d2082d62",
   "metadata": {},
   "outputs": [],
   "source": [
    "efs=ExhaustiveFeatureSelector(RandomForestClassifier(), min_features=4,max_features=8,scoring='roc_auc',cv=2)"
   ]
  },
  {
   "cell_type": "code",
   "execution_count": 182,
   "id": "26c18d65",
   "metadata": {},
   "outputs": [],
   "source": [
    "# efs.fit(pd.DataFrame(X_pca),y)"
   ]
  },
  {
   "cell_type": "code",
   "execution_count": null,
   "id": "fcad19b7",
   "metadata": {},
   "outputs": [],
   "source": []
  },
  {
   "cell_type": "code",
   "execution_count": 183,
   "id": "b6506721",
   "metadata": {},
   "outputs": [],
   "source": [
    "from imblearn.over_sampling import SMOTE"
   ]
  },
  {
   "cell_type": "code",
   "execution_count": 184,
   "id": "7b295a33",
   "metadata": {},
   "outputs": [],
   "source": [
    "smote=SMOTE(sampling_strategy='minority')\n",
    "x_sm,y_sm=smote.fit_resample(X_pca,y)"
   ]
  },
  {
   "cell_type": "code",
   "execution_count": 185,
   "id": "ea5f98de",
   "metadata": {},
   "outputs": [],
   "source": [
    "x_train,x_test,y_train,y_test=train_test_split(x_sm,y_sm,test_size=0.2,random_state=123)"
   ]
  },
  {
   "cell_type": "code",
   "execution_count": 186,
   "id": "a6a86db8",
   "metadata": {},
   "outputs": [
    {
     "data": {
      "text/plain": [
       "((1992, 64), (1992, 3), (498, 64), (498, 3))"
      ]
     },
     "execution_count": 186,
     "metadata": {},
     "output_type": "execute_result"
    }
   ],
   "source": [
    "x_train.shape, y_train.shape, x_test.shape, y_test.shape"
   ]
  },
  {
   "cell_type": "code",
   "execution_count": 188,
   "id": "5f9d4846",
   "metadata": {},
   "outputs": [
    {
     "data": {
      "text/html": [
       "<style>#sk-container-id-5 {color: black;background-color: white;}#sk-container-id-5 pre{padding: 0;}#sk-container-id-5 div.sk-toggleable {background-color: white;}#sk-container-id-5 label.sk-toggleable__label {cursor: pointer;display: block;width: 100%;margin-bottom: 0;padding: 0.3em;box-sizing: border-box;text-align: center;}#sk-container-id-5 label.sk-toggleable__label-arrow:before {content: \"▸\";float: left;margin-right: 0.25em;color: #696969;}#sk-container-id-5 label.sk-toggleable__label-arrow:hover:before {color: black;}#sk-container-id-5 div.sk-estimator:hover label.sk-toggleable__label-arrow:before {color: black;}#sk-container-id-5 div.sk-toggleable__content {max-height: 0;max-width: 0;overflow: hidden;text-align: left;background-color: #f0f8ff;}#sk-container-id-5 div.sk-toggleable__content pre {margin: 0.2em;color: black;border-radius: 0.25em;background-color: #f0f8ff;}#sk-container-id-5 input.sk-toggleable__control:checked~div.sk-toggleable__content {max-height: 200px;max-width: 100%;overflow: auto;}#sk-container-id-5 input.sk-toggleable__control:checked~label.sk-toggleable__label-arrow:before {content: \"▾\";}#sk-container-id-5 div.sk-estimator input.sk-toggleable__control:checked~label.sk-toggleable__label {background-color: #d4ebff;}#sk-container-id-5 div.sk-label input.sk-toggleable__control:checked~label.sk-toggleable__label {background-color: #d4ebff;}#sk-container-id-5 input.sk-hidden--visually {border: 0;clip: rect(1px 1px 1px 1px);clip: rect(1px, 1px, 1px, 1px);height: 1px;margin: -1px;overflow: hidden;padding: 0;position: absolute;width: 1px;}#sk-container-id-5 div.sk-estimator {font-family: monospace;background-color: #f0f8ff;border: 1px dotted black;border-radius: 0.25em;box-sizing: border-box;margin-bottom: 0.5em;}#sk-container-id-5 div.sk-estimator:hover {background-color: #d4ebff;}#sk-container-id-5 div.sk-parallel-item::after {content: \"\";width: 100%;border-bottom: 1px solid gray;flex-grow: 1;}#sk-container-id-5 div.sk-label:hover label.sk-toggleable__label {background-color: #d4ebff;}#sk-container-id-5 div.sk-serial::before {content: \"\";position: absolute;border-left: 1px solid gray;box-sizing: border-box;top: 0;bottom: 0;left: 50%;z-index: 0;}#sk-container-id-5 div.sk-serial {display: flex;flex-direction: column;align-items: center;background-color: white;padding-right: 0.2em;padding-left: 0.2em;position: relative;}#sk-container-id-5 div.sk-item {position: relative;z-index: 1;}#sk-container-id-5 div.sk-parallel {display: flex;align-items: stretch;justify-content: center;background-color: white;position: relative;}#sk-container-id-5 div.sk-item::before, #sk-container-id-5 div.sk-parallel-item::before {content: \"\";position: absolute;border-left: 1px solid gray;box-sizing: border-box;top: 0;bottom: 0;left: 50%;z-index: -1;}#sk-container-id-5 div.sk-parallel-item {display: flex;flex-direction: column;z-index: 1;position: relative;background-color: white;}#sk-container-id-5 div.sk-parallel-item:first-child::after {align-self: flex-end;width: 50%;}#sk-container-id-5 div.sk-parallel-item:last-child::after {align-self: flex-start;width: 50%;}#sk-container-id-5 div.sk-parallel-item:only-child::after {width: 0;}#sk-container-id-5 div.sk-dashed-wrapped {border: 1px dashed gray;margin: 0 0.4em 0.5em 0.4em;box-sizing: border-box;padding-bottom: 0.4em;background-color: white;}#sk-container-id-5 div.sk-label label {font-family: monospace;font-weight: bold;display: inline-block;line-height: 1.2em;}#sk-container-id-5 div.sk-label-container {text-align: center;}#sk-container-id-5 div.sk-container {/* jupyter's `normalize.less` sets `[hidden] { display: none; }` but bootstrap.min.css set `[hidden] { display: none !important; }` so we also need the `!important` here to be able to override the default hidden behavior on the sphinx rendered scikit-learn.org. See: https://github.com/scikit-learn/scikit-learn/issues/21755 */display: inline-block !important;position: relative;}#sk-container-id-5 div.sk-text-repr-fallback {display: none;}</style><div id=\"sk-container-id-5\" class=\"sk-top-container\"><div class=\"sk-text-repr-fallback\"><pre>RandomForestClassifier(n_estimators=1000)</pre><b>In a Jupyter environment, please rerun this cell to show the HTML representation or trust the notebook. <br />On GitHub, the HTML representation is unable to render, please try loading this page with nbviewer.org.</b></div><div class=\"sk-container\" hidden><div class=\"sk-item\"><div class=\"sk-estimator sk-toggleable\"><input class=\"sk-toggleable__control sk-hidden--visually\" id=\"sk-estimator-id-5\" type=\"checkbox\" checked><label for=\"sk-estimator-id-5\" class=\"sk-toggleable__label sk-toggleable__label-arrow\">RandomForestClassifier</label><div class=\"sk-toggleable__content\"><pre>RandomForestClassifier(n_estimators=1000)</pre></div></div></div></div></div>"
      ],
      "text/plain": [
       "RandomForestClassifier(n_estimators=1000)"
      ]
     },
     "execution_count": 188,
     "metadata": {},
     "output_type": "execute_result"
    }
   ],
   "source": [
    "model=RandomForestClassifier(n_estimators=1000)\n",
    "model.fit(x_train,y_train)"
   ]
  },
  {
   "cell_type": "code",
   "execution_count": 189,
   "id": "12932712",
   "metadata": {},
   "outputs": [],
   "source": [
    "from tensorflow.keras import Sequential\n",
    "from tensorflow.keras.layers import LSTM"
   ]
  },
  {
   "cell_type": "code",
   "execution_count": 190,
   "id": "fccdf430",
   "metadata": {},
   "outputs": [
    {
     "name": "stdout",
     "output_type": "stream",
     "text": [
      "Model: \"sequential_2\"\n",
      "_________________________________________________________________\n",
      " Layer (type)                Output Shape              Param #   \n",
      "=================================================================\n",
      " conv1d_4 (Conv1D)           (None, 60, 64)            384       \n",
      "                                                                 \n",
      " lstm_2 (LSTM)               (None, 60, 64)            33024     \n",
      "                                                                 \n",
      " batch_normalization_4 (Batc  (None, 60, 64)           256       \n",
      " hNormalization)                                                 \n",
      "                                                                 \n",
      " average_pooling1d_4 (Averag  (None, 30, 64)           0         \n",
      " ePooling1D)                                                     \n",
      "                                                                 \n",
      " dropout_4 (Dropout)         (None, 30, 64)            0         \n",
      "                                                                 \n",
      " re_lu_4 (ReLU)              (None, 30, 64)            0         \n",
      "                                                                 \n",
      " conv1d_5 (Conv1D)           (None, 26, 64)            20544     \n",
      "                                                                 \n",
      " batch_normalization_5 (Batc  (None, 26, 64)           256       \n",
      " hNormalization)                                                 \n",
      "                                                                 \n",
      " average_pooling1d_5 (Averag  (None, 13, 64)           0         \n",
      " ePooling1D)                                                     \n",
      "                                                                 \n",
      " dropout_5 (Dropout)         (None, 13, 64)            0         \n",
      "                                                                 \n",
      " re_lu_5 (ReLU)              (None, 13, 64)            0         \n",
      "                                                                 \n",
      " flatten_2 (Flatten)         (None, 832)               0         \n",
      "                                                                 \n",
      " dense_2 (Dense)             (None, 3)                 2499      \n",
      "                                                                 \n",
      "=================================================================\n",
      "Total params: 56,963\n",
      "Trainable params: 56,707\n",
      "Non-trainable params: 256\n",
      "_________________________________________________________________\n"
     ]
    }
   ],
   "source": [
    "model = Sequential()\n",
    "model.add(layers.Conv1D(64, 5, input_shape=(x_train.shape[1], 1)))\n",
    "model.add(LSTM(64, return_sequences=True))\n",
    "model.add(layers.BatchNormalization())\n",
    "model.add(layers.AvgPool1D(2))\n",
    "model.add(layers.Dropout(0.2))\n",
    "model.add(layers.ReLU())\n",
    "\n",
    "\n",
    "model.add(layers.Conv1D(64, 5,activation='relu'))\n",
    "model.add(layers.BatchNormalization())\n",
    "model.add(layers.AvgPool1D(2))\n",
    "model.add(layers.Dropout(0.2))\n",
    "model.add(layers.ReLU())\n",
    "\n",
    "model.add(layers.Flatten())\n",
    "model.add(layers.Dense(3, activation='softmax'))   \n",
    "model.compile(loss = 'categorical_crossentropy',optimizer = \"adam\",metrics = ['accuracy'])\n",
    "model.summary()"
   ]
  },
  {
   "cell_type": "code",
   "execution_count": 191,
   "id": "491cf2d5",
   "metadata": {},
   "outputs": [
    {
     "name": "stdout",
     "output_type": "stream",
     "text": [
      "Epoch 1/50\n",
      "43/43 [==============================] - 4s 43ms/step - loss: 0.7094 - accuracy: 0.7242 - val_loss: 1.0471 - val_accuracy: 0.7811\n",
      "Epoch 2/50\n",
      "43/43 [==============================] - 1s 29ms/step - loss: 0.3495 - accuracy: 0.8668 - val_loss: 1.0282 - val_accuracy: 0.8052\n",
      "Epoch 3/50\n",
      "43/43 [==============================] - 1s 29ms/step - loss: 0.2695 - accuracy: 0.8969 - val_loss: 0.9677 - val_accuracy: 0.8353\n",
      "Epoch 4/50\n",
      "43/43 [==============================] - 1s 29ms/step - loss: 0.2317 - accuracy: 0.9150 - val_loss: 0.9103 - val_accuracy: 0.8755\n",
      "Epoch 5/50\n",
      "43/43 [==============================] - 1s 30ms/step - loss: 0.2078 - accuracy: 0.9290 - val_loss: 0.7946 - val_accuracy: 0.8936\n",
      "Epoch 6/50\n",
      "43/43 [==============================] - 1s 30ms/step - loss: 0.1684 - accuracy: 0.9351 - val_loss: 0.6497 - val_accuracy: 0.9337\n",
      "Epoch 7/50\n",
      "43/43 [==============================] - 1s 29ms/step - loss: 0.1610 - accuracy: 0.9351 - val_loss: 0.5280 - val_accuracy: 0.9157\n",
      "Epoch 8/50\n",
      "43/43 [==============================] - 1s 30ms/step - loss: 0.1284 - accuracy: 0.9505 - val_loss: 0.3681 - val_accuracy: 0.9277\n",
      "Epoch 9/50\n",
      "43/43 [==============================] - 1s 30ms/step - loss: 0.1175 - accuracy: 0.9605 - val_loss: 0.2839 - val_accuracy: 0.9177\n",
      "Epoch 10/50\n",
      "43/43 [==============================] - 1s 30ms/step - loss: 0.1098 - accuracy: 0.9552 - val_loss: 0.2391 - val_accuracy: 0.9357\n",
      "Epoch 11/50\n",
      "43/43 [==============================] - 1s 33ms/step - loss: 0.1000 - accuracy: 0.9625 - val_loss: 0.2238 - val_accuracy: 0.9197\n",
      "Epoch 12/50\n",
      "43/43 [==============================] - 1s 30ms/step - loss: 0.0947 - accuracy: 0.9659 - val_loss: 0.1750 - val_accuracy: 0.9398\n",
      "Epoch 13/50\n",
      "43/43 [==============================] - 1s 31ms/step - loss: 0.0849 - accuracy: 0.9726 - val_loss: 0.1696 - val_accuracy: 0.9458\n",
      "Epoch 14/50\n",
      "43/43 [==============================] - 1s 30ms/step - loss: 0.0815 - accuracy: 0.9732 - val_loss: 0.1789 - val_accuracy: 0.9337\n",
      "Epoch 15/50\n",
      "43/43 [==============================] - 1s 30ms/step - loss: 0.0599 - accuracy: 0.9799 - val_loss: 0.1592 - val_accuracy: 0.9518\n",
      "Epoch 16/50\n",
      "43/43 [==============================] - 1s 30ms/step - loss: 0.0653 - accuracy: 0.9759 - val_loss: 0.1979 - val_accuracy: 0.9357\n",
      "Epoch 17/50\n",
      "43/43 [==============================] - 1s 30ms/step - loss: 0.0541 - accuracy: 0.9853 - val_loss: 0.1944 - val_accuracy: 0.9538\n",
      "Epoch 18/50\n",
      "43/43 [==============================] - 1s 30ms/step - loss: 0.0491 - accuracy: 0.9846 - val_loss: 0.1427 - val_accuracy: 0.9518\n",
      "Epoch 19/50\n",
      "43/43 [==============================] - 1s 31ms/step - loss: 0.0465 - accuracy: 0.9839 - val_loss: 0.1545 - val_accuracy: 0.9478\n",
      "Epoch 20/50\n",
      "43/43 [==============================] - 1s 31ms/step - loss: 0.0505 - accuracy: 0.9826 - val_loss: 0.1947 - val_accuracy: 0.9438\n",
      "Epoch 21/50\n",
      "43/43 [==============================] - 1s 31ms/step - loss: 0.0514 - accuracy: 0.9813 - val_loss: 0.2046 - val_accuracy: 0.9418\n",
      "Epoch 22/50\n",
      "43/43 [==============================] - 1s 30ms/step - loss: 0.0396 - accuracy: 0.9893 - val_loss: 0.1739 - val_accuracy: 0.9438\n",
      "Epoch 23/50\n",
      "43/43 [==============================] - 1s 30ms/step - loss: 0.0305 - accuracy: 0.9920 - val_loss: 0.1761 - val_accuracy: 0.9478\n",
      "Epoch 24/50\n",
      "43/43 [==============================] - 1s 31ms/step - loss: 0.0392 - accuracy: 0.9886 - val_loss: 0.1685 - val_accuracy: 0.9458\n",
      "Epoch 25/50\n",
      "43/43 [==============================] - 1s 30ms/step - loss: 0.0360 - accuracy: 0.9873 - val_loss: 0.1442 - val_accuracy: 0.9478\n",
      "Epoch 26/50\n",
      "43/43 [==============================] - 1s 30ms/step - loss: 0.0405 - accuracy: 0.9873 - val_loss: 0.1812 - val_accuracy: 0.9438\n",
      "Epoch 27/50\n",
      "43/43 [==============================] - 1s 31ms/step - loss: 0.0441 - accuracy: 0.9833 - val_loss: 0.1736 - val_accuracy: 0.9558\n",
      "Epoch 28/50\n",
      "43/43 [==============================] - 1s 30ms/step - loss: 0.0294 - accuracy: 0.9946 - val_loss: 0.1333 - val_accuracy: 0.9538\n",
      "Epoch 29/50\n",
      "43/43 [==============================] - 1s 31ms/step - loss: 0.0229 - accuracy: 0.9933 - val_loss: 0.1671 - val_accuracy: 0.9538\n",
      "Epoch 30/50\n",
      "43/43 [==============================] - 1s 30ms/step - loss: 0.0270 - accuracy: 0.9933 - val_loss: 0.1908 - val_accuracy: 0.9458\n",
      "Epoch 31/50\n",
      "43/43 [==============================] - 1s 30ms/step - loss: 0.0246 - accuracy: 0.9920 - val_loss: 0.2090 - val_accuracy: 0.9398\n",
      "Epoch 32/50\n",
      "43/43 [==============================] - 1s 30ms/step - loss: 0.0254 - accuracy: 0.9920 - val_loss: 0.1720 - val_accuracy: 0.9498\n",
      "Epoch 33/50\n",
      "43/43 [==============================] - 1s 33ms/step - loss: 0.0192 - accuracy: 0.9940 - val_loss: 0.1377 - val_accuracy: 0.9659\n",
      "Epoch 34/50\n",
      "43/43 [==============================] - 1s 31ms/step - loss: 0.0238 - accuracy: 0.9906 - val_loss: 0.1701 - val_accuracy: 0.9578\n",
      "Epoch 35/50\n",
      "43/43 [==============================] - 1s 31ms/step - loss: 0.0184 - accuracy: 0.9953 - val_loss: 0.1881 - val_accuracy: 0.9458\n",
      "Epoch 36/50\n",
      "43/43 [==============================] - 1s 31ms/step - loss: 0.0149 - accuracy: 0.9967 - val_loss: 0.1274 - val_accuracy: 0.9498\n",
      "Epoch 37/50\n",
      "43/43 [==============================] - 1s 33ms/step - loss: 0.0105 - accuracy: 0.9987 - val_loss: 0.1427 - val_accuracy: 0.9578\n",
      "Epoch 38/50\n",
      "43/43 [==============================] - 1s 31ms/step - loss: 0.0132 - accuracy: 0.9960 - val_loss: 0.1380 - val_accuracy: 0.9518\n",
      "Epoch 39/50\n",
      "43/43 [==============================] - 1s 31ms/step - loss: 0.0136 - accuracy: 0.9980 - val_loss: 0.1541 - val_accuracy: 0.9598\n",
      "Epoch 40/50\n",
      "43/43 [==============================] - 1s 31ms/step - loss: 0.0207 - accuracy: 0.9926 - val_loss: 0.2097 - val_accuracy: 0.9438\n",
      "Epoch 41/50\n",
      "43/43 [==============================] - 1s 31ms/step - loss: 0.0123 - accuracy: 0.9967 - val_loss: 0.2286 - val_accuracy: 0.9458\n",
      "Epoch 42/50\n",
      "43/43 [==============================] - 1s 30ms/step - loss: 0.0141 - accuracy: 0.9960 - val_loss: 0.2213 - val_accuracy: 0.9558\n",
      "Epoch 43/50\n",
      "43/43 [==============================] - 1s 29ms/step - loss: 0.0123 - accuracy: 0.9967 - val_loss: 0.1626 - val_accuracy: 0.9578\n",
      "Epoch 44/50\n",
      "43/43 [==============================] - 1s 30ms/step - loss: 0.0091 - accuracy: 0.9973 - val_loss: 0.1687 - val_accuracy: 0.9618\n",
      "Epoch 45/50\n",
      "43/43 [==============================] - 1s 30ms/step - loss: 0.0111 - accuracy: 0.9987 - val_loss: 0.1808 - val_accuracy: 0.9498\n",
      "Epoch 46/50\n",
      "43/43 [==============================] - 1s 29ms/step - loss: 0.0163 - accuracy: 0.9946 - val_loss: 0.1865 - val_accuracy: 0.9478\n",
      "Epoch 47/50\n",
      "43/43 [==============================] - 1s 30ms/step - loss: 0.0077 - accuracy: 0.9987 - val_loss: 0.1684 - val_accuracy: 0.9498\n",
      "Epoch 48/50\n",
      "43/43 [==============================] - 1s 29ms/step - loss: 0.0204 - accuracy: 0.9933 - val_loss: 0.2188 - val_accuracy: 0.9458\n",
      "Epoch 49/50\n",
      "43/43 [==============================] - 1s 31ms/step - loss: 0.0164 - accuracy: 0.9926 - val_loss: 0.2692 - val_accuracy: 0.9478\n",
      "Epoch 50/50\n",
      "43/43 [==============================] - 1s 30ms/step - loss: 0.0224 - accuracy: 0.9900 - val_loss: 0.2273 - val_accuracy: 0.9458\n"
     ]
    },
    {
     "data": {
      "text/plain": [
       "<keras.callbacks.History at 0x18a4297f610>"
      ]
     },
     "execution_count": 191,
     "metadata": {},
     "output_type": "execute_result"
    }
   ],
   "source": [
    "model.fit(x_train,y_train,batch_size=35,epochs=50,verbose=1,validation_split=0.25)"
   ]
  },
  {
   "cell_type": "code",
   "execution_count": 192,
   "id": "bd02434c",
   "metadata": {},
   "outputs": [],
   "source": [
    "import xgboost as xgb"
   ]
  },
  {
   "cell_type": "code",
   "execution_count": 193,
   "id": "34dfcf13",
   "metadata": {},
   "outputs": [
    {
     "data": {
      "text/plain": [
       "(1992, 3)"
      ]
     },
     "execution_count": 193,
     "metadata": {},
     "output_type": "execute_result"
    }
   ],
   "source": [
    "y_train.shape"
   ]
  },
  {
   "cell_type": "code",
   "execution_count": 194,
   "id": "ca09cdd4",
   "metadata": {},
   "outputs": [
    {
     "data": {
      "text/plain": [
       "array([[1, 0, 0],\n",
       "       [0, 0, 1],\n",
       "       [0, 0, 1],\n",
       "       ...,\n",
       "       [0, 0, 1],\n",
       "       [1, 0, 0],\n",
       "       [1, 0, 0]])"
      ]
     },
     "execution_count": 194,
     "metadata": {},
     "output_type": "execute_result"
    }
   ],
   "source": [
    "y_train"
   ]
  },
  {
   "cell_type": "code",
   "execution_count": 195,
   "id": "bc241109",
   "metadata": {},
   "outputs": [],
   "source": [
    "y_train1=np.argmax(y_train, axis=1)"
   ]
  },
  {
   "cell_type": "code",
   "execution_count": 196,
   "id": "58b7c6e5",
   "metadata": {},
   "outputs": [
    {
     "data": {
      "text/plain": [
       "array([0, 2, 2, ..., 2, 0, 0], dtype=int64)"
      ]
     },
     "execution_count": 196,
     "metadata": {},
     "output_type": "execute_result"
    }
   ],
   "source": [
    "y_train1"
   ]
  },
  {
   "cell_type": "code",
   "execution_count": null,
   "id": "634c2255",
   "metadata": {},
   "outputs": [],
   "source": []
  },
  {
   "cell_type": "code",
   "execution_count": 197,
   "id": "babcb8b1",
   "metadata": {},
   "outputs": [
    {
     "name": "stdout",
     "output_type": "stream",
     "text": [
      "[21:33:52] WARNING: C:/Users/Administrator/workspace/xgboost-win64_release_1.6.0/src/learner.cc:627: \n",
      "Parameters: { \"num_classes\" } might not be used.\n",
      "\n",
      "  This could be a false alarm, with some parameters getting used by language bindings but\n",
      "  then being mistakenly passed down to XGBoost core, or some parameter actually being used\n",
      "  but getting flagged wrongly here. Please open an issue if you find any such cases.\n",
      "\n",
      "\n"
     ]
    },
    {
     "data": {
      "text/html": [
       "<style>#sk-container-id-6 {color: black;background-color: white;}#sk-container-id-6 pre{padding: 0;}#sk-container-id-6 div.sk-toggleable {background-color: white;}#sk-container-id-6 label.sk-toggleable__label {cursor: pointer;display: block;width: 100%;margin-bottom: 0;padding: 0.3em;box-sizing: border-box;text-align: center;}#sk-container-id-6 label.sk-toggleable__label-arrow:before {content: \"▸\";float: left;margin-right: 0.25em;color: #696969;}#sk-container-id-6 label.sk-toggleable__label-arrow:hover:before {color: black;}#sk-container-id-6 div.sk-estimator:hover label.sk-toggleable__label-arrow:before {color: black;}#sk-container-id-6 div.sk-toggleable__content {max-height: 0;max-width: 0;overflow: hidden;text-align: left;background-color: #f0f8ff;}#sk-container-id-6 div.sk-toggleable__content pre {margin: 0.2em;color: black;border-radius: 0.25em;background-color: #f0f8ff;}#sk-container-id-6 input.sk-toggleable__control:checked~div.sk-toggleable__content {max-height: 200px;max-width: 100%;overflow: auto;}#sk-container-id-6 input.sk-toggleable__control:checked~label.sk-toggleable__label-arrow:before {content: \"▾\";}#sk-container-id-6 div.sk-estimator input.sk-toggleable__control:checked~label.sk-toggleable__label {background-color: #d4ebff;}#sk-container-id-6 div.sk-label input.sk-toggleable__control:checked~label.sk-toggleable__label {background-color: #d4ebff;}#sk-container-id-6 input.sk-hidden--visually {border: 0;clip: rect(1px 1px 1px 1px);clip: rect(1px, 1px, 1px, 1px);height: 1px;margin: -1px;overflow: hidden;padding: 0;position: absolute;width: 1px;}#sk-container-id-6 div.sk-estimator {font-family: monospace;background-color: #f0f8ff;border: 1px dotted black;border-radius: 0.25em;box-sizing: border-box;margin-bottom: 0.5em;}#sk-container-id-6 div.sk-estimator:hover {background-color: #d4ebff;}#sk-container-id-6 div.sk-parallel-item::after {content: \"\";width: 100%;border-bottom: 1px solid gray;flex-grow: 1;}#sk-container-id-6 div.sk-label:hover label.sk-toggleable__label {background-color: #d4ebff;}#sk-container-id-6 div.sk-serial::before {content: \"\";position: absolute;border-left: 1px solid gray;box-sizing: border-box;top: 0;bottom: 0;left: 50%;z-index: 0;}#sk-container-id-6 div.sk-serial {display: flex;flex-direction: column;align-items: center;background-color: white;padding-right: 0.2em;padding-left: 0.2em;position: relative;}#sk-container-id-6 div.sk-item {position: relative;z-index: 1;}#sk-container-id-6 div.sk-parallel {display: flex;align-items: stretch;justify-content: center;background-color: white;position: relative;}#sk-container-id-6 div.sk-item::before, #sk-container-id-6 div.sk-parallel-item::before {content: \"\";position: absolute;border-left: 1px solid gray;box-sizing: border-box;top: 0;bottom: 0;left: 50%;z-index: -1;}#sk-container-id-6 div.sk-parallel-item {display: flex;flex-direction: column;z-index: 1;position: relative;background-color: white;}#sk-container-id-6 div.sk-parallel-item:first-child::after {align-self: flex-end;width: 50%;}#sk-container-id-6 div.sk-parallel-item:last-child::after {align-self: flex-start;width: 50%;}#sk-container-id-6 div.sk-parallel-item:only-child::after {width: 0;}#sk-container-id-6 div.sk-dashed-wrapped {border: 1px dashed gray;margin: 0 0.4em 0.5em 0.4em;box-sizing: border-box;padding-bottom: 0.4em;background-color: white;}#sk-container-id-6 div.sk-label label {font-family: monospace;font-weight: bold;display: inline-block;line-height: 1.2em;}#sk-container-id-6 div.sk-label-container {text-align: center;}#sk-container-id-6 div.sk-container {/* jupyter's `normalize.less` sets `[hidden] { display: none; }` but bootstrap.min.css set `[hidden] { display: none !important; }` so we also need the `!important` here to be able to override the default hidden behavior on the sphinx rendered scikit-learn.org. See: https://github.com/scikit-learn/scikit-learn/issues/21755 */display: inline-block !important;position: relative;}#sk-container-id-6 div.sk-text-repr-fallback {display: none;}</style><div id=\"sk-container-id-6\" class=\"sk-top-container\"><div class=\"sk-text-repr-fallback\"><pre>XGBClassifier(base_score=0.5, booster=&#x27;gbtree&#x27;, callbacks=None,\n",
       "              colsample_bylevel=1, colsample_bynode=1, colsample_bytree=1,\n",
       "              early_stopping_rounds=None, enable_categorical=False,\n",
       "              eval_metric=None, gamma=0, gpu_id=-1, grow_policy=&#x27;depthwise&#x27;,\n",
       "              importance_type=None, interaction_constraints=&#x27;&#x27;,\n",
       "              learning_rate=0.300000012, max_bin=256, max_cat_to_onehot=4,\n",
       "              max_delta_step=0, max_depth=5, max_leaves=0, min_child_weight=1,\n",
       "              missing=nan, monotone_constraints=&#x27;()&#x27;, n_estimators=1000,\n",
       "              n_jobs=0, num_classes=3, num_parallel_tree=1,\n",
       "              objective=&#x27;multi:softprob&#x27;, predictor=&#x27;auto&#x27;, random_state=0, ...)</pre><b>In a Jupyter environment, please rerun this cell to show the HTML representation or trust the notebook. <br />On GitHub, the HTML representation is unable to render, please try loading this page with nbviewer.org.</b></div><div class=\"sk-container\" hidden><div class=\"sk-item\"><div class=\"sk-estimator sk-toggleable\"><input class=\"sk-toggleable__control sk-hidden--visually\" id=\"sk-estimator-id-6\" type=\"checkbox\" checked><label for=\"sk-estimator-id-6\" class=\"sk-toggleable__label sk-toggleable__label-arrow\">XGBClassifier</label><div class=\"sk-toggleable__content\"><pre>XGBClassifier(base_score=0.5, booster=&#x27;gbtree&#x27;, callbacks=None,\n",
       "              colsample_bylevel=1, colsample_bynode=1, colsample_bytree=1,\n",
       "              early_stopping_rounds=None, enable_categorical=False,\n",
       "              eval_metric=None, gamma=0, gpu_id=-1, grow_policy=&#x27;depthwise&#x27;,\n",
       "              importance_type=None, interaction_constraints=&#x27;&#x27;,\n",
       "              learning_rate=0.300000012, max_bin=256, max_cat_to_onehot=4,\n",
       "              max_delta_step=0, max_depth=5, max_leaves=0, min_child_weight=1,\n",
       "              missing=nan, monotone_constraints=&#x27;()&#x27;, n_estimators=1000,\n",
       "              n_jobs=0, num_classes=3, num_parallel_tree=1,\n",
       "              objective=&#x27;multi:softprob&#x27;, predictor=&#x27;auto&#x27;, random_state=0, ...)</pre></div></div></div></div></div>"
      ],
      "text/plain": [
       "XGBClassifier(base_score=0.5, booster='gbtree', callbacks=None,\n",
       "              colsample_bylevel=1, colsample_bynode=1, colsample_bytree=1,\n",
       "              early_stopping_rounds=None, enable_categorical=False,\n",
       "              eval_metric=None, gamma=0, gpu_id=-1, grow_policy='depthwise',\n",
       "              importance_type=None, interaction_constraints='',\n",
       "              learning_rate=0.300000012, max_bin=256, max_cat_to_onehot=4,\n",
       "              max_delta_step=0, max_depth=5, max_leaves=0, min_child_weight=1,\n",
       "              missing=nan, monotone_constraints='()', n_estimators=1000,\n",
       "              n_jobs=0, num_classes=3, num_parallel_tree=1,\n",
       "              objective='multi:softprob', predictor='auto', random_state=0, ...)"
      ]
     },
     "execution_count": 197,
     "metadata": {},
     "output_type": "execute_result"
    }
   ],
   "source": [
    "clf = xgb.XGBClassifier(max_depth=5, objective='multi:softprob', n_estimators=1000, \n",
    "                        num_classes=3)\n",
    "\n",
    "clf.fit(x_train, y_train1)  \n",
    "# train1 = clf.predict_proba(train_data)\n",
    "# test1 = clf.predict_proba(test_data)"
   ]
  },
  {
   "cell_type": "code",
   "execution_count": 198,
   "id": "3d9ee0d8",
   "metadata": {},
   "outputs": [],
   "source": [
    "train1 = clf.predict_proba(x_train)\n",
    "pred = clf.predict_proba(x_test)"
   ]
  },
  {
   "cell_type": "code",
   "execution_count": 199,
   "id": "fcbe76a3",
   "metadata": {},
   "outputs": [],
   "source": [
    "# pred = model.predict(x_test)"
   ]
  },
  {
   "cell_type": "code",
   "execution_count": 200,
   "id": "d598303c",
   "metadata": {},
   "outputs": [
    {
     "data": {
      "text/plain": [
       "array([[9.9505252e-01, 4.8595583e-03, 8.7971574e-05],\n",
       "       [4.8876952e-02, 9.4873106e-01, 2.3919328e-03],\n",
       "       [2.7355808e-04, 5.9800604e-03, 9.9374640e-01],\n",
       "       ...,\n",
       "       [1.7293771e-05, 9.9995613e-01, 2.6550935e-05],\n",
       "       [9.2015958e-05, 2.2420498e-05, 9.9988556e-01],\n",
       "       [5.4625657e-06, 2.7139100e-05, 9.9996746e-01]], dtype=float32)"
      ]
     },
     "execution_count": 200,
     "metadata": {},
     "output_type": "execute_result"
    }
   ],
   "source": [
    "pred"
   ]
  },
  {
   "cell_type": "code",
   "execution_count": 201,
   "id": "7d702479",
   "metadata": {},
   "outputs": [
    {
     "data": {
      "text/plain": [
       "array([[1, 0, 0],\n",
       "       [0, 1, 0],\n",
       "       [0, 0, 1],\n",
       "       ...,\n",
       "       [0, 1, 0],\n",
       "       [0, 0, 1],\n",
       "       [0, 0, 1]])"
      ]
     },
     "execution_count": 201,
     "metadata": {},
     "output_type": "execute_result"
    }
   ],
   "source": [
    "y_test"
   ]
  },
  {
   "cell_type": "code",
   "execution_count": 202,
   "id": "fce8d174",
   "metadata": {},
   "outputs": [],
   "source": [
    "y_test1=np.argmax(y_test, axis=1)"
   ]
  },
  {
   "cell_type": "code",
   "execution_count": 203,
   "id": "ceccca56",
   "metadata": {},
   "outputs": [
    {
     "data": {
      "text/plain": [
       "array([0, 1, 2, 2, 2, 0, 0, 1, 0, 2, 2, 2, 0, 0, 1, 2, 0, 1, 1, 2, 1, 0,\n",
       "       1, 1, 0, 2, 0, 1, 2, 1, 2, 1, 2, 2, 2, 1, 2, 0, 0, 2, 0, 0, 1, 0,\n",
       "       0, 0, 2, 2, 1, 0, 2, 1, 0, 2, 1, 0, 0, 1, 0, 0, 1, 2, 2, 2, 2, 1,\n",
       "       2, 2, 1, 2, 0, 1, 2, 2, 1, 2, 0, 2, 0, 0, 2, 1, 0, 1, 1, 1, 2, 0,\n",
       "       1, 2, 2, 0, 0, 0, 0, 2, 0, 2, 2, 0, 2, 0, 0, 1, 1, 2, 1, 2, 0, 0,\n",
       "       1, 1, 0, 2, 2, 0, 0, 2, 1, 1, 1, 2, 0, 1, 1, 0, 2, 0, 0, 2, 1, 2,\n",
       "       0, 0, 0, 1, 1, 1, 1, 1, 2, 2, 2, 1, 1, 1, 0, 2, 0, 0, 1, 0, 1, 0,\n",
       "       0, 1, 1, 2, 2, 1, 1, 0, 2, 2, 2, 2, 2, 1, 0, 2, 2, 0, 0, 0, 1, 0,\n",
       "       2, 0, 1, 1, 2, 0, 0, 2, 2, 0, 1, 0, 0, 0, 1, 1, 1, 2, 2, 0, 1, 0,\n",
       "       0, 0, 0, 2, 1, 0, 1, 2, 2, 0, 2, 1, 0, 1, 2, 2, 0, 0, 2, 1, 2, 0,\n",
       "       0, 2, 0, 2, 1, 1, 2, 0, 1, 0, 0, 1, 2, 0, 2, 1, 1, 0, 2, 0, 1, 1,\n",
       "       2, 0, 0, 1, 1, 0, 2, 1, 1, 1, 1, 2, 2, 2, 1, 1, 0, 1, 2, 0, 1, 2,\n",
       "       2, 2, 1, 1, 0, 1, 2, 0, 2, 1, 2, 1, 1, 0, 0, 1, 0, 1, 0, 2, 2, 2,\n",
       "       2, 2, 1, 0, 1, 1, 2, 2, 2, 1, 2, 1, 2, 2, 1, 1, 1, 0, 0, 1, 2, 1,\n",
       "       2, 0, 0, 0, 2, 1, 0, 0, 2, 0, 2, 2, 0, 1, 0, 0, 0, 2, 1, 0, 1, 1,\n",
       "       1, 2, 0, 2, 2, 0, 2, 2, 0, 2, 2, 1, 1, 0, 2, 1, 2, 2, 2, 2, 0, 0,\n",
       "       2, 0, 1, 0, 2, 0, 0, 0, 2, 0, 1, 0, 0, 1, 0, 1, 2, 2, 2, 2, 1, 1,\n",
       "       0, 2, 1, 0, 1, 0, 2, 0, 0, 0, 2, 2, 2, 1, 0, 1, 2, 2, 0, 0, 2, 1,\n",
       "       2, 1, 1, 1, 2, 1, 0, 1, 1, 0, 1, 0, 1, 1, 1, 0, 2, 0, 1, 0, 1, 1,\n",
       "       0, 2, 0, 0, 0, 1, 0, 0, 2, 1, 1, 1, 0, 1, 2, 0, 2, 2, 1, 1, 2, 2,\n",
       "       0, 0, 1, 2, 2, 1, 0, 2, 2, 1, 1, 1, 1, 1, 0, 0, 0, 0, 1, 0, 1, 0,\n",
       "       2, 0, 2, 0, 2, 0, 2, 1, 1, 1, 1, 2, 1, 0, 1, 0, 1, 0, 2, 0, 1, 2,\n",
       "       0, 0, 2, 1, 0, 2, 1, 0, 1, 1, 1, 1, 2, 2], dtype=int64)"
      ]
     },
     "execution_count": 203,
     "metadata": {},
     "output_type": "execute_result"
    }
   ],
   "source": [
    "y_test1"
   ]
  },
  {
   "cell_type": "code",
   "execution_count": 204,
   "id": "6e2dfa3b",
   "metadata": {},
   "outputs": [],
   "source": [
    "y_pred=np.argmax(pred, axis=1)"
   ]
  },
  {
   "cell_type": "code",
   "execution_count": 205,
   "id": "7f3ad834",
   "metadata": {},
   "outputs": [
    {
     "data": {
      "text/plain": [
       "array([0, 1, 2, 2, 2, 0, 0, 1, 0, 2, 2, 2, 0, 0, 2, 2, 0, 1, 1, 2, 1, 0,\n",
       "       1, 1, 0, 2, 0, 1, 2, 1, 2, 1, 2, 2, 2, 1, 2, 1, 0, 2, 0, 0, 1, 0,\n",
       "       0, 0, 2, 2, 1, 0, 2, 1, 0, 2, 1, 0, 0, 1, 0, 0, 1, 2, 2, 2, 2, 1,\n",
       "       2, 2, 1, 2, 0, 1, 2, 2, 1, 2, 0, 2, 1, 0, 2, 1, 0, 1, 1, 1, 2, 0,\n",
       "       1, 2, 2, 0, 0, 0, 0, 2, 0, 2, 2, 1, 2, 0, 0, 1, 1, 2, 1, 2, 0, 0,\n",
       "       1, 1, 0, 2, 2, 0, 0, 2, 1, 1, 1, 2, 0, 1, 1, 0, 2, 0, 0, 2, 0, 2,\n",
       "       0, 0, 0, 1, 1, 1, 1, 1, 2, 2, 2, 1, 1, 1, 0, 2, 0, 0, 1, 0, 1, 0,\n",
       "       0, 1, 1, 2, 2, 1, 1, 1, 2, 2, 2, 2, 2, 1, 0, 2, 2, 0, 0, 0, 1, 0,\n",
       "       2, 0, 1, 1, 2, 0, 0, 2, 2, 0, 1, 0, 0, 0, 1, 1, 1, 2, 2, 0, 1, 0,\n",
       "       0, 0, 0, 2, 1, 0, 1, 2, 2, 1, 2, 1, 0, 2, 2, 2, 0, 0, 2, 1, 2, 0,\n",
       "       0, 2, 0, 2, 1, 1, 2, 0, 1, 0, 0, 1, 2, 0, 2, 1, 1, 0, 2, 0, 1, 1,\n",
       "       2, 0, 1, 1, 1, 0, 2, 1, 1, 1, 1, 2, 2, 2, 1, 1, 0, 1, 2, 0, 1, 2,\n",
       "       2, 2, 1, 1, 1, 1, 2, 0, 2, 1, 2, 1, 1, 1, 0, 1, 0, 1, 0, 2, 2, 2,\n",
       "       2, 2, 1, 0, 1, 1, 2, 2, 2, 1, 2, 1, 2, 2, 1, 1, 1, 1, 0, 1, 2, 1,\n",
       "       2, 0, 0, 0, 2, 1, 0, 0, 2, 0, 2, 2, 0, 0, 0, 0, 0, 2, 1, 1, 1, 1,\n",
       "       1, 2, 0, 2, 2, 0, 2, 2, 0, 2, 2, 1, 1, 1, 2, 1, 2, 2, 2, 2, 0, 0,\n",
       "       2, 2, 1, 0, 2, 0, 0, 0, 2, 0, 1, 0, 0, 1, 0, 1, 2, 2, 2, 2, 1, 1,\n",
       "       0, 2, 1, 0, 1, 0, 2, 0, 0, 0, 2, 2, 2, 1, 0, 1, 2, 2, 1, 0, 2, 1,\n",
       "       2, 1, 1, 1, 2, 1, 0, 1, 1, 0, 1, 0, 1, 1, 1, 0, 2, 0, 1, 0, 1, 1,\n",
       "       0, 2, 0, 0, 1, 1, 0, 0, 2, 1, 1, 1, 0, 1, 2, 0, 2, 2, 1, 1, 2, 2,\n",
       "       0, 0, 1, 2, 2, 1, 0, 2, 2, 1, 1, 1, 1, 1, 0, 0, 0, 0, 1, 0, 1, 0,\n",
       "       2, 0, 2, 0, 2, 0, 2, 1, 1, 1, 1, 2, 1, 0, 1, 0, 2, 1, 2, 0, 1, 2,\n",
       "       0, 0, 2, 1, 0, 2, 1, 1, 1, 1, 1, 1, 2, 2], dtype=int64)"
      ]
     },
     "execution_count": 205,
     "metadata": {},
     "output_type": "execute_result"
    }
   ],
   "source": [
    "y_pred"
   ]
  },
  {
   "cell_type": "code",
   "execution_count": 206,
   "id": "87435ede",
   "metadata": {},
   "outputs": [],
   "source": [
    "from sklearn import metrics"
   ]
  },
  {
   "cell_type": "code",
   "execution_count": 207,
   "id": "8a81d281",
   "metadata": {},
   "outputs": [],
   "source": [
    "y_test_binarized=label_binarize(y_test1,classes=np.unique(y_test1))\n",
    "classes=np.unique(y_test1)"
   ]
  },
  {
   "cell_type": "code",
   "execution_count": 208,
   "id": "0bf91249",
   "metadata": {},
   "outputs": [],
   "source": [
    "y_prednew=label_binarize(y_pred,classes=np.unique(y_pred))"
   ]
  },
  {
   "cell_type": "code",
   "execution_count": 209,
   "id": "8b875570",
   "metadata": {},
   "outputs": [
    {
     "data": {
      "text/plain": [
       "array([[1, 0, 0],\n",
       "       [0, 1, 0],\n",
       "       [0, 0, 1],\n",
       "       ...,\n",
       "       [0, 1, 0],\n",
       "       [0, 0, 1],\n",
       "       [0, 0, 1]])"
      ]
     },
     "execution_count": 209,
     "metadata": {},
     "output_type": "execute_result"
    }
   ],
   "source": [
    "y_prednew"
   ]
  },
  {
   "cell_type": "code",
   "execution_count": 210,
   "id": "98c109f0",
   "metadata": {},
   "outputs": [
    {
     "data": {
      "text/plain": [
       "3"
      ]
     },
     "execution_count": 210,
     "metadata": {},
     "output_type": "execute_result"
    }
   ],
   "source": [
    "classes.shape[0]"
   ]
  },
  {
   "cell_type": "code",
   "execution_count": 211,
   "id": "203bb5af",
   "metadata": {},
   "outputs": [
    {
     "data": {
      "text/plain": [
       "array([[1, 0, 0],\n",
       "       [0, 1, 0],\n",
       "       [0, 0, 1],\n",
       "       ...,\n",
       "       [0, 1, 0],\n",
       "       [0, 0, 1],\n",
       "       [0, 0, 1]])"
      ]
     },
     "execution_count": 211,
     "metadata": {},
     "output_type": "execute_result"
    }
   ],
   "source": [
    "y_test_binarized"
   ]
  },
  {
   "cell_type": "code",
   "execution_count": 212,
   "id": "6e670657",
   "metadata": {},
   "outputs": [],
   "source": [
    "# y_test2=np.array(y_test)\n",
    "# y_pred1=np.array(pred)\n",
    "# y_final=np.concatenate((1-y_pred1,y_pred1),axis=1)"
   ]
  },
  {
   "cell_type": "code",
   "execution_count": 213,
   "id": "02fc9ed2",
   "metadata": {},
   "outputs": [],
   "source": [
    "# y_test2"
   ]
  },
  {
   "cell_type": "code",
   "execution_count": 214,
   "id": "bb2e5d26",
   "metadata": {},
   "outputs": [
    {
     "data": {
      "image/png": "[encoded data removed]",
      "text/plain": [
       "<Figure size 432x288 with 1 Axes>"
      ]
     },
     "metadata": {
      "needs_background": "light"
     },
     "output_type": "display_data"
    }
   ],
   "source": [
    "\n",
    "# roc curve for classes\n",
    "fpr = dict()\n",
    "tpr = dict()\n",
    "thresh =dict()\n",
    "roc_auc = dict()\n",
    "\n",
    "n_class = classes.shape[0]\n",
    "colors = ['yellow', 'red', 'green']\n",
    "\n",
    "for i, color in zip(range(n_class),colors):    \n",
    "    fpr[i], tpr[i], thresh[i] = metrics.roc_curve(y_test[:,i],y_prednew[:,i])\n",
    "#     fpr[i], tpr[i], thresh[i] = metrics.roc_curve(y_test2,y_final)\n",
    "    roc_auc[i] = metrics.auc(fpr[i], tpr[i])\n",
    "    \n",
    "    # plotting    \n",
    "    plt.plot(fpr[i], tpr[i], linestyle='--',color=color, \n",
    "             label='%s vs Rest (AUC=%0.2f)'%(classes[i],roc_auc[i]))\n",
    "\n",
    "plt.plot([0,1],[0,1],'b--')\n",
    "plt.xlim([0,1])\n",
    "plt.ylim([0,1.05])\n",
    "plt.title('Multiclass ROC curve')\n",
    "plt.xlabel('False Positive Rate')\n",
    "plt.ylabel('True Positive rate')\n",
    "plt.legend(loc='lower right')\n",
    "plt.show()"
   ]
  },
  {
   "cell_type": "code",
   "execution_count": 215,
   "id": "5c1f7843",
   "metadata": {},
   "outputs": [
    {
     "data": {
      "text/plain": [
       "array([[154,  15,   1],\n",
       "       [  2, 160,   3],\n",
       "       [  0,   0, 163]], dtype=int64)"
      ]
     },
     "execution_count": 215,
     "metadata": {},
     "output_type": "execute_result"
    }
   ],
   "source": [
    "confusion_matrix(y_test1,y_pred)"
   ]
  },
  {
   "cell_type": "code",
   "execution_count": 216,
   "id": "21da2ada",
   "metadata": {},
   "outputs": [
    {
     "name": "stdout",
     "output_type": "stream",
     "text": [
      "classification_report\n",
      "               precision    recall  f1-score   support\n",
      "\n",
      "           0       0.99      0.91      0.94       170\n",
      "           1       0.91      0.97      0.94       165\n",
      "           2       0.98      1.00      0.99       163\n",
      "\n",
      "    accuracy                           0.96       498\n",
      "   macro avg       0.96      0.96      0.96       498\n",
      "weighted avg       0.96      0.96      0.96       498\n",
      "\n"
     ]
    }
   ],
   "source": [
    "print(\"classification_report\\n\",classification_report(y_test1,y_pred))"
   ]
  },
  {
   "cell_type": "code",
   "execution_count": 217,
   "id": "b1a58bc2",
   "metadata": {},
   "outputs": [
    {
     "name": "stdout",
     "output_type": "stream",
     "text": [
      "Accuracy: 95.78%\n"
     ]
    }
   ],
   "source": [
    "accuracy = metrics.accuracy_score(y_test, y_prednew)\n",
    "print(\"Accuracy: %.2f%%\" % (accuracy * 100.0))"
   ]
  },
  {
   "cell_type": "code",
   "execution_count": 146,
   "id": "1b35b856",
   "metadata": {},
   "outputs": [
    {
     "ename": "AttributeError",
     "evalue": "module 'sklearn.metrics' has no attribute 'evaluate'",
     "output_type": "error",
     "traceback": [
      "\u001b[1;31m---------------------------------------------------------------------------\u001b[0m",
      "\u001b[1;31mAttributeError\u001b[0m                            Traceback (most recent call last)",
      "Input \u001b[1;32mIn [146]\u001b[0m, in \u001b[0;36m<cell line: 1>\u001b[1;34m()\u001b[0m\n\u001b[1;32m----> 1\u001b[0m train_scores \u001b[38;5;241m=\u001b[39m \u001b[43mmetrics\u001b[49m\u001b[38;5;241;43m.\u001b[39;49m\u001b[43mevaluate\u001b[49m(x_train, y_train)\n\u001b[0;32m      2\u001b[0m \u001b[38;5;66;03m# val_scores = model.evaluate(x_train, y_train)\u001b[39;00m\n\u001b[0;32m      3\u001b[0m test_scores \u001b[38;5;241m=\u001b[39m clf\u001b[38;5;241m.\u001b[39mevaluate(x_test, y_test)\n",
      "\u001b[1;31mAttributeError\u001b[0m: module 'sklearn.metrics' has no attribute 'evaluate'"
     ]
    }
   ],
   "source": [
    "train_scores = model.evaluate(x_train, y_train)\n",
    "# val_scores = model.evaluate(x_train, y_train)\n",
    "test_scores = model.evaluate(x_test, y_test)\n",
    "\n",
    "print(\"Training Accuracy: %.2f%%\"%(train_scores[1] * 100))\n",
    "# print(\"Validation Accuracy: %.2f%%\"%(val_scores[1] * 100))\n",
    "print(\"Testing Accuracy: %.2f%%\"%(test_scores[1] * 100))"
   ]
  },
  {
   "cell_type": "code",
   "execution_count": 63,
   "id": "cc863abd",
   "metadata": {},
   "outputs": [
    {
     "data": {
      "text/plain": [
       "0.9729310797954546"
      ]
     },
     "execution_count": 63,
     "metadata": {},
     "output_type": "execute_result"
    }
   ],
   "source": [
    "from sklearn import metrics\n",
    "auc = metrics.roc_auc_score(y_test, y_prednew, multi_class='ovo')\n",
    "auc"
   ]
  },
  {
   "cell_type": "code",
   "execution_count": null,
   "id": "5953bcbc",
   "metadata": {},
   "outputs": [],
   "source": []
  }
 ],
 "metadata": {
  "kernelspec": {
   "display_name": "Python 3 (ipykernel)",
   "language": "python",
   "name": "python3"
  },
  "language_info": {
   "codemirror_mode": {
    "name": "ipython",
    "version": 3
   },
   "file_extension": ".py",
   "mimetype": "text/x-python",
   "name": "python",
   "nbconvert_exporter": "python",
   "pygments_lexer": "ipython3",
   "version": "3.9.12"
  }
 },
 "nbformat": 4,
 "nbformat_minor": 5
}
