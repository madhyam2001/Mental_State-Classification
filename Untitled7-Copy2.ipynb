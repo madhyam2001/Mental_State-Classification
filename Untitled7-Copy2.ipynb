{
 "cells": [
  {
   "cell_type": "code",
   "execution_count": 1,
   "id": "b0a09631",
   "metadata": {},
   "outputs": [],
   "source": [
    "import tensorflow as tf\n",
    "from tensorflow import keras\n",
    "from tensorflow.keras import callbacks, layers, models\n",
    "from tensorflow.keras.utils import to_categorical\n",
    "\n",
    "import numpy as np\n",
    "\n",
    "import matplotlib.pyplot as plt\n",
    "import pandas as pd\n",
    "\n",
    "from sklearn.preprocessing import StandardScaler\n",
    "from sklearn.preprocessing import LabelEncoder\n",
    "from sklearn.preprocessing import label_binarize\n",
    "from sklearn.model_selection import cross_val_score, train_test_split\n",
    "from sklearn.metrics import confusion_matrix, classification_report\n",
    "import seaborn as sns"
   ]
  },
  {
   "cell_type": "code",
   "execution_count": 2,
   "id": "af08a89f",
   "metadata": {},
   "outputs": [],
   "source": [
    "df= pd.read_csv('mental-state.csv')\n",
    "data_new= pd.get_dummies(df, columns = ['Label'])"
   ]
  },
  {
   "cell_type": "code",
   "execution_count": 3,
   "id": "2b1c480a",
   "metadata": {},
   "outputs": [
    {
     "data": {
      "text/html": [
       "<div>\n",
       "<style scoped>\n",
       "    .dataframe tbody tr th:only-of-type {\n",
       "        vertical-align: middle;\n",
       "    }\n",
       "\n",
       "    .dataframe tbody tr th {\n",
       "        vertical-align: top;\n",
       "    }\n",
       "\n",
       "    .dataframe thead th {\n",
       "        text-align: right;\n",
       "    }\n",
       "</style>\n",
       "<table border=\"1\" class=\"dataframe\">\n",
       "  <thead>\n",
       "    <tr style=\"text-align: right;\">\n",
       "      <th></th>\n",
       "      <th>lag1_mean_0</th>\n",
       "      <th>lag1_mean_1</th>\n",
       "      <th>lag1_mean_2</th>\n",
       "      <th>lag1_mean_3</th>\n",
       "      <th>lag1_mean_d_h2h1_0</th>\n",
       "      <th>lag1_mean_d_h2h1_1</th>\n",
       "      <th>lag1_mean_d_h2h1_2</th>\n",
       "      <th>lag1_mean_d_h2h1_3</th>\n",
       "      <th>lag1_mean_q1_0</th>\n",
       "      <th>lag1_mean_q1_1</th>\n",
       "      <th>...</th>\n",
       "      <th>freq_689_3</th>\n",
       "      <th>freq_699_3</th>\n",
       "      <th>freq_709_3</th>\n",
       "      <th>freq_720_3</th>\n",
       "      <th>freq_730_3</th>\n",
       "      <th>freq_740_3</th>\n",
       "      <th>freq_750_3</th>\n",
       "      <th>Label_0.0</th>\n",
       "      <th>Label_1.0</th>\n",
       "      <th>Label_2.0</th>\n",
       "    </tr>\n",
       "  </thead>\n",
       "  <tbody>\n",
       "    <tr>\n",
       "      <th>0</th>\n",
       "      <td>25.781648</td>\n",
       "      <td>33.836367</td>\n",
       "      <td>-92.769629</td>\n",
       "      <td>19.187957</td>\n",
       "      <td>-1.542262</td>\n",
       "      <td>0.197462</td>\n",
       "      <td>-119.561133</td>\n",
       "      <td>2.032654</td>\n",
       "      <td>21.596272</td>\n",
       "      <td>33.965587</td>\n",
       "      <td>...</td>\n",
       "      <td>0.000547</td>\n",
       "      <td>0.000381</td>\n",
       "      <td>0.000350</td>\n",
       "      <td>0.000453</td>\n",
       "      <td>0.000442</td>\n",
       "      <td>0.000325</td>\n",
       "      <td>0.000209</td>\n",
       "      <td>0</td>\n",
       "      <td>0</td>\n",
       "      <td>1</td>\n",
       "    </tr>\n",
       "    <tr>\n",
       "      <th>1</th>\n",
       "      <td>29.357891</td>\n",
       "      <td>26.792566</td>\n",
       "      <td>417.203910</td>\n",
       "      <td>19.472121</td>\n",
       "      <td>-38.797263</td>\n",
       "      <td>-16.897194</td>\n",
       "      <td>-29.368531</td>\n",
       "      <td>-9.055370</td>\n",
       "      <td>44.647424</td>\n",
       "      <td>40.893307</td>\n",
       "      <td>...</td>\n",
       "      <td>0.001122</td>\n",
       "      <td>0.000521</td>\n",
       "      <td>0.000624</td>\n",
       "      <td>0.000439</td>\n",
       "      <td>0.001249</td>\n",
       "      <td>0.000727</td>\n",
       "      <td>0.000801</td>\n",
       "      <td>0</td>\n",
       "      <td>0</td>\n",
       "      <td>1</td>\n",
       "    </tr>\n",
       "    <tr>\n",
       "      <th>2</th>\n",
       "      <td>28.451926</td>\n",
       "      <td>31.076434</td>\n",
       "      <td>72.231301</td>\n",
       "      <td>14.245938</td>\n",
       "      <td>-13.225057</td>\n",
       "      <td>-0.614138</td>\n",
       "      <td>-28.331698</td>\n",
       "      <td>-8.858742</td>\n",
       "      <td>31.450289</td>\n",
       "      <td>30.692883</td>\n",
       "      <td>...</td>\n",
       "      <td>0.000327</td>\n",
       "      <td>0.000197</td>\n",
       "      <td>0.000833</td>\n",
       "      <td>0.000909</td>\n",
       "      <td>0.000699</td>\n",
       "      <td>0.001165</td>\n",
       "      <td>0.000616</td>\n",
       "      <td>0</td>\n",
       "      <td>0</td>\n",
       "      <td>1</td>\n",
       "    </tr>\n",
       "    <tr>\n",
       "      <th>3</th>\n",
       "      <td>21.282184</td>\n",
       "      <td>19.985184</td>\n",
       "      <td>16.220094</td>\n",
       "      <td>39.787312</td>\n",
       "      <td>1.847866</td>\n",
       "      <td>0.670216</td>\n",
       "      <td>-1.820355</td>\n",
       "      <td>20.220724</td>\n",
       "      <td>21.404679</td>\n",
       "      <td>20.777411</td>\n",
       "      <td>...</td>\n",
       "      <td>0.006891</td>\n",
       "      <td>0.010546</td>\n",
       "      <td>0.009583</td>\n",
       "      <td>0.011158</td>\n",
       "      <td>0.008853</td>\n",
       "      <td>0.004551</td>\n",
       "      <td>0.002287</td>\n",
       "      <td>0</td>\n",
       "      <td>1</td>\n",
       "      <td>0</td>\n",
       "    </tr>\n",
       "    <tr>\n",
       "      <th>4</th>\n",
       "      <td>20.431516</td>\n",
       "      <td>28.982168</td>\n",
       "      <td>27.540246</td>\n",
       "      <td>19.960398</td>\n",
       "      <td>2.491458</td>\n",
       "      <td>-6.020503</td>\n",
       "      <td>-1.071166</td>\n",
       "      <td>2.655259</td>\n",
       "      <td>16.295039</td>\n",
       "      <td>32.658163</td>\n",
       "      <td>...</td>\n",
       "      <td>0.014492</td>\n",
       "      <td>0.002949</td>\n",
       "      <td>0.004575</td>\n",
       "      <td>0.008305</td>\n",
       "      <td>0.007202</td>\n",
       "      <td>0.006957</td>\n",
       "      <td>0.009836</td>\n",
       "      <td>0</td>\n",
       "      <td>0</td>\n",
       "      <td>1</td>\n",
       "    </tr>\n",
       "    <tr>\n",
       "      <th>...</th>\n",
       "      <td>...</td>\n",
       "      <td>...</td>\n",
       "      <td>...</td>\n",
       "      <td>...</td>\n",
       "      <td>...</td>\n",
       "      <td>...</td>\n",
       "      <td>...</td>\n",
       "      <td>...</td>\n",
       "      <td>...</td>\n",
       "      <td>...</td>\n",
       "      <td>...</td>\n",
       "      <td>...</td>\n",
       "      <td>...</td>\n",
       "      <td>...</td>\n",
       "      <td>...</td>\n",
       "      <td>...</td>\n",
       "      <td>...</td>\n",
       "      <td>...</td>\n",
       "      <td>...</td>\n",
       "      <td>...</td>\n",
       "      <td>...</td>\n",
       "    </tr>\n",
       "    <tr>\n",
       "      <th>2474</th>\n",
       "      <td>15.762328</td>\n",
       "      <td>19.113555</td>\n",
       "      <td>23.696867</td>\n",
       "      <td>7.568395</td>\n",
       "      <td>-6.503336</td>\n",
       "      <td>6.867187</td>\n",
       "      <td>-11.955396</td>\n",
       "      <td>-16.519912</td>\n",
       "      <td>19.838319</td>\n",
       "      <td>14.333094</td>\n",
       "      <td>...</td>\n",
       "      <td>0.004102</td>\n",
       "      <td>0.003156</td>\n",
       "      <td>0.003659</td>\n",
       "      <td>0.010179</td>\n",
       "      <td>0.004591</td>\n",
       "      <td>0.013817</td>\n",
       "      <td>0.004536</td>\n",
       "      <td>1</td>\n",
       "      <td>0</td>\n",
       "      <td>0</td>\n",
       "    </tr>\n",
       "    <tr>\n",
       "      <th>2475</th>\n",
       "      <td>34.675582</td>\n",
       "      <td>34.200645</td>\n",
       "      <td>-57.624820</td>\n",
       "      <td>-4.825609</td>\n",
       "      <td>7.382353</td>\n",
       "      <td>2.324416</td>\n",
       "      <td>-1.341208</td>\n",
       "      <td>-4.178625</td>\n",
       "      <td>26.383597</td>\n",
       "      <td>28.782987</td>\n",
       "      <td>...</td>\n",
       "      <td>0.001702</td>\n",
       "      <td>0.003121</td>\n",
       "      <td>0.002686</td>\n",
       "      <td>0.001645</td>\n",
       "      <td>0.001770</td>\n",
       "      <td>0.001038</td>\n",
       "      <td>0.001973</td>\n",
       "      <td>0</td>\n",
       "      <td>0</td>\n",
       "      <td>1</td>\n",
       "    </tr>\n",
       "    <tr>\n",
       "      <th>2476</th>\n",
       "      <td>29.813809</td>\n",
       "      <td>29.623031</td>\n",
       "      <td>-86.503988</td>\n",
       "      <td>7.532121</td>\n",
       "      <td>-19.581287</td>\n",
       "      <td>-0.628400</td>\n",
       "      <td>133.947160</td>\n",
       "      <td>-2.049096</td>\n",
       "      <td>45.484851</td>\n",
       "      <td>32.163999</td>\n",
       "      <td>...</td>\n",
       "      <td>0.000263</td>\n",
       "      <td>0.000701</td>\n",
       "      <td>0.000797</td>\n",
       "      <td>0.001096</td>\n",
       "      <td>0.000388</td>\n",
       "      <td>0.000529</td>\n",
       "      <td>0.001079</td>\n",
       "      <td>0</td>\n",
       "      <td>0</td>\n",
       "      <td>1</td>\n",
       "    </tr>\n",
       "    <tr>\n",
       "      <th>2477</th>\n",
       "      <td>59.453973</td>\n",
       "      <td>17.944332</td>\n",
       "      <td>-10.164238</td>\n",
       "      <td>42.568211</td>\n",
       "      <td>-1.300655</td>\n",
       "      <td>-19.993690</td>\n",
       "      <td>-54.331696</td>\n",
       "      <td>12.947622</td>\n",
       "      <td>55.203380</td>\n",
       "      <td>40.228490</td>\n",
       "      <td>...</td>\n",
       "      <td>0.004063</td>\n",
       "      <td>0.001662</td>\n",
       "      <td>0.002665</td>\n",
       "      <td>0.002353</td>\n",
       "      <td>0.003976</td>\n",
       "      <td>0.001660</td>\n",
       "      <td>0.003229</td>\n",
       "      <td>0</td>\n",
       "      <td>0</td>\n",
       "      <td>1</td>\n",
       "    </tr>\n",
       "    <tr>\n",
       "      <th>2478</th>\n",
       "      <td>22.893855</td>\n",
       "      <td>30.412723</td>\n",
       "      <td>26.029590</td>\n",
       "      <td>14.249789</td>\n",
       "      <td>-7.101478</td>\n",
       "      <td>-0.551013</td>\n",
       "      <td>3.735563</td>\n",
       "      <td>-9.372750</td>\n",
       "      <td>30.411574</td>\n",
       "      <td>30.079904</td>\n",
       "      <td>...</td>\n",
       "      <td>0.002528</td>\n",
       "      <td>0.005357</td>\n",
       "      <td>0.004612</td>\n",
       "      <td>0.004503</td>\n",
       "      <td>0.003669</td>\n",
       "      <td>0.002316</td>\n",
       "      <td>0.004765</td>\n",
       "      <td>0</td>\n",
       "      <td>1</td>\n",
       "      <td>0</td>\n",
       "    </tr>\n",
       "  </tbody>\n",
       "</table>\n",
       "<p>2479 rows × 991 columns</p>\n",
       "</div>"
      ],
      "text/plain": [
       "      lag1_mean_0  lag1_mean_1  lag1_mean_2  lag1_mean_3  lag1_mean_d_h2h1_0  \\\n",
       "0       25.781648    33.836367   -92.769629    19.187957           -1.542262   \n",
       "1       29.357891    26.792566   417.203910    19.472121          -38.797263   \n",
       "2       28.451926    31.076434    72.231301    14.245938          -13.225057   \n",
       "3       21.282184    19.985184    16.220094    39.787312            1.847866   \n",
       "4       20.431516    28.982168    27.540246    19.960398            2.491458   \n",
       "...           ...          ...          ...          ...                 ...   \n",
       "2474    15.762328    19.113555    23.696867     7.568395           -6.503336   \n",
       "2475    34.675582    34.200645   -57.624820    -4.825609            7.382353   \n",
       "2476    29.813809    29.623031   -86.503988     7.532121          -19.581287   \n",
       "2477    59.453973    17.944332   -10.164238    42.568211           -1.300655   \n",
       "2478    22.893855    30.412723    26.029590    14.249789           -7.101478   \n",
       "\n",
       "      lag1_mean_d_h2h1_1  lag1_mean_d_h2h1_2  lag1_mean_d_h2h1_3  \\\n",
       "0               0.197462         -119.561133            2.032654   \n",
       "1             -16.897194          -29.368531           -9.055370   \n",
       "2              -0.614138          -28.331698           -8.858742   \n",
       "3               0.670216           -1.820355           20.220724   \n",
       "4              -6.020503           -1.071166            2.655259   \n",
       "...                  ...                 ...                 ...   \n",
       "2474            6.867187          -11.955396          -16.519912   \n",
       "2475            2.324416           -1.341208           -4.178625   \n",
       "2476           -0.628400          133.947160           -2.049096   \n",
       "2477          -19.993690          -54.331696           12.947622   \n",
       "2478           -0.551013            3.735563           -9.372750   \n",
       "\n",
       "      lag1_mean_q1_0  lag1_mean_q1_1  ...  freq_689_3  freq_699_3  freq_709_3  \\\n",
       "0          21.596272       33.965587  ...    0.000547    0.000381    0.000350   \n",
       "1          44.647424       40.893307  ...    0.001122    0.000521    0.000624   \n",
       "2          31.450289       30.692883  ...    0.000327    0.000197    0.000833   \n",
       "3          21.404679       20.777411  ...    0.006891    0.010546    0.009583   \n",
       "4          16.295039       32.658163  ...    0.014492    0.002949    0.004575   \n",
       "...              ...             ...  ...         ...         ...         ...   \n",
       "2474       19.838319       14.333094  ...    0.004102    0.003156    0.003659   \n",
       "2475       26.383597       28.782987  ...    0.001702    0.003121    0.002686   \n",
       "2476       45.484851       32.163999  ...    0.000263    0.000701    0.000797   \n",
       "2477       55.203380       40.228490  ...    0.004063    0.001662    0.002665   \n",
       "2478       30.411574       30.079904  ...    0.002528    0.005357    0.004612   \n",
       "\n",
       "      freq_720_3  freq_730_3  freq_740_3  freq_750_3  Label_0.0  Label_1.0  \\\n",
       "0       0.000453    0.000442    0.000325    0.000209          0          0   \n",
       "1       0.000439    0.001249    0.000727    0.000801          0          0   \n",
       "2       0.000909    0.000699    0.001165    0.000616          0          0   \n",
       "3       0.011158    0.008853    0.004551    0.002287          0          1   \n",
       "4       0.008305    0.007202    0.006957    0.009836          0          0   \n",
       "...          ...         ...         ...         ...        ...        ...   \n",
       "2474    0.010179    0.004591    0.013817    0.004536          1          0   \n",
       "2475    0.001645    0.001770    0.001038    0.001973          0          0   \n",
       "2476    0.001096    0.000388    0.000529    0.001079          0          0   \n",
       "2477    0.002353    0.003976    0.001660    0.003229          0          0   \n",
       "2478    0.004503    0.003669    0.002316    0.004765          0          1   \n",
       "\n",
       "      Label_2.0  \n",
       "0             1  \n",
       "1             1  \n",
       "2             1  \n",
       "3             0  \n",
       "4             1  \n",
       "...         ...  \n",
       "2474          0  \n",
       "2475          1  \n",
       "2476          1  \n",
       "2477          1  \n",
       "2478          0  \n",
       "\n",
       "[2479 rows x 991 columns]"
      ]
     },
     "execution_count": 3,
     "metadata": {},
     "output_type": "execute_result"
    }
   ],
   "source": [
    "data_new"
   ]
  },
  {
   "cell_type": "code",
   "execution_count": 4,
   "id": "e9bc33e3",
   "metadata": {},
   "outputs": [
    {
     "data": {
      "text/html": [
       "<div>\n",
       "<style scoped>\n",
       "    .dataframe tbody tr th:only-of-type {\n",
       "        vertical-align: middle;\n",
       "    }\n",
       "\n",
       "    .dataframe tbody tr th {\n",
       "        vertical-align: top;\n",
       "    }\n",
       "\n",
       "    .dataframe thead th {\n",
       "        text-align: right;\n",
       "    }\n",
       "</style>\n",
       "<table border=\"1\" class=\"dataframe\">\n",
       "  <thead>\n",
       "    <tr style=\"text-align: right;\">\n",
       "      <th></th>\n",
       "      <th>lag1_mean_0</th>\n",
       "      <th>lag1_mean_1</th>\n",
       "      <th>lag1_mean_2</th>\n",
       "      <th>lag1_mean_3</th>\n",
       "      <th>lag1_mean_d_h2h1_0</th>\n",
       "      <th>lag1_mean_d_h2h1_1</th>\n",
       "      <th>lag1_mean_d_h2h1_2</th>\n",
       "      <th>lag1_mean_d_h2h1_3</th>\n",
       "      <th>lag1_mean_q1_0</th>\n",
       "      <th>lag1_mean_q1_1</th>\n",
       "      <th>...</th>\n",
       "      <th>freq_659_3</th>\n",
       "      <th>freq_669_3</th>\n",
       "      <th>freq_679_3</th>\n",
       "      <th>freq_689_3</th>\n",
       "      <th>freq_699_3</th>\n",
       "      <th>freq_709_3</th>\n",
       "      <th>freq_720_3</th>\n",
       "      <th>freq_730_3</th>\n",
       "      <th>freq_740_3</th>\n",
       "      <th>freq_750_3</th>\n",
       "    </tr>\n",
       "  </thead>\n",
       "  <tbody>\n",
       "    <tr>\n",
       "      <th>0</th>\n",
       "      <td>25.781648</td>\n",
       "      <td>33.836367</td>\n",
       "      <td>-92.769629</td>\n",
       "      <td>19.187957</td>\n",
       "      <td>-1.542262</td>\n",
       "      <td>0.197462</td>\n",
       "      <td>-119.561133</td>\n",
       "      <td>2.032654</td>\n",
       "      <td>21.596272</td>\n",
       "      <td>33.965587</td>\n",
       "      <td>...</td>\n",
       "      <td>0.000579</td>\n",
       "      <td>0.000230</td>\n",
       "      <td>0.000351</td>\n",
       "      <td>0.000547</td>\n",
       "      <td>0.000381</td>\n",
       "      <td>0.000350</td>\n",
       "      <td>0.000453</td>\n",
       "      <td>0.000442</td>\n",
       "      <td>0.000325</td>\n",
       "      <td>0.000209</td>\n",
       "    </tr>\n",
       "    <tr>\n",
       "      <th>1</th>\n",
       "      <td>29.357891</td>\n",
       "      <td>26.792566</td>\n",
       "      <td>417.203910</td>\n",
       "      <td>19.472121</td>\n",
       "      <td>-38.797263</td>\n",
       "      <td>-16.897194</td>\n",
       "      <td>-29.368531</td>\n",
       "      <td>-9.055370</td>\n",
       "      <td>44.647424</td>\n",
       "      <td>40.893307</td>\n",
       "      <td>...</td>\n",
       "      <td>0.000448</td>\n",
       "      <td>0.001671</td>\n",
       "      <td>0.000740</td>\n",
       "      <td>0.001122</td>\n",
       "      <td>0.000521</td>\n",
       "      <td>0.000624</td>\n",
       "      <td>0.000439</td>\n",
       "      <td>0.001249</td>\n",
       "      <td>0.000727</td>\n",
       "      <td>0.000801</td>\n",
       "    </tr>\n",
       "    <tr>\n",
       "      <th>2</th>\n",
       "      <td>28.451926</td>\n",
       "      <td>31.076434</td>\n",
       "      <td>72.231301</td>\n",
       "      <td>14.245938</td>\n",
       "      <td>-13.225057</td>\n",
       "      <td>-0.614138</td>\n",
       "      <td>-28.331698</td>\n",
       "      <td>-8.858742</td>\n",
       "      <td>31.450289</td>\n",
       "      <td>30.692883</td>\n",
       "      <td>...</td>\n",
       "      <td>0.001028</td>\n",
       "      <td>0.000748</td>\n",
       "      <td>0.000569</td>\n",
       "      <td>0.000327</td>\n",
       "      <td>0.000197</td>\n",
       "      <td>0.000833</td>\n",
       "      <td>0.000909</td>\n",
       "      <td>0.000699</td>\n",
       "      <td>0.001165</td>\n",
       "      <td>0.000616</td>\n",
       "    </tr>\n",
       "    <tr>\n",
       "      <th>3</th>\n",
       "      <td>21.282184</td>\n",
       "      <td>19.985184</td>\n",
       "      <td>16.220094</td>\n",
       "      <td>39.787312</td>\n",
       "      <td>1.847866</td>\n",
       "      <td>0.670216</td>\n",
       "      <td>-1.820355</td>\n",
       "      <td>20.220724</td>\n",
       "      <td>21.404679</td>\n",
       "      <td>20.777411</td>\n",
       "      <td>...</td>\n",
       "      <td>0.015502</td>\n",
       "      <td>0.000990</td>\n",
       "      <td>0.005644</td>\n",
       "      <td>0.006891</td>\n",
       "      <td>0.010546</td>\n",
       "      <td>0.009583</td>\n",
       "      <td>0.011158</td>\n",
       "      <td>0.008853</td>\n",
       "      <td>0.004551</td>\n",
       "      <td>0.002287</td>\n",
       "    </tr>\n",
       "    <tr>\n",
       "      <th>4</th>\n",
       "      <td>20.431516</td>\n",
       "      <td>28.982168</td>\n",
       "      <td>27.540246</td>\n",
       "      <td>19.960398</td>\n",
       "      <td>2.491458</td>\n",
       "      <td>-6.020503</td>\n",
       "      <td>-1.071166</td>\n",
       "      <td>2.655259</td>\n",
       "      <td>16.295039</td>\n",
       "      <td>32.658163</td>\n",
       "      <td>...</td>\n",
       "      <td>0.013212</td>\n",
       "      <td>0.001659</td>\n",
       "      <td>0.014379</td>\n",
       "      <td>0.014492</td>\n",
       "      <td>0.002949</td>\n",
       "      <td>0.004575</td>\n",
       "      <td>0.008305</td>\n",
       "      <td>0.007202</td>\n",
       "      <td>0.006957</td>\n",
       "      <td>0.009836</td>\n",
       "    </tr>\n",
       "  </tbody>\n",
       "</table>\n",
       "<p>5 rows × 988 columns</p>\n",
       "</div>"
      ],
      "text/plain": [
       "   lag1_mean_0  lag1_mean_1  lag1_mean_2  lag1_mean_3  lag1_mean_d_h2h1_0  \\\n",
       "0    25.781648    33.836367   -92.769629    19.187957           -1.542262   \n",
       "1    29.357891    26.792566   417.203910    19.472121          -38.797263   \n",
       "2    28.451926    31.076434    72.231301    14.245938          -13.225057   \n",
       "3    21.282184    19.985184    16.220094    39.787312            1.847866   \n",
       "4    20.431516    28.982168    27.540246    19.960398            2.491458   \n",
       "\n",
       "   lag1_mean_d_h2h1_1  lag1_mean_d_h2h1_2  lag1_mean_d_h2h1_3  lag1_mean_q1_0  \\\n",
       "0            0.197462         -119.561133            2.032654       21.596272   \n",
       "1          -16.897194          -29.368531           -9.055370       44.647424   \n",
       "2           -0.614138          -28.331698           -8.858742       31.450289   \n",
       "3            0.670216           -1.820355           20.220724       21.404679   \n",
       "4           -6.020503           -1.071166            2.655259       16.295039   \n",
       "\n",
       "   lag1_mean_q1_1  ...  freq_659_3  freq_669_3  freq_679_3  freq_689_3  \\\n",
       "0       33.965587  ...    0.000579    0.000230    0.000351    0.000547   \n",
       "1       40.893307  ...    0.000448    0.001671    0.000740    0.001122   \n",
       "2       30.692883  ...    0.001028    0.000748    0.000569    0.000327   \n",
       "3       20.777411  ...    0.015502    0.000990    0.005644    0.006891   \n",
       "4       32.658163  ...    0.013212    0.001659    0.014379    0.014492   \n",
       "\n",
       "   freq_699_3  freq_709_3  freq_720_3  freq_730_3  freq_740_3  freq_750_3  \n",
       "0    0.000381    0.000350    0.000453    0.000442    0.000325    0.000209  \n",
       "1    0.000521    0.000624    0.000439    0.001249    0.000727    0.000801  \n",
       "2    0.000197    0.000833    0.000909    0.000699    0.001165    0.000616  \n",
       "3    0.010546    0.009583    0.011158    0.008853    0.004551    0.002287  \n",
       "4    0.002949    0.004575    0.008305    0.007202    0.006957    0.009836  \n",
       "\n",
       "[5 rows x 988 columns]"
      ]
     },
     "execution_count": 4,
     "metadata": {},
     "output_type": "execute_result"
    }
   ],
   "source": [
    "x=data_new.loc[:,'lag1_mean_0':'freq_750_3']\n",
    "x.head()"
   ]
  },
  {
   "cell_type": "code",
   "execution_count": 5,
   "id": "506c9b6b",
   "metadata": {},
   "outputs": [
    {
     "data": {
      "text/html": [
       "<div>\n",
       "<style scoped>\n",
       "    .dataframe tbody tr th:only-of-type {\n",
       "        vertical-align: middle;\n",
       "    }\n",
       "\n",
       "    .dataframe tbody tr th {\n",
       "        vertical-align: top;\n",
       "    }\n",
       "\n",
       "    .dataframe thead th {\n",
       "        text-align: right;\n",
       "    }\n",
       "</style>\n",
       "<table border=\"1\" class=\"dataframe\">\n",
       "  <thead>\n",
       "    <tr style=\"text-align: right;\">\n",
       "      <th></th>\n",
       "      <th>Label_0.0</th>\n",
       "      <th>Label_1.0</th>\n",
       "      <th>Label_2.0</th>\n",
       "    </tr>\n",
       "  </thead>\n",
       "  <tbody>\n",
       "    <tr>\n",
       "      <th>0</th>\n",
       "      <td>0</td>\n",
       "      <td>0</td>\n",
       "      <td>1</td>\n",
       "    </tr>\n",
       "    <tr>\n",
       "      <th>1</th>\n",
       "      <td>0</td>\n",
       "      <td>0</td>\n",
       "      <td>1</td>\n",
       "    </tr>\n",
       "    <tr>\n",
       "      <th>2</th>\n",
       "      <td>0</td>\n",
       "      <td>0</td>\n",
       "      <td>1</td>\n",
       "    </tr>\n",
       "    <tr>\n",
       "      <th>3</th>\n",
       "      <td>0</td>\n",
       "      <td>1</td>\n",
       "      <td>0</td>\n",
       "    </tr>\n",
       "    <tr>\n",
       "      <th>4</th>\n",
       "      <td>0</td>\n",
       "      <td>0</td>\n",
       "      <td>1</td>\n",
       "    </tr>\n",
       "  </tbody>\n",
       "</table>\n",
       "</div>"
      ],
      "text/plain": [
       "   Label_0.0  Label_1.0  Label_2.0\n",
       "0          0          0          1\n",
       "1          0          0          1\n",
       "2          0          0          1\n",
       "3          0          1          0\n",
       "4          0          0          1"
      ]
     },
     "execution_count": 5,
     "metadata": {},
     "output_type": "execute_result"
    }
   ],
   "source": [
    "y=data_new.loc[:,'Label_0.0':'Label_2.0']\n",
    "y.head()"
   ]
  },
  {
   "cell_type": "code",
   "execution_count": 6,
   "id": "0f2df410",
   "metadata": {},
   "outputs": [],
   "source": [
    "# x=df.drop(['Label'],axis=1)\n",
    "# y=df['Label'].values\n",
    "# y = pd.DataFrame(y)\n",
    "# print(x.shape)\n",
    "# print(y.shape)"
   ]
  },
  {
   "cell_type": "code",
   "execution_count": 7,
   "id": "e0ca253e",
   "metadata": {},
   "outputs": [],
   "source": [
    "scaler = StandardScaler()\n",
    "X_scaled = scaler.fit_transform(x)"
   ]
  },
  {
   "cell_type": "code",
   "execution_count": 8,
   "id": "d1b7f31b",
   "metadata": {},
   "outputs": [],
   "source": [
    "from sklearn.decomposition import PCA"
   ]
  },
  {
   "cell_type": "code",
   "execution_count": 9,
   "id": "4b6a2a65",
   "metadata": {},
   "outputs": [],
   "source": [
    "pca = PCA(n_components=80)"
   ]
  },
  {
   "cell_type": "code",
   "execution_count": 10,
   "id": "40730f8c",
   "metadata": {},
   "outputs": [],
   "source": [
    "X_pca = pca.fit_transform(X_scaled)\n",
    "df_pca = pd.concat([pd.DataFrame(X_pca), y], axis=1)"
   ]
  },
  {
   "cell_type": "code",
   "execution_count": 11,
   "id": "7041c60e",
   "metadata": {},
   "outputs": [
    {
     "data": {
      "text/html": [
       "<div>\n",
       "<style scoped>\n",
       "    .dataframe tbody tr th:only-of-type {\n",
       "        vertical-align: middle;\n",
       "    }\n",
       "\n",
       "    .dataframe tbody tr th {\n",
       "        vertical-align: top;\n",
       "    }\n",
       "\n",
       "    .dataframe thead th {\n",
       "        text-align: right;\n",
       "    }\n",
       "</style>\n",
       "<table border=\"1\" class=\"dataframe\">\n",
       "  <thead>\n",
       "    <tr style=\"text-align: right;\">\n",
       "      <th></th>\n",
       "      <th>0</th>\n",
       "      <th>1</th>\n",
       "      <th>2</th>\n",
       "      <th>3</th>\n",
       "      <th>4</th>\n",
       "      <th>5</th>\n",
       "      <th>6</th>\n",
       "      <th>7</th>\n",
       "      <th>8</th>\n",
       "      <th>9</th>\n",
       "      <th>...</th>\n",
       "      <th>73</th>\n",
       "      <th>74</th>\n",
       "      <th>75</th>\n",
       "      <th>76</th>\n",
       "      <th>77</th>\n",
       "      <th>78</th>\n",
       "      <th>79</th>\n",
       "      <th>Label_0.0</th>\n",
       "      <th>Label_1.0</th>\n",
       "      <th>Label_2.0</th>\n",
       "    </tr>\n",
       "  </thead>\n",
       "  <tbody>\n",
       "    <tr>\n",
       "      <th>0</th>\n",
       "      <td>-21.044050</td>\n",
       "      <td>-0.010535</td>\n",
       "      <td>0.718237</td>\n",
       "      <td>-2.682393</td>\n",
       "      <td>4.193227</td>\n",
       "      <td>-1.814457</td>\n",
       "      <td>1.506927</td>\n",
       "      <td>-7.564069</td>\n",
       "      <td>5.086254</td>\n",
       "      <td>-2.217937</td>\n",
       "      <td>...</td>\n",
       "      <td>1.599361</td>\n",
       "      <td>0.517502</td>\n",
       "      <td>0.641429</td>\n",
       "      <td>0.444451</td>\n",
       "      <td>-0.029077</td>\n",
       "      <td>0.255002</td>\n",
       "      <td>-0.378881</td>\n",
       "      <td>0</td>\n",
       "      <td>0</td>\n",
       "      <td>1</td>\n",
       "    </tr>\n",
       "    <tr>\n",
       "      <th>1</th>\n",
       "      <td>-24.072607</td>\n",
       "      <td>-9.930574</td>\n",
       "      <td>-12.967207</td>\n",
       "      <td>2.545072</td>\n",
       "      <td>5.526551</td>\n",
       "      <td>-3.177310</td>\n",
       "      <td>-0.278590</td>\n",
       "      <td>1.138539</td>\n",
       "      <td>0.579483</td>\n",
       "      <td>1.883217</td>\n",
       "      <td>...</td>\n",
       "      <td>0.541880</td>\n",
       "      <td>-0.313089</td>\n",
       "      <td>1.212949</td>\n",
       "      <td>0.113182</td>\n",
       "      <td>1.593888</td>\n",
       "      <td>0.159878</td>\n",
       "      <td>-0.680539</td>\n",
       "      <td>0</td>\n",
       "      <td>0</td>\n",
       "      <td>1</td>\n",
       "    </tr>\n",
       "    <tr>\n",
       "      <th>2</th>\n",
       "      <td>-22.926461</td>\n",
       "      <td>-3.452873</td>\n",
       "      <td>-3.501628</td>\n",
       "      <td>-1.068487</td>\n",
       "      <td>0.706277</td>\n",
       "      <td>2.762854</td>\n",
       "      <td>-2.036844</td>\n",
       "      <td>-2.407663</td>\n",
       "      <td>-1.345975</td>\n",
       "      <td>1.013190</td>\n",
       "      <td>...</td>\n",
       "      <td>-0.696854</td>\n",
       "      <td>-0.106873</td>\n",
       "      <td>-0.325328</td>\n",
       "      <td>-1.485810</td>\n",
       "      <td>1.025666</td>\n",
       "      <td>0.083150</td>\n",
       "      <td>0.276559</td>\n",
       "      <td>0</td>\n",
       "      <td>0</td>\n",
       "      <td>1</td>\n",
       "    </tr>\n",
       "    <tr>\n",
       "      <th>3</th>\n",
       "      <td>8.600035</td>\n",
       "      <td>-1.355738</td>\n",
       "      <td>1.934047</td>\n",
       "      <td>-1.049669</td>\n",
       "      <td>-1.309943</td>\n",
       "      <td>-1.622926</td>\n",
       "      <td>-0.501734</td>\n",
       "      <td>0.973511</td>\n",
       "      <td>-0.773587</td>\n",
       "      <td>-1.199485</td>\n",
       "      <td>...</td>\n",
       "      <td>-1.454045</td>\n",
       "      <td>1.139551</td>\n",
       "      <td>1.340917</td>\n",
       "      <td>-0.337618</td>\n",
       "      <td>-0.201095</td>\n",
       "      <td>-0.036036</td>\n",
       "      <td>-0.319012</td>\n",
       "      <td>0</td>\n",
       "      <td>1</td>\n",
       "      <td>0</td>\n",
       "    </tr>\n",
       "    <tr>\n",
       "      <th>4</th>\n",
       "      <td>12.194237</td>\n",
       "      <td>23.783829</td>\n",
       "      <td>-8.415842</td>\n",
       "      <td>3.450492</td>\n",
       "      <td>-3.116790</td>\n",
       "      <td>1.795192</td>\n",
       "      <td>-0.232985</td>\n",
       "      <td>-0.756297</td>\n",
       "      <td>-5.876472</td>\n",
       "      <td>-1.407715</td>\n",
       "      <td>...</td>\n",
       "      <td>-3.151600</td>\n",
       "      <td>-0.392761</td>\n",
       "      <td>-2.055923</td>\n",
       "      <td>2.349691</td>\n",
       "      <td>0.012274</td>\n",
       "      <td>-0.446383</td>\n",
       "      <td>-1.953186</td>\n",
       "      <td>0</td>\n",
       "      <td>0</td>\n",
       "      <td>1</td>\n",
       "    </tr>\n",
       "  </tbody>\n",
       "</table>\n",
       "<p>5 rows × 83 columns</p>\n",
       "</div>"
      ],
      "text/plain": [
       "           0          1          2         3         4         5         6  \\\n",
       "0 -21.044050  -0.010535   0.718237 -2.682393  4.193227 -1.814457  1.506927   \n",
       "1 -24.072607  -9.930574 -12.967207  2.545072  5.526551 -3.177310 -0.278590   \n",
       "2 -22.926461  -3.452873  -3.501628 -1.068487  0.706277  2.762854 -2.036844   \n",
       "3   8.600035  -1.355738   1.934047 -1.049669 -1.309943 -1.622926 -0.501734   \n",
       "4  12.194237  23.783829  -8.415842  3.450492 -3.116790  1.795192 -0.232985   \n",
       "\n",
       "          7         8         9  ...        73        74        75        76  \\\n",
       "0 -7.564069  5.086254 -2.217937  ...  1.599361  0.517502  0.641429  0.444451   \n",
       "1  1.138539  0.579483  1.883217  ...  0.541880 -0.313089  1.212949  0.113182   \n",
       "2 -2.407663 -1.345975  1.013190  ... -0.696854 -0.106873 -0.325328 -1.485810   \n",
       "3  0.973511 -0.773587 -1.199485  ... -1.454045  1.139551  1.340917 -0.337618   \n",
       "4 -0.756297 -5.876472 -1.407715  ... -3.151600 -0.392761 -2.055923  2.349691   \n",
       "\n",
       "         77        78        79  Label_0.0  Label_1.0  Label_2.0  \n",
       "0 -0.029077  0.255002 -0.378881          0          0          1  \n",
       "1  1.593888  0.159878 -0.680539          0          0          1  \n",
       "2  1.025666  0.083150  0.276559          0          0          1  \n",
       "3 -0.201095 -0.036036 -0.319012          0          1          0  \n",
       "4  0.012274 -0.446383 -1.953186          0          0          1  \n",
       "\n",
       "[5 rows x 83 columns]"
      ]
     },
     "execution_count": 11,
     "metadata": {},
     "output_type": "execute_result"
    }
   ],
   "source": [
    "df_pca.head()"
   ]
  },
  {
   "cell_type": "code",
   "execution_count": 12,
   "id": "8e66a6d5",
   "metadata": {},
   "outputs": [],
   "source": [
    "# y=y.values"
   ]
  },
  {
   "cell_type": "code",
   "execution_count": 13,
   "id": "5f7622b7",
   "metadata": {},
   "outputs": [],
   "source": [
    "x_train,x_test,y_train,y_test=train_test_split(X_pca,y,test_size=0.2,random_state=123)"
   ]
  },
  {
   "cell_type": "code",
   "execution_count": 14,
   "id": "5a518e9c",
   "metadata": {},
   "outputs": [
    {
     "data": {
      "text/plain": [
       "((1983, 80), (1983, 3), (496, 80), (496, 3))"
      ]
     },
     "execution_count": 14,
     "metadata": {},
     "output_type": "execute_result"
    }
   ],
   "source": [
    "x_train.shape, y_train.shape, x_test.shape, y_test.shape"
   ]
  },
  {
   "cell_type": "code",
   "execution_count": 15,
   "id": "cd0caea4",
   "metadata": {},
   "outputs": [],
   "source": [
    "from tensorflow.keras import Sequential\n",
    "from tensorflow.keras.layers import LSTM"
   ]
  },
  {
   "cell_type": "code",
   "execution_count": 44,
   "id": "21102dd1",
   "metadata": {},
   "outputs": [
    {
     "name": "stdout",
     "output_type": "stream",
     "text": [
      "Model: \"sequential_3\"\n",
      "_________________________________________________________________\n",
      " Layer (type)                Output Shape              Param #   \n",
      "=================================================================\n",
      " conv1d_6 (Conv1D)           (None, 76, 64)            384       \n",
      "                                                                 \n",
      " lstm_3 (LSTM)               (None, 76, 128)           98816     \n",
      "                                                                 \n",
      " batch_normalization_7 (Batc  (None, 76, 128)          512       \n",
      " hNormalization)                                                 \n",
      "                                                                 \n",
      " average_pooling1d_6 (Averag  (None, 38, 128)          0         \n",
      " ePooling1D)                                                     \n",
      "                                                                 \n",
      " dropout_6 (Dropout)         (None, 38, 128)           0         \n",
      "                                                                 \n",
      " re_lu_6 (ReLU)              (None, 38, 128)           0         \n",
      "                                                                 \n",
      " conv1d_7 (Conv1D)           (None, 34, 64)            41024     \n",
      "                                                                 \n",
      " batch_normalization_8 (Batc  (None, 34, 64)           256       \n",
      " hNormalization)                                                 \n",
      "                                                                 \n",
      " average_pooling1d_7 (Averag  (None, 17, 64)           0         \n",
      " ePooling1D)                                                     \n",
      "                                                                 \n",
      " dropout_7 (Dropout)         (None, 17, 64)            0         \n",
      "                                                                 \n",
      " re_lu_7 (ReLU)              (None, 17, 64)            0         \n",
      "                                                                 \n",
      " flatten_3 (Flatten)         (None, 1088)              0         \n",
      "                                                                 \n",
      " dense_3 (Dense)             (None, 3)                 3267      \n",
      "                                                                 \n",
      "=================================================================\n",
      "Total params: 144,259\n",
      "Trainable params: 143,875\n",
      "Non-trainable params: 384\n",
      "_________________________________________________________________\n"
     ]
    }
   ],
   "source": [
    "model = Sequential()\n",
    "model.add(layers.Conv1D(64, 5, input_shape=(x_train.shape[1], 1)))\n",
    "model.add(LSTM(128, return_sequences=True))\n",
    "model.add(layers.BatchNormalization())\n",
    "model.add(layers.AvgPool1D(2))\n",
    "model.add(layers.Dropout(0.2))\n",
    "model.add(layers.ReLU())\n",
    "\n",
    "model.add(layers.Conv1D(64, 5,activation='relu'))\n",
    "model.add(layers.BatchNormalization())\n",
    "model.add(layers.AvgPool1D(2))\n",
    "model.add(layers.Dropout(0.2))\n",
    "model.add(layers.ReLU())\n",
    "\n",
    "model.add(layers.Flatten())\n",
    "model.add(layers.Dense(3, activation='softmax'))   \n",
    "model.compile(loss = 'categorical_crossentropy',optimizer = \"adam\",metrics = ['accuracy'])\n",
    "model.summary()"
   ]
  },
  {
   "cell_type": "code",
   "execution_count": 45,
   "id": "92472cc1",
   "metadata": {},
   "outputs": [
    {
     "name": "stdout",
     "output_type": "stream",
     "text": [
      "Epoch 1/30\n",
      "53/53 [==============================] - 15s 167ms/step - loss: 0.5434 - accuracy: 0.7869 - val_loss: 1.0162 - val_accuracy: 0.8564\n",
      "Epoch 2/30\n",
      "53/53 [==============================] - 8s 148ms/step - loss: 0.2782 - accuracy: 0.8821 - val_loss: 0.9984 - val_accuracy: 0.8690\n",
      "Epoch 3/30\n",
      "53/53 [==============================] - 8s 146ms/step - loss: 0.2036 - accuracy: 0.9243 - val_loss: 0.9166 - val_accuracy: 0.9093\n",
      "Epoch 4/30\n",
      "53/53 [==============================] - 8s 147ms/step - loss: 0.1572 - accuracy: 0.9407 - val_loss: 0.7794 - val_accuracy: 0.8892\n",
      "Epoch 5/30\n",
      "53/53 [==============================] - 8s 146ms/step - loss: 0.1321 - accuracy: 0.9470 - val_loss: 0.5999 - val_accuracy: 0.9345\n",
      "Epoch 6/30\n",
      "53/53 [==============================] - 8s 146ms/step - loss: 0.0976 - accuracy: 0.9660 - val_loss: 0.4259 - val_accuracy: 0.9572\n",
      "Epoch 7/30\n",
      "53/53 [==============================] - 8s 147ms/step - loss: 0.0876 - accuracy: 0.9697 - val_loss: 0.2687 - val_accuracy: 0.9345\n",
      "Epoch 8/30\n",
      "53/53 [==============================] - 8s 148ms/step - loss: 0.0814 - accuracy: 0.9723 - val_loss: 0.1999 - val_accuracy: 0.9421\n",
      "Epoch 9/30\n",
      "53/53 [==============================] - 8s 148ms/step - loss: 0.0624 - accuracy: 0.9805 - val_loss: 0.2057 - val_accuracy: 0.9395\n",
      "Epoch 10/30\n",
      "53/53 [==============================] - 8s 145ms/step - loss: 0.0545 - accuracy: 0.9842 - val_loss: 0.1696 - val_accuracy: 0.9370\n",
      "Epoch 11/30\n",
      "53/53 [==============================] - 8s 143ms/step - loss: 0.0397 - accuracy: 0.9905 - val_loss: 0.1433 - val_accuracy: 0.9521\n",
      "Epoch 12/30\n",
      "53/53 [==============================] - 8s 153ms/step - loss: 0.0297 - accuracy: 0.9931 - val_loss: 0.1516 - val_accuracy: 0.9395\n",
      "Epoch 13/30\n",
      "53/53 [==============================] - 8s 154ms/step - loss: 0.0331 - accuracy: 0.9893 - val_loss: 0.1615 - val_accuracy: 0.9320\n",
      "Epoch 14/30\n",
      "53/53 [==============================] - 8s 160ms/step - loss: 0.0258 - accuracy: 0.9943 - val_loss: 0.1312 - val_accuracy: 0.9572\n",
      "Epoch 15/30\n",
      "53/53 [==============================] - 8s 160ms/step - loss: 0.0349 - accuracy: 0.9887 - val_loss: 0.2433 - val_accuracy: 0.9244\n",
      "Epoch 16/30\n",
      "53/53 [==============================] - 9s 163ms/step - loss: 0.0326 - accuracy: 0.9912 - val_loss: 0.1345 - val_accuracy: 0.9521\n",
      "Epoch 17/30\n",
      "53/53 [==============================] - 8s 152ms/step - loss: 0.0356 - accuracy: 0.9893 - val_loss: 0.1641 - val_accuracy: 0.9446\n",
      "Epoch 18/30\n",
      "53/53 [==============================] - 8s 150ms/step - loss: 0.0199 - accuracy: 0.9956 - val_loss: 0.1576 - val_accuracy: 0.9446\n",
      "Epoch 19/30\n",
      "53/53 [==============================] - 8s 151ms/step - loss: 0.0227 - accuracy: 0.9931 - val_loss: 0.1411 - val_accuracy: 0.9547\n",
      "Epoch 20/30\n",
      "53/53 [==============================] - 8s 151ms/step - loss: 0.0192 - accuracy: 0.9950 - val_loss: 0.1643 - val_accuracy: 0.9647\n",
      "Epoch 21/30\n",
      "53/53 [==============================] - 8s 151ms/step - loss: 0.0147 - accuracy: 0.9968 - val_loss: 0.1411 - val_accuracy: 0.9647\n",
      "Epoch 22/30\n",
      "53/53 [==============================] - 8s 153ms/step - loss: 0.0130 - accuracy: 0.9975 - val_loss: 0.1390 - val_accuracy: 0.9496\n",
      "Epoch 23/30\n",
      "53/53 [==============================] - 8s 153ms/step - loss: 0.0146 - accuracy: 0.9968 - val_loss: 0.1836 - val_accuracy: 0.9320\n",
      "Epoch 24/30\n",
      "53/53 [==============================] - 8s 151ms/step - loss: 0.0098 - accuracy: 0.9981 - val_loss: 0.1579 - val_accuracy: 0.9622\n",
      "Epoch 25/30\n",
      "53/53 [==============================] - 8s 145ms/step - loss: 0.0106 - accuracy: 0.9968 - val_loss: 0.1604 - val_accuracy: 0.9622\n",
      "Epoch 26/30\n",
      "53/53 [==============================] - 7s 140ms/step - loss: 0.0129 - accuracy: 0.9968 - val_loss: 0.2251 - val_accuracy: 0.9370\n",
      "Epoch 27/30\n",
      "53/53 [==============================] - 8s 149ms/step - loss: 0.0135 - accuracy: 0.9975 - val_loss: 0.1426 - val_accuracy: 0.9395\n",
      "Epoch 28/30\n",
      "53/53 [==============================] - 8s 150ms/step - loss: 0.0086 - accuracy: 0.9987 - val_loss: 0.1580 - val_accuracy: 0.9446\n",
      "Epoch 29/30\n",
      "53/53 [==============================] - 8s 151ms/step - loss: 0.0053 - accuracy: 1.0000 - val_loss: 0.1618 - val_accuracy: 0.9572\n",
      "Epoch 30/30\n",
      "53/53 [==============================] - 8s 150ms/step - loss: 0.0043 - accuracy: 1.0000 - val_loss: 0.1389 - val_accuracy: 0.9698\n"
     ]
    },
    {
     "data": {
      "text/plain": [
       "<keras.callbacks.History at 0x20290f525b0>"
      ]
     },
     "execution_count": 45,
     "metadata": {},
     "output_type": "execute_result"
    }
   ],
   "source": [
    "model.fit(x_train,y_train,batch_size=30,epochs=30,verbose=1,validation_split=0.2)"
   ]
  },
  {
   "cell_type": "code",
   "execution_count": 46,
   "id": "7e310e7e",
   "metadata": {},
   "outputs": [
    {
     "name": "stdout",
     "output_type": "stream",
     "text": [
      "16/16 [==============================] - 2s 52ms/step\n"
     ]
    }
   ],
   "source": [
    "pred = model.predict(x_test)"
   ]
  },
  {
   "cell_type": "code",
   "execution_count": 47,
   "id": "63fb7085",
   "metadata": {},
   "outputs": [
    {
     "data": {
      "text/plain": [
       "array([[9.9981326e-01, 1.7364482e-04, 1.3065384e-05],\n",
       "       [2.8868595e-02, 7.0750868e-01, 2.6362267e-01],\n",
       "       [2.1941685e-04, 9.9676345e-06, 9.9977058e-01],\n",
       "       ...,\n",
       "       [3.4109229e-09, 6.0366092e-06, 9.9999392e-01],\n",
       "       [9.3976527e-01, 6.0009357e-02, 2.2538292e-04],\n",
       "       [7.4761715e-07, 1.4498144e-05, 9.9998474e-01]], dtype=float32)"
      ]
     },
     "execution_count": 47,
     "metadata": {},
     "output_type": "execute_result"
    }
   ],
   "source": [
    "pred"
   ]
  },
  {
   "cell_type": "code",
   "execution_count": 48,
   "id": "a76caeb4",
   "metadata": {},
   "outputs": [],
   "source": [
    "# red_prob = model.predict_proba(x_test)"
   ]
  },
  {
   "cell_type": "code",
   "execution_count": 49,
   "id": "88409f9b",
   "metadata": {},
   "outputs": [
    {
     "data": {
      "text/plain": [
       "array([[1, 0, 0],\n",
       "       [0, 1, 0],\n",
       "       [0, 0, 1],\n",
       "       ...,\n",
       "       [0, 0, 1],\n",
       "       [0, 1, 0],\n",
       "       [0, 0, 1]], dtype=uint8)"
      ]
     },
     "execution_count": 49,
     "metadata": {},
     "output_type": "execute_result"
    }
   ],
   "source": [
    "y_test"
   ]
  },
  {
   "cell_type": "code",
   "execution_count": 50,
   "id": "0534ec40",
   "metadata": {},
   "outputs": [
    {
     "ename": "AttributeError",
     "evalue": "'numpy.ndarray' object has no attribute 'values'",
     "output_type": "error",
     "traceback": [
      "\u001b[1;31m---------------------------------------------------------------------------\u001b[0m",
      "\u001b[1;31mAttributeError\u001b[0m                            Traceback (most recent call last)",
      "Input \u001b[1;32mIn [50]\u001b[0m, in \u001b[0;36m<cell line: 1>\u001b[1;34m()\u001b[0m\n\u001b[1;32m----> 1\u001b[0m y_test\u001b[38;5;241m=\u001b[39m\u001b[43my_test\u001b[49m\u001b[38;5;241;43m.\u001b[39;49m\u001b[43mvalues\u001b[49m\n",
      "\u001b[1;31mAttributeError\u001b[0m: 'numpy.ndarray' object has no attribute 'values'"
     ]
    }
   ],
   "source": [
    "y_test=y_test.values"
   ]
  },
  {
   "cell_type": "code",
   "execution_count": 51,
   "id": "26da00b5",
   "metadata": {},
   "outputs": [
    {
     "data": {
      "text/plain": [
       "array([[1, 0, 0],\n",
       "       [0, 1, 0],\n",
       "       [0, 0, 1],\n",
       "       ...,\n",
       "       [0, 0, 1],\n",
       "       [0, 1, 0],\n",
       "       [0, 0, 1]], dtype=uint8)"
      ]
     },
     "execution_count": 51,
     "metadata": {},
     "output_type": "execute_result"
    }
   ],
   "source": [
    "y_test"
   ]
  },
  {
   "cell_type": "code",
   "execution_count": 52,
   "id": "6d7c6204",
   "metadata": {},
   "outputs": [],
   "source": [
    "y_test1=np.argmax(y_test, axis=1)"
   ]
  },
  {
   "cell_type": "code",
   "execution_count": 53,
   "id": "faf24fca",
   "metadata": {},
   "outputs": [
    {
     "data": {
      "text/plain": [
       "array([0, 1, 2, 2, 2, 0, 0, 1, 1, 2, 2, 0, 1, 2, 0, 1, 2, 0, 1, 1, 1, 0,\n",
       "       0, 1, 2, 1, 1, 0, 1, 2, 0, 1, 1, 2, 2, 2, 0, 0, 2, 2, 0, 1, 2, 0,\n",
       "       2, 1, 1, 2, 0, 0, 0, 1, 1, 2, 2, 1, 1, 0, 2, 2, 0, 0, 0, 1, 2, 2,\n",
       "       0, 0, 1, 0, 0, 2, 2, 1, 0, 0, 2, 1, 0, 0, 1, 1, 0, 0, 1, 0, 1, 0,\n",
       "       2, 1, 2, 1, 2, 2, 0, 1, 2, 1, 2, 2, 0, 1, 1, 1, 0, 0, 0, 0, 1, 2,\n",
       "       0, 0, 1, 0, 2, 2, 2, 1, 2, 0, 2, 0, 1, 1, 2, 1, 2, 1, 0, 0, 2, 2,\n",
       "       1, 1, 2, 2, 1, 1, 0, 2, 0, 0, 0, 0, 0, 1, 2, 0, 0, 1, 1, 0, 1, 0,\n",
       "       2, 1, 0, 0, 1, 2, 2, 0, 1, 1, 2, 2, 2, 1, 2, 0, 0, 0, 2, 1, 0, 0,\n",
       "       2, 1, 0, 2, 1, 1, 0, 1, 2, 0, 1, 0, 2, 2, 1, 1, 1, 1, 1, 2, 2, 0,\n",
       "       2, 2, 1, 1, 1, 0, 1, 1, 0, 0, 0, 0, 1, 1, 1, 1, 1, 0, 0, 1, 0, 0,\n",
       "       0, 0, 1, 1, 0, 1, 2, 1, 0, 1, 1, 1, 2, 2, 1, 0, 2, 2, 1, 2, 2, 1,\n",
       "       2, 0, 2, 0, 1, 0, 2, 0, 0, 1, 1, 0, 1, 2, 2, 1, 1, 0, 1, 0, 2, 2,\n",
       "       1, 0, 0, 0, 0, 0, 1, 1, 0, 0, 2, 2, 1, 2, 0, 1, 1, 1, 1, 1, 2, 0,\n",
       "       0, 0, 2, 2, 2, 1, 1, 1, 0, 0, 2, 1, 1, 2, 0, 1, 1, 1, 1, 1, 0, 0,\n",
       "       1, 0, 1, 2, 1, 1, 2, 2, 0, 1, 0, 0, 1, 2, 1, 1, 0, 1, 0, 2, 0, 2,\n",
       "       0, 2, 0, 2, 2, 0, 0, 0, 1, 2, 0, 1, 2, 2, 0, 1, 1, 0, 2, 1, 1, 1,\n",
       "       2, 0, 0, 0, 1, 2, 2, 1, 0, 1, 1, 1, 1, 1, 1, 2, 0, 2, 2, 1, 2, 0,\n",
       "       1, 0, 1, 1, 0, 0, 0, 1, 0, 2, 2, 0, 0, 1, 1, 0, 0, 0, 0, 1, 0, 2,\n",
       "       1, 1, 1, 2, 1, 2, 0, 1, 0, 2, 0, 1, 2, 2, 2, 2, 1, 0, 1, 1, 2, 1,\n",
       "       2, 0, 2, 1, 1, 0, 2, 2, 1, 0, 1, 1, 1, 2, 0, 1, 0, 2, 2, 1, 1, 1,\n",
       "       2, 0, 0, 2, 2, 0, 1, 0, 2, 0, 2, 0, 2, 2, 0, 1, 1, 1, 1, 2, 1, 0,\n",
       "       1, 1, 2, 0, 2, 2, 0, 1, 0, 1, 0, 1, 0, 2, 1, 1, 2, 2, 1, 2, 1, 1,\n",
       "       1, 0, 1, 0, 0, 2, 0, 1, 0, 2, 1, 2], dtype=int64)"
      ]
     },
     "execution_count": 53,
     "metadata": {},
     "output_type": "execute_result"
    }
   ],
   "source": [
    "y_test1"
   ]
  },
  {
   "cell_type": "code",
   "execution_count": 54,
   "id": "0eb32a2b",
   "metadata": {},
   "outputs": [],
   "source": [
    "y_pred=np.argmax(pred, axis=1)"
   ]
  },
  {
   "cell_type": "code",
   "execution_count": 55,
   "id": "10402586",
   "metadata": {},
   "outputs": [
    {
     "data": {
      "text/plain": [
       "array([0, 1, 2, 2, 2, 0, 0, 1, 1, 2, 2, 0, 1, 2, 0, 1, 2, 0, 1, 1, 1, 0,\n",
       "       0, 1, 2, 1, 1, 0, 1, 2, 0, 1, 1, 2, 2, 2, 0, 0, 2, 2, 0, 1, 2, 0,\n",
       "       2, 1, 1, 2, 0, 0, 0, 1, 1, 2, 2, 1, 1, 0, 2, 2, 0, 0, 1, 1, 2, 2,\n",
       "       0, 0, 1, 0, 0, 2, 2, 1, 0, 0, 2, 2, 0, 0, 1, 1, 0, 0, 1, 0, 1, 0,\n",
       "       2, 1, 2, 1, 2, 2, 0, 1, 2, 1, 2, 2, 0, 1, 1, 1, 0, 0, 0, 0, 1, 2,\n",
       "       0, 0, 1, 0, 2, 2, 2, 2, 2, 0, 2, 0, 1, 1, 2, 1, 2, 1, 0, 0, 2, 2,\n",
       "       1, 1, 2, 2, 1, 1, 0, 2, 1, 0, 0, 0, 0, 1, 2, 0, 0, 1, 1, 0, 0, 0,\n",
       "       2, 1, 0, 0, 2, 2, 2, 0, 1, 1, 2, 2, 2, 1, 2, 0, 0, 0, 2, 1, 0, 0,\n",
       "       2, 1, 0, 2, 1, 1, 0, 1, 2, 0, 1, 0, 2, 2, 1, 1, 1, 1, 1, 2, 2, 0,\n",
       "       2, 2, 1, 1, 2, 0, 1, 1, 0, 0, 0, 0, 1, 1, 1, 0, 1, 0, 0, 1, 1, 0,\n",
       "       0, 0, 1, 1, 0, 1, 2, 1, 0, 1, 1, 1, 2, 2, 1, 0, 2, 2, 1, 2, 2, 1,\n",
       "       2, 0, 2, 0, 1, 0, 2, 0, 0, 1, 1, 0, 1, 2, 2, 1, 1, 0, 1, 0, 2, 2,\n",
       "       1, 0, 0, 0, 1, 0, 1, 1, 0, 0, 2, 2, 1, 2, 0, 1, 1, 1, 1, 1, 2, 0,\n",
       "       0, 0, 2, 2, 2, 1, 1, 1, 0, 1, 2, 1, 1, 2, 0, 1, 1, 1, 1, 1, 0, 0,\n",
       "       1, 0, 1, 2, 1, 1, 2, 2, 0, 1, 1, 0, 1, 2, 1, 1, 0, 1, 0, 2, 0, 2,\n",
       "       0, 2, 0, 2, 2, 0, 0, 0, 1, 2, 0, 1, 2, 2, 0, 1, 1, 0, 2, 1, 1, 1,\n",
       "       2, 0, 0, 1, 1, 2, 2, 1, 0, 1, 1, 1, 1, 1, 1, 2, 0, 2, 2, 1, 2, 0,\n",
       "       1, 0, 1, 1, 0, 0, 0, 1, 0, 2, 2, 0, 0, 1, 1, 0, 0, 0, 0, 1, 0, 2,\n",
       "       1, 1, 1, 2, 1, 2, 0, 1, 0, 2, 0, 1, 2, 2, 2, 2, 1, 0, 1, 1, 2, 1,\n",
       "       2, 0, 2, 1, 1, 0, 2, 2, 1, 0, 1, 1, 1, 2, 0, 1, 0, 2, 2, 1, 1, 1,\n",
       "       2, 0, 0, 2, 2, 0, 1, 0, 2, 0, 2, 0, 2, 2, 0, 1, 1, 1, 2, 2, 1, 0,\n",
       "       1, 1, 2, 0, 2, 2, 0, 2, 0, 1, 0, 1, 0, 2, 1, 1, 2, 2, 1, 2, 1, 1,\n",
       "       1, 0, 1, 0, 0, 2, 0, 1, 0, 2, 0, 2], dtype=int64)"
      ]
     },
     "execution_count": 55,
     "metadata": {},
     "output_type": "execute_result"
    }
   ],
   "source": [
    "y_pred"
   ]
  },
  {
   "cell_type": "code",
   "execution_count": 56,
   "id": "a8615c08",
   "metadata": {},
   "outputs": [],
   "source": [
    "from sklearn import metrics"
   ]
  },
  {
   "cell_type": "code",
   "execution_count": 57,
   "id": "8254a03f",
   "metadata": {},
   "outputs": [],
   "source": [
    "y_test_binarized=label_binarize(y_test1,classes=np.unique(y_test1))\n",
    "classes=np.unique(y_test1)"
   ]
  },
  {
   "cell_type": "code",
   "execution_count": 58,
   "id": "f78f61d4",
   "metadata": {},
   "outputs": [],
   "source": [
    "y_prednew=label_binarize(y_pred,classes=np.unique(y_pred))"
   ]
  },
  {
   "cell_type": "code",
   "execution_count": 59,
   "id": "863442b1",
   "metadata": {},
   "outputs": [
    {
     "data": {
      "text/plain": [
       "array([[1, 0, 0],\n",
       "       [0, 1, 0],\n",
       "       [0, 0, 1],\n",
       "       ...,\n",
       "       [0, 0, 1],\n",
       "       [1, 0, 0],\n",
       "       [0, 0, 1]])"
      ]
     },
     "execution_count": 59,
     "metadata": {},
     "output_type": "execute_result"
    }
   ],
   "source": [
    "y_prednew"
   ]
  },
  {
   "cell_type": "code",
   "execution_count": 60,
   "id": "2f55e48b",
   "metadata": {},
   "outputs": [
    {
     "data": {
      "text/plain": [
       "3"
      ]
     },
     "execution_count": 60,
     "metadata": {},
     "output_type": "execute_result"
    }
   ],
   "source": [
    "classes.shape[0]"
   ]
  },
  {
   "cell_type": "code",
   "execution_count": 61,
   "id": "ecf257d5",
   "metadata": {},
   "outputs": [
    {
     "data": {
      "text/plain": [
       "array([[1, 0, 0],\n",
       "       [0, 1, 0],\n",
       "       [0, 0, 1],\n",
       "       ...,\n",
       "       [0, 0, 1],\n",
       "       [0, 1, 0],\n",
       "       [0, 0, 1]])"
      ]
     },
     "execution_count": 61,
     "metadata": {},
     "output_type": "execute_result"
    }
   ],
   "source": [
    "y_test_binarized"
   ]
  },
  {
   "cell_type": "code",
   "execution_count": 62,
   "id": "0f8dc245",
   "metadata": {},
   "outputs": [],
   "source": [
    "y_test2=np.array(y_test)\n",
    "y_pred1=np.array(pred)\n",
    "y_final=np.concatenate((1-y_pred1,y_pred1),axis=1)"
   ]
  },
  {
   "cell_type": "code",
   "execution_count": 63,
   "id": "580bb534",
   "metadata": {},
   "outputs": [
    {
     "data": {
      "text/plain": [
       "array([[1, 0, 0],\n",
       "       [0, 1, 0],\n",
       "       [0, 0, 1],\n",
       "       ...,\n",
       "       [0, 0, 1],\n",
       "       [0, 1, 0],\n",
       "       [0, 0, 1]], dtype=uint8)"
      ]
     },
     "execution_count": 63,
     "metadata": {},
     "output_type": "execute_result"
    }
   ],
   "source": [
    "y_test2"
   ]
  },
  {
   "cell_type": "code",
   "execution_count": 64,
   "id": "8151f88d",
   "metadata": {},
   "outputs": [
    {
     "data": {
      "image/png": "[encoded data removed]",
      "text/plain": [
       "<Figure size 432x288 with 1 Axes>"
      ]
     },
     "metadata": {
      "needs_background": "light"
     },
     "output_type": "display_data"
    }
   ],
   "source": [
    "\n",
    "# roc curve for classes\n",
    "fpr = dict()\n",
    "tpr = dict()\n",
    "thresh =dict()\n",
    "roc_auc = dict()\n",
    "\n",
    "n_class = classes.shape[0]\n",
    "colors = ['yellow', 'red', 'green']\n",
    "\n",
    "for i, color in zip(range(n_class),colors):    \n",
    "    fpr[i], tpr[i], thresh[i] = metrics.roc_curve(y_test[:,i],y_prednew[:,i])\n",
    "#     fpr[i], tpr[i], thresh[i] = metrics.roc_curve(y_test2,y_final)\n",
    "    roc_auc[i] = metrics.auc(fpr[i], tpr[i])\n",
    "    \n",
    "    # plotting    \n",
    "    plt.plot(fpr[i], tpr[i], linestyle='--',color=color, \n",
    "             label='%s vs Rest (AUC=%0.2f)'%(classes[i],roc_auc[i]))\n",
    "\n",
    "plt.plot([0,1],[0,1],'b--')\n",
    "plt.xlim([0,1])\n",
    "plt.ylim([0,1.05])\n",
    "plt.title('Multiclass ROC curve')\n",
    "plt.xlabel('False Positive Rate')\n",
    "plt.ylabel('True Positive rate')\n",
    "plt.legend(loc='lower right')\n",
    "plt.show()"
   ]
  },
  {
   "cell_type": "code",
   "execution_count": 65,
   "id": "026b5025",
   "metadata": {},
   "outputs": [
    {
     "data": {
      "text/plain": [
       "array([[160,   7,   0],\n",
       "       [  3, 177,   6],\n",
       "       [  0,   0, 143]], dtype=int64)"
      ]
     },
     "execution_count": 65,
     "metadata": {},
     "output_type": "execute_result"
    }
   ],
   "source": [
    "confusion_matrix(y_test1,y_pred)"
   ]
  },
  {
   "cell_type": "code",
   "execution_count": 66,
   "id": "50d1efee",
   "metadata": {},
   "outputs": [
    {
     "name": "stdout",
     "output_type": "stream",
     "text": [
      "classification_report\n",
      "               precision    recall  f1-score   support\n",
      "\n",
      "           0       0.98      0.96      0.97       167\n",
      "           1       0.96      0.95      0.96       186\n",
      "           2       0.96      1.00      0.98       143\n",
      "\n",
      "    accuracy                           0.97       496\n",
      "   macro avg       0.97      0.97      0.97       496\n",
      "weighted avg       0.97      0.97      0.97       496\n",
      "\n"
     ]
    }
   ],
   "source": [
    "print(\"classification_report\\n\",classification_report(y_test1,y_pred))"
   ]
  },
  {
   "cell_type": "code",
   "execution_count": 67,
   "id": "c6539388",
   "metadata": {},
   "outputs": [
    {
     "name": "stdout",
     "output_type": "stream",
     "text": [
      "62/62 [==============================] - 3s 52ms/step - loss: 0.0297 - accuracy: 0.9939\n",
      "16/16 [==============================] - 1s 52ms/step - loss: 0.1005 - accuracy: 0.9677\n",
      "Training Accuracy: 99.39%\n",
      "Testing Accuracy: 96.77%\n"
     ]
    }
   ],
   "source": [
    "train_scores = model.evaluate(x_train, y_train)\n",
    "# val_scores = model.evaluate(x_train, y_train)\n",
    "test_scores = model.evaluate(x_test, y_test)\n",
    "\n",
    "print(\"Training Accuracy: %.2f%%\"%(train_scores[1] * 100))\n",
    "# print(\"Validation Accuracy: %.2f%%\"%(val_scores[1] * 100))\n",
    "print(\"Testing Accuracy: %.2f%%\"%(test_scores[1] * 100))"
   ]
  },
  {
   "cell_type": "code",
   "execution_count": 41,
   "id": "136aba56",
   "metadata": {},
   "outputs": [
    {
     "data": {
      "text/plain": [
       "0.9703558490884907"
      ]
     },
     "execution_count": 41,
     "metadata": {},
     "output_type": "execute_result"
    }
   ],
   "source": [
    "from sklearn import metrics\n",
    "auc = metrics.roc_auc_score(y_test, y_prednew, multi_class='ovr')\n",
    "auc"
   ]
  },
  {
   "cell_type": "code",
   "execution_count": 176,
   "id": "1846558e",
   "metadata": {},
   "outputs": [],
   "source": [
    "df_y_test = pd.DataFrame(y_test, columns = ['Label_0.0','Label_1.0','Label_2.0'])\n",
    "df_y_pred = pd.DataFrame(pred, columns = ['Label_0.0','Label_1.0','Label_2.0'])"
   ]
  },
  {
   "cell_type": "code",
   "execution_count": 68,
   "id": "d1218e97",
   "metadata": {},
   "outputs": [],
   "source": [
    "# fpr, tpr, _ = metrics.roc_curve(df_y_test,  df_y_pred,max_fpr=)\n",
    "\n",
    "# #create ROC curve\n",
    "# plt.plot(fpr,tpr)\n",
    "# plt.ylabel('True Positive Rate')\n",
    "# plt.xlabel('False Positive Rate')\n",
    "# plt.legend(loc=4)\n",
    "# plt.show()"
   ]
  },
  {
   "cell_type": "code",
   "execution_count": 233,
   "id": "487c6a0d",
   "metadata": {},
   "outputs": [
    {
     "data": {
      "image/png": "[encoded data removed]",
      "text/plain": [
       "<Figure size 1000x800 with 1 Axes>"
      ]
     },
     "metadata": {
      "needs_background": "light"
     },
     "output_type": "display_data"
    }
   ],
   "source": [
    "false_positive_rate, true_positive_rate, thresolds = metrics.roc_curve(df_y_test['Label_0.0'], df_y_pred['Label_0.0'])\n",
    "\n",
    "plt.figure(figsize=(10, 8), dpi=100)\n",
    "plt.axis('scaled')\n",
    "plt.xlim([0, 1])\n",
    "plt.ylim([0, 1])\n",
    "plt.title(\"AUC & ROC Curve\")\n",
    "plt.plot(false_positive_rate, true_positive_rate, 'g')\n",
    "plt.fill_between(false_positive_rate, true_positive_rate, facecolor='white', alpha=0.7)\n",
    "plt.text(0.95, 0.05, 'AUC = %0.4f' % auc, ha='right', fontsize=12, weight='bold', color='blue')\n",
    "plt.xlabel(\"False Positive Rate\")\n",
    "plt.ylabel(\"True Positive Rate\")\n",
    "plt.show()"
   ]
  },
  {
   "cell_type": "code",
   "execution_count": 232,
   "id": "ed92223a",
   "metadata": {},
   "outputs": [
    {
     "data": {
      "image/png": "[encoded data removed]",
      "text/plain": [
       "<Figure size 1000x800 with 1 Axes>"
      ]
     },
     "metadata": {
      "needs_background": "light"
     },
     "output_type": "display_data"
    }
   ],
   "source": [
    "false_positive_rate, true_positive_rate, thresolds = metrics.roc_curve(df_y_test['Label_1.0'], df_y_pred['Label_1.0'])\n",
    "\n",
    "plt.figure(figsize=(10, 8), dpi=100)\n",
    "plt.axis('scaled')\n",
    "plt.xlim([0, 1])\n",
    "plt.ylim([0, 1])\n",
    "plt.title(\"AUC & ROC Curve\")\n",
    "plt.plot(false_positive_rate, true_positive_rate, 'g')\n",
    "plt.fill_between(false_positive_rate, true_positive_rate, facecolor='white', alpha=0.7)\n",
    "plt.text(0.95, 0.05, 'AUC = %0.4f' % auc, ha='right', fontsize=12, weight='bold', color='blue')\n",
    "plt.xlabel(\"False Positive Rate\")\n",
    "plt.ylabel(\"True Positive Rate\")\n",
    "plt.show()"
   ]
  },
  {
   "cell_type": "code",
   "execution_count": 234,
   "id": "31b6b664",
   "metadata": {},
   "outputs": [
    {
     "data": {
      "image/png": "[encoded data removed]",
      "text/plain": [
       "<Figure size 1000x800 with 1 Axes>"
      ]
     },
     "metadata": {
      "needs_background": "light"
     },
     "output_type": "display_data"
    }
   ],
   "source": [
    "false_positive_rate, true_positive_rate, thresolds = metrics.roc_curve(df_y_test['Label_2.0'], df_y_pred['Label_2.0'])\n",
    "\n",
    "plt.figure(figsize=(10, 8), dpi=100)\n",
    "plt.axis('scaled')\n",
    "plt.xlim([0, 1])\n",
    "plt.ylim([0, 1])\n",
    "plt.title(\"AUC & ROC Curve\")\n",
    "plt.plot(false_positive_rate, true_positive_rate, 'g')\n",
    "plt.fill_between(false_positive_rate, true_positive_rate, facecolor='white', alpha=0.7)\n",
    "plt.text(0.95, 0.05, 'AUC = %0.4f' % auc, ha='right', fontsize=12, weight='bold', color='blue')\n",
    "plt.xlabel(\"False Positive Rate\")\n",
    "plt.ylabel(\"True Positive Rate\")\n",
    "plt.show()"
   ]
  },
  {
   "cell_type": "code",
   "execution_count": null,
   "id": "cf544b4e",
   "metadata": {},
   "outputs": [],
   "source": []
  },
  {
   "cell_type": "code",
   "execution_count": null,
   "id": "37721f88",
   "metadata": {},
   "outputs": [],
   "source": []
  }
 ],
 "metadata": {
  "kernelspec": {
   "display_name": "Python 3 (ipykernel)",
   "language": "python",
   "name": "python3"
  },
  "language_info": {
   "codemirror_mode": {
    "name": "ipython",
    "version": 3
   },
   "file_extension": ".py",
   "mimetype": "text/x-python",
   "name": "python",
   "nbconvert_exporter": "python",
   "pygments_lexer": "ipython3",
   "version": "3.9.12"
  }
 },
 "nbformat": 4,
 "nbformat_minor": 5
}
