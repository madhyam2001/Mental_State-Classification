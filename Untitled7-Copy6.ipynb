{
 "cells": [
  {
   "cell_type": "code",
   "execution_count": 1,
   "id": "b0a09631",
   "metadata": {},
   "outputs": [],
   "source": [
    "import tensorflow as tf\n",
    "from tensorflow import keras\n",
    "from tensorflow.keras import callbacks, layers, models\n",
    "from tensorflow.keras.utils import to_categorical\n",
    "\n",
    "import numpy as np\n",
    "\n",
    "import matplotlib.pyplot as plt\n",
    "import pandas as pd\n",
    "\n",
    "from sklearn.preprocessing import StandardScaler\n",
    "from sklearn.preprocessing import LabelEncoder\n",
    "from sklearn.preprocessing import label_binarize\n",
    "from sklearn.model_selection import cross_val_score, train_test_split\n",
    "from sklearn.metrics import confusion_matrix, classification_report\n",
    "import seaborn as sns"
   ]
  },
  {
   "cell_type": "code",
   "execution_count": 2,
   "id": "af08a89f",
   "metadata": {},
   "outputs": [],
   "source": [
    "df= pd.read_csv('mental-state.csv')\n",
    "data_new= pd.get_dummies(df, columns = ['Label'])"
   ]
  },
  {
   "cell_type": "code",
   "execution_count": 3,
   "id": "2b1c480a",
   "metadata": {},
   "outputs": [
    {
     "data": {
      "text/html": [
       "<div>\n",
       "<style scoped>\n",
       "    .dataframe tbody tr th:only-of-type {\n",
       "        vertical-align: middle;\n",
       "    }\n",
       "\n",
       "    .dataframe tbody tr th {\n",
       "        vertical-align: top;\n",
       "    }\n",
       "\n",
       "    .dataframe thead th {\n",
       "        text-align: right;\n",
       "    }\n",
       "</style>\n",
       "<table border=\"1\" class=\"dataframe\">\n",
       "  <thead>\n",
       "    <tr style=\"text-align: right;\">\n",
       "      <th></th>\n",
       "      <th>lag1_mean_0</th>\n",
       "      <th>lag1_mean_1</th>\n",
       "      <th>lag1_mean_2</th>\n",
       "      <th>lag1_mean_3</th>\n",
       "      <th>lag1_mean_d_h2h1_0</th>\n",
       "      <th>lag1_mean_d_h2h1_1</th>\n",
       "      <th>lag1_mean_d_h2h1_2</th>\n",
       "      <th>lag1_mean_d_h2h1_3</th>\n",
       "      <th>lag1_mean_q1_0</th>\n",
       "      <th>lag1_mean_q1_1</th>\n",
       "      <th>...</th>\n",
       "      <th>freq_689_3</th>\n",
       "      <th>freq_699_3</th>\n",
       "      <th>freq_709_3</th>\n",
       "      <th>freq_720_3</th>\n",
       "      <th>freq_730_3</th>\n",
       "      <th>freq_740_3</th>\n",
       "      <th>freq_750_3</th>\n",
       "      <th>Label_0.0</th>\n",
       "      <th>Label_1.0</th>\n",
       "      <th>Label_2.0</th>\n",
       "    </tr>\n",
       "  </thead>\n",
       "  <tbody>\n",
       "    <tr>\n",
       "      <th>0</th>\n",
       "      <td>25.781648</td>\n",
       "      <td>33.836367</td>\n",
       "      <td>-92.769629</td>\n",
       "      <td>19.187957</td>\n",
       "      <td>-1.542262</td>\n",
       "      <td>0.197462</td>\n",
       "      <td>-119.561133</td>\n",
       "      <td>2.032654</td>\n",
       "      <td>21.596272</td>\n",
       "      <td>33.965587</td>\n",
       "      <td>...</td>\n",
       "      <td>0.000547</td>\n",
       "      <td>0.000381</td>\n",
       "      <td>0.000350</td>\n",
       "      <td>0.000453</td>\n",
       "      <td>0.000442</td>\n",
       "      <td>0.000325</td>\n",
       "      <td>0.000209</td>\n",
       "      <td>0</td>\n",
       "      <td>0</td>\n",
       "      <td>1</td>\n",
       "    </tr>\n",
       "    <tr>\n",
       "      <th>1</th>\n",
       "      <td>29.357891</td>\n",
       "      <td>26.792566</td>\n",
       "      <td>417.203910</td>\n",
       "      <td>19.472121</td>\n",
       "      <td>-38.797263</td>\n",
       "      <td>-16.897194</td>\n",
       "      <td>-29.368531</td>\n",
       "      <td>-9.055370</td>\n",
       "      <td>44.647424</td>\n",
       "      <td>40.893307</td>\n",
       "      <td>...</td>\n",
       "      <td>0.001122</td>\n",
       "      <td>0.000521</td>\n",
       "      <td>0.000624</td>\n",
       "      <td>0.000439</td>\n",
       "      <td>0.001249</td>\n",
       "      <td>0.000727</td>\n",
       "      <td>0.000801</td>\n",
       "      <td>0</td>\n",
       "      <td>0</td>\n",
       "      <td>1</td>\n",
       "    </tr>\n",
       "    <tr>\n",
       "      <th>2</th>\n",
       "      <td>28.451926</td>\n",
       "      <td>31.076434</td>\n",
       "      <td>72.231301</td>\n",
       "      <td>14.245938</td>\n",
       "      <td>-13.225057</td>\n",
       "      <td>-0.614138</td>\n",
       "      <td>-28.331698</td>\n",
       "      <td>-8.858742</td>\n",
       "      <td>31.450289</td>\n",
       "      <td>30.692883</td>\n",
       "      <td>...</td>\n",
       "      <td>0.000327</td>\n",
       "      <td>0.000197</td>\n",
       "      <td>0.000833</td>\n",
       "      <td>0.000909</td>\n",
       "      <td>0.000699</td>\n",
       "      <td>0.001165</td>\n",
       "      <td>0.000616</td>\n",
       "      <td>0</td>\n",
       "      <td>0</td>\n",
       "      <td>1</td>\n",
       "    </tr>\n",
       "    <tr>\n",
       "      <th>3</th>\n",
       "      <td>21.282184</td>\n",
       "      <td>19.985184</td>\n",
       "      <td>16.220094</td>\n",
       "      <td>39.787312</td>\n",
       "      <td>1.847866</td>\n",
       "      <td>0.670216</td>\n",
       "      <td>-1.820355</td>\n",
       "      <td>20.220724</td>\n",
       "      <td>21.404679</td>\n",
       "      <td>20.777411</td>\n",
       "      <td>...</td>\n",
       "      <td>0.006891</td>\n",
       "      <td>0.010546</td>\n",
       "      <td>0.009583</td>\n",
       "      <td>0.011158</td>\n",
       "      <td>0.008853</td>\n",
       "      <td>0.004551</td>\n",
       "      <td>0.002287</td>\n",
       "      <td>0</td>\n",
       "      <td>1</td>\n",
       "      <td>0</td>\n",
       "    </tr>\n",
       "    <tr>\n",
       "      <th>4</th>\n",
       "      <td>20.431516</td>\n",
       "      <td>28.982168</td>\n",
       "      <td>27.540246</td>\n",
       "      <td>19.960398</td>\n",
       "      <td>2.491458</td>\n",
       "      <td>-6.020503</td>\n",
       "      <td>-1.071166</td>\n",
       "      <td>2.655259</td>\n",
       "      <td>16.295039</td>\n",
       "      <td>32.658163</td>\n",
       "      <td>...</td>\n",
       "      <td>0.014492</td>\n",
       "      <td>0.002949</td>\n",
       "      <td>0.004575</td>\n",
       "      <td>0.008305</td>\n",
       "      <td>0.007202</td>\n",
       "      <td>0.006957</td>\n",
       "      <td>0.009836</td>\n",
       "      <td>0</td>\n",
       "      <td>0</td>\n",
       "      <td>1</td>\n",
       "    </tr>\n",
       "    <tr>\n",
       "      <th>...</th>\n",
       "      <td>...</td>\n",
       "      <td>...</td>\n",
       "      <td>...</td>\n",
       "      <td>...</td>\n",
       "      <td>...</td>\n",
       "      <td>...</td>\n",
       "      <td>...</td>\n",
       "      <td>...</td>\n",
       "      <td>...</td>\n",
       "      <td>...</td>\n",
       "      <td>...</td>\n",
       "      <td>...</td>\n",
       "      <td>...</td>\n",
       "      <td>...</td>\n",
       "      <td>...</td>\n",
       "      <td>...</td>\n",
       "      <td>...</td>\n",
       "      <td>...</td>\n",
       "      <td>...</td>\n",
       "      <td>...</td>\n",
       "      <td>...</td>\n",
       "    </tr>\n",
       "    <tr>\n",
       "      <th>2474</th>\n",
       "      <td>15.762328</td>\n",
       "      <td>19.113555</td>\n",
       "      <td>23.696867</td>\n",
       "      <td>7.568395</td>\n",
       "      <td>-6.503336</td>\n",
       "      <td>6.867187</td>\n",
       "      <td>-11.955396</td>\n",
       "      <td>-16.519912</td>\n",
       "      <td>19.838319</td>\n",
       "      <td>14.333094</td>\n",
       "      <td>...</td>\n",
       "      <td>0.004102</td>\n",
       "      <td>0.003156</td>\n",
       "      <td>0.003659</td>\n",
       "      <td>0.010179</td>\n",
       "      <td>0.004591</td>\n",
       "      <td>0.013817</td>\n",
       "      <td>0.004536</td>\n",
       "      <td>1</td>\n",
       "      <td>0</td>\n",
       "      <td>0</td>\n",
       "    </tr>\n",
       "    <tr>\n",
       "      <th>2475</th>\n",
       "      <td>34.675582</td>\n",
       "      <td>34.200645</td>\n",
       "      <td>-57.624820</td>\n",
       "      <td>-4.825609</td>\n",
       "      <td>7.382353</td>\n",
       "      <td>2.324416</td>\n",
       "      <td>-1.341208</td>\n",
       "      <td>-4.178625</td>\n",
       "      <td>26.383597</td>\n",
       "      <td>28.782987</td>\n",
       "      <td>...</td>\n",
       "      <td>0.001702</td>\n",
       "      <td>0.003121</td>\n",
       "      <td>0.002686</td>\n",
       "      <td>0.001645</td>\n",
       "      <td>0.001770</td>\n",
       "      <td>0.001038</td>\n",
       "      <td>0.001973</td>\n",
       "      <td>0</td>\n",
       "      <td>0</td>\n",
       "      <td>1</td>\n",
       "    </tr>\n",
       "    <tr>\n",
       "      <th>2476</th>\n",
       "      <td>29.813809</td>\n",
       "      <td>29.623031</td>\n",
       "      <td>-86.503988</td>\n",
       "      <td>7.532121</td>\n",
       "      <td>-19.581287</td>\n",
       "      <td>-0.628400</td>\n",
       "      <td>133.947160</td>\n",
       "      <td>-2.049096</td>\n",
       "      <td>45.484851</td>\n",
       "      <td>32.163999</td>\n",
       "      <td>...</td>\n",
       "      <td>0.000263</td>\n",
       "      <td>0.000701</td>\n",
       "      <td>0.000797</td>\n",
       "      <td>0.001096</td>\n",
       "      <td>0.000388</td>\n",
       "      <td>0.000529</td>\n",
       "      <td>0.001079</td>\n",
       "      <td>0</td>\n",
       "      <td>0</td>\n",
       "      <td>1</td>\n",
       "    </tr>\n",
       "    <tr>\n",
       "      <th>2477</th>\n",
       "      <td>59.453973</td>\n",
       "      <td>17.944332</td>\n",
       "      <td>-10.164238</td>\n",
       "      <td>42.568211</td>\n",
       "      <td>-1.300655</td>\n",
       "      <td>-19.993690</td>\n",
       "      <td>-54.331696</td>\n",
       "      <td>12.947622</td>\n",
       "      <td>55.203380</td>\n",
       "      <td>40.228490</td>\n",
       "      <td>...</td>\n",
       "      <td>0.004063</td>\n",
       "      <td>0.001662</td>\n",
       "      <td>0.002665</td>\n",
       "      <td>0.002353</td>\n",
       "      <td>0.003976</td>\n",
       "      <td>0.001660</td>\n",
       "      <td>0.003229</td>\n",
       "      <td>0</td>\n",
       "      <td>0</td>\n",
       "      <td>1</td>\n",
       "    </tr>\n",
       "    <tr>\n",
       "      <th>2478</th>\n",
       "      <td>22.893855</td>\n",
       "      <td>30.412723</td>\n",
       "      <td>26.029590</td>\n",
       "      <td>14.249789</td>\n",
       "      <td>-7.101478</td>\n",
       "      <td>-0.551013</td>\n",
       "      <td>3.735563</td>\n",
       "      <td>-9.372750</td>\n",
       "      <td>30.411574</td>\n",
       "      <td>30.079904</td>\n",
       "      <td>...</td>\n",
       "      <td>0.002528</td>\n",
       "      <td>0.005357</td>\n",
       "      <td>0.004612</td>\n",
       "      <td>0.004503</td>\n",
       "      <td>0.003669</td>\n",
       "      <td>0.002316</td>\n",
       "      <td>0.004765</td>\n",
       "      <td>0</td>\n",
       "      <td>1</td>\n",
       "      <td>0</td>\n",
       "    </tr>\n",
       "  </tbody>\n",
       "</table>\n",
       "<p>2479 rows × 991 columns</p>\n",
       "</div>"
      ],
      "text/plain": [
       "      lag1_mean_0  lag1_mean_1  lag1_mean_2  lag1_mean_3  lag1_mean_d_h2h1_0  \\\n",
       "0       25.781648    33.836367   -92.769629    19.187957           -1.542262   \n",
       "1       29.357891    26.792566   417.203910    19.472121          -38.797263   \n",
       "2       28.451926    31.076434    72.231301    14.245938          -13.225057   \n",
       "3       21.282184    19.985184    16.220094    39.787312            1.847866   \n",
       "4       20.431516    28.982168    27.540246    19.960398            2.491458   \n",
       "...           ...          ...          ...          ...                 ...   \n",
       "2474    15.762328    19.113555    23.696867     7.568395           -6.503336   \n",
       "2475    34.675582    34.200645   -57.624820    -4.825609            7.382353   \n",
       "2476    29.813809    29.623031   -86.503988     7.532121          -19.581287   \n",
       "2477    59.453973    17.944332   -10.164238    42.568211           -1.300655   \n",
       "2478    22.893855    30.412723    26.029590    14.249789           -7.101478   \n",
       "\n",
       "      lag1_mean_d_h2h1_1  lag1_mean_d_h2h1_2  lag1_mean_d_h2h1_3  \\\n",
       "0               0.197462         -119.561133            2.032654   \n",
       "1             -16.897194          -29.368531           -9.055370   \n",
       "2              -0.614138          -28.331698           -8.858742   \n",
       "3               0.670216           -1.820355           20.220724   \n",
       "4              -6.020503           -1.071166            2.655259   \n",
       "...                  ...                 ...                 ...   \n",
       "2474            6.867187          -11.955396          -16.519912   \n",
       "2475            2.324416           -1.341208           -4.178625   \n",
       "2476           -0.628400          133.947160           -2.049096   \n",
       "2477          -19.993690          -54.331696           12.947622   \n",
       "2478           -0.551013            3.735563           -9.372750   \n",
       "\n",
       "      lag1_mean_q1_0  lag1_mean_q1_1  ...  freq_689_3  freq_699_3  freq_709_3  \\\n",
       "0          21.596272       33.965587  ...    0.000547    0.000381    0.000350   \n",
       "1          44.647424       40.893307  ...    0.001122    0.000521    0.000624   \n",
       "2          31.450289       30.692883  ...    0.000327    0.000197    0.000833   \n",
       "3          21.404679       20.777411  ...    0.006891    0.010546    0.009583   \n",
       "4          16.295039       32.658163  ...    0.014492    0.002949    0.004575   \n",
       "...              ...             ...  ...         ...         ...         ...   \n",
       "2474       19.838319       14.333094  ...    0.004102    0.003156    0.003659   \n",
       "2475       26.383597       28.782987  ...    0.001702    0.003121    0.002686   \n",
       "2476       45.484851       32.163999  ...    0.000263    0.000701    0.000797   \n",
       "2477       55.203380       40.228490  ...    0.004063    0.001662    0.002665   \n",
       "2478       30.411574       30.079904  ...    0.002528    0.005357    0.004612   \n",
       "\n",
       "      freq_720_3  freq_730_3  freq_740_3  freq_750_3  Label_0.0  Label_1.0  \\\n",
       "0       0.000453    0.000442    0.000325    0.000209          0          0   \n",
       "1       0.000439    0.001249    0.000727    0.000801          0          0   \n",
       "2       0.000909    0.000699    0.001165    0.000616          0          0   \n",
       "3       0.011158    0.008853    0.004551    0.002287          0          1   \n",
       "4       0.008305    0.007202    0.006957    0.009836          0          0   \n",
       "...          ...         ...         ...         ...        ...        ...   \n",
       "2474    0.010179    0.004591    0.013817    0.004536          1          0   \n",
       "2475    0.001645    0.001770    0.001038    0.001973          0          0   \n",
       "2476    0.001096    0.000388    0.000529    0.001079          0          0   \n",
       "2477    0.002353    0.003976    0.001660    0.003229          0          0   \n",
       "2478    0.004503    0.003669    0.002316    0.004765          0          1   \n",
       "\n",
       "      Label_2.0  \n",
       "0             1  \n",
       "1             1  \n",
       "2             1  \n",
       "3             0  \n",
       "4             1  \n",
       "...         ...  \n",
       "2474          0  \n",
       "2475          1  \n",
       "2476          1  \n",
       "2477          1  \n",
       "2478          0  \n",
       "\n",
       "[2479 rows x 991 columns]"
      ]
     },
     "execution_count": 3,
     "metadata": {},
     "output_type": "execute_result"
    }
   ],
   "source": [
    "data_new"
   ]
  },
  {
   "cell_type": "code",
   "execution_count": 4,
   "id": "e9bc33e3",
   "metadata": {},
   "outputs": [
    {
     "data": {
      "text/html": [
       "<div>\n",
       "<style scoped>\n",
       "    .dataframe tbody tr th:only-of-type {\n",
       "        vertical-align: middle;\n",
       "    }\n",
       "\n",
       "    .dataframe tbody tr th {\n",
       "        vertical-align: top;\n",
       "    }\n",
       "\n",
       "    .dataframe thead th {\n",
       "        text-align: right;\n",
       "    }\n",
       "</style>\n",
       "<table border=\"1\" class=\"dataframe\">\n",
       "  <thead>\n",
       "    <tr style=\"text-align: right;\">\n",
       "      <th></th>\n",
       "      <th>lag1_mean_0</th>\n",
       "      <th>lag1_mean_1</th>\n",
       "      <th>lag1_mean_2</th>\n",
       "      <th>lag1_mean_3</th>\n",
       "      <th>lag1_mean_d_h2h1_0</th>\n",
       "      <th>lag1_mean_d_h2h1_1</th>\n",
       "      <th>lag1_mean_d_h2h1_2</th>\n",
       "      <th>lag1_mean_d_h2h1_3</th>\n",
       "      <th>lag1_mean_q1_0</th>\n",
       "      <th>lag1_mean_q1_1</th>\n",
       "      <th>...</th>\n",
       "      <th>freq_659_3</th>\n",
       "      <th>freq_669_3</th>\n",
       "      <th>freq_679_3</th>\n",
       "      <th>freq_689_3</th>\n",
       "      <th>freq_699_3</th>\n",
       "      <th>freq_709_3</th>\n",
       "      <th>freq_720_3</th>\n",
       "      <th>freq_730_3</th>\n",
       "      <th>freq_740_3</th>\n",
       "      <th>freq_750_3</th>\n",
       "    </tr>\n",
       "  </thead>\n",
       "  <tbody>\n",
       "    <tr>\n",
       "      <th>0</th>\n",
       "      <td>25.781648</td>\n",
       "      <td>33.836367</td>\n",
       "      <td>-92.769629</td>\n",
       "      <td>19.187957</td>\n",
       "      <td>-1.542262</td>\n",
       "      <td>0.197462</td>\n",
       "      <td>-119.561133</td>\n",
       "      <td>2.032654</td>\n",
       "      <td>21.596272</td>\n",
       "      <td>33.965587</td>\n",
       "      <td>...</td>\n",
       "      <td>0.000579</td>\n",
       "      <td>0.000230</td>\n",
       "      <td>0.000351</td>\n",
       "      <td>0.000547</td>\n",
       "      <td>0.000381</td>\n",
       "      <td>0.000350</td>\n",
       "      <td>0.000453</td>\n",
       "      <td>0.000442</td>\n",
       "      <td>0.000325</td>\n",
       "      <td>0.000209</td>\n",
       "    </tr>\n",
       "    <tr>\n",
       "      <th>1</th>\n",
       "      <td>29.357891</td>\n",
       "      <td>26.792566</td>\n",
       "      <td>417.203910</td>\n",
       "      <td>19.472121</td>\n",
       "      <td>-38.797263</td>\n",
       "      <td>-16.897194</td>\n",
       "      <td>-29.368531</td>\n",
       "      <td>-9.055370</td>\n",
       "      <td>44.647424</td>\n",
       "      <td>40.893307</td>\n",
       "      <td>...</td>\n",
       "      <td>0.000448</td>\n",
       "      <td>0.001671</td>\n",
       "      <td>0.000740</td>\n",
       "      <td>0.001122</td>\n",
       "      <td>0.000521</td>\n",
       "      <td>0.000624</td>\n",
       "      <td>0.000439</td>\n",
       "      <td>0.001249</td>\n",
       "      <td>0.000727</td>\n",
       "      <td>0.000801</td>\n",
       "    </tr>\n",
       "    <tr>\n",
       "      <th>2</th>\n",
       "      <td>28.451926</td>\n",
       "      <td>31.076434</td>\n",
       "      <td>72.231301</td>\n",
       "      <td>14.245938</td>\n",
       "      <td>-13.225057</td>\n",
       "      <td>-0.614138</td>\n",
       "      <td>-28.331698</td>\n",
       "      <td>-8.858742</td>\n",
       "      <td>31.450289</td>\n",
       "      <td>30.692883</td>\n",
       "      <td>...</td>\n",
       "      <td>0.001028</td>\n",
       "      <td>0.000748</td>\n",
       "      <td>0.000569</td>\n",
       "      <td>0.000327</td>\n",
       "      <td>0.000197</td>\n",
       "      <td>0.000833</td>\n",
       "      <td>0.000909</td>\n",
       "      <td>0.000699</td>\n",
       "      <td>0.001165</td>\n",
       "      <td>0.000616</td>\n",
       "    </tr>\n",
       "    <tr>\n",
       "      <th>3</th>\n",
       "      <td>21.282184</td>\n",
       "      <td>19.985184</td>\n",
       "      <td>16.220094</td>\n",
       "      <td>39.787312</td>\n",
       "      <td>1.847866</td>\n",
       "      <td>0.670216</td>\n",
       "      <td>-1.820355</td>\n",
       "      <td>20.220724</td>\n",
       "      <td>21.404679</td>\n",
       "      <td>20.777411</td>\n",
       "      <td>...</td>\n",
       "      <td>0.015502</td>\n",
       "      <td>0.000990</td>\n",
       "      <td>0.005644</td>\n",
       "      <td>0.006891</td>\n",
       "      <td>0.010546</td>\n",
       "      <td>0.009583</td>\n",
       "      <td>0.011158</td>\n",
       "      <td>0.008853</td>\n",
       "      <td>0.004551</td>\n",
       "      <td>0.002287</td>\n",
       "    </tr>\n",
       "    <tr>\n",
       "      <th>4</th>\n",
       "      <td>20.431516</td>\n",
       "      <td>28.982168</td>\n",
       "      <td>27.540246</td>\n",
       "      <td>19.960398</td>\n",
       "      <td>2.491458</td>\n",
       "      <td>-6.020503</td>\n",
       "      <td>-1.071166</td>\n",
       "      <td>2.655259</td>\n",
       "      <td>16.295039</td>\n",
       "      <td>32.658163</td>\n",
       "      <td>...</td>\n",
       "      <td>0.013212</td>\n",
       "      <td>0.001659</td>\n",
       "      <td>0.014379</td>\n",
       "      <td>0.014492</td>\n",
       "      <td>0.002949</td>\n",
       "      <td>0.004575</td>\n",
       "      <td>0.008305</td>\n",
       "      <td>0.007202</td>\n",
       "      <td>0.006957</td>\n",
       "      <td>0.009836</td>\n",
       "    </tr>\n",
       "  </tbody>\n",
       "</table>\n",
       "<p>5 rows × 988 columns</p>\n",
       "</div>"
      ],
      "text/plain": [
       "   lag1_mean_0  lag1_mean_1  lag1_mean_2  lag1_mean_3  lag1_mean_d_h2h1_0  \\\n",
       "0    25.781648    33.836367   -92.769629    19.187957           -1.542262   \n",
       "1    29.357891    26.792566   417.203910    19.472121          -38.797263   \n",
       "2    28.451926    31.076434    72.231301    14.245938          -13.225057   \n",
       "3    21.282184    19.985184    16.220094    39.787312            1.847866   \n",
       "4    20.431516    28.982168    27.540246    19.960398            2.491458   \n",
       "\n",
       "   lag1_mean_d_h2h1_1  lag1_mean_d_h2h1_2  lag1_mean_d_h2h1_3  lag1_mean_q1_0  \\\n",
       "0            0.197462         -119.561133            2.032654       21.596272   \n",
       "1          -16.897194          -29.368531           -9.055370       44.647424   \n",
       "2           -0.614138          -28.331698           -8.858742       31.450289   \n",
       "3            0.670216           -1.820355           20.220724       21.404679   \n",
       "4           -6.020503           -1.071166            2.655259       16.295039   \n",
       "\n",
       "   lag1_mean_q1_1  ...  freq_659_3  freq_669_3  freq_679_3  freq_689_3  \\\n",
       "0       33.965587  ...    0.000579    0.000230    0.000351    0.000547   \n",
       "1       40.893307  ...    0.000448    0.001671    0.000740    0.001122   \n",
       "2       30.692883  ...    0.001028    0.000748    0.000569    0.000327   \n",
       "3       20.777411  ...    0.015502    0.000990    0.005644    0.006891   \n",
       "4       32.658163  ...    0.013212    0.001659    0.014379    0.014492   \n",
       "\n",
       "   freq_699_3  freq_709_3  freq_720_3  freq_730_3  freq_740_3  freq_750_3  \n",
       "0    0.000381    0.000350    0.000453    0.000442    0.000325    0.000209  \n",
       "1    0.000521    0.000624    0.000439    0.001249    0.000727    0.000801  \n",
       "2    0.000197    0.000833    0.000909    0.000699    0.001165    0.000616  \n",
       "3    0.010546    0.009583    0.011158    0.008853    0.004551    0.002287  \n",
       "4    0.002949    0.004575    0.008305    0.007202    0.006957    0.009836  \n",
       "\n",
       "[5 rows x 988 columns]"
      ]
     },
     "execution_count": 4,
     "metadata": {},
     "output_type": "execute_result"
    }
   ],
   "source": [
    "x=data_new.loc[:,'lag1_mean_0':'freq_750_3']\n",
    "x.head()"
   ]
  },
  {
   "cell_type": "code",
   "execution_count": 5,
   "id": "506c9b6b",
   "metadata": {},
   "outputs": [
    {
     "data": {
      "text/html": [
       "<div>\n",
       "<style scoped>\n",
       "    .dataframe tbody tr th:only-of-type {\n",
       "        vertical-align: middle;\n",
       "    }\n",
       "\n",
       "    .dataframe tbody tr th {\n",
       "        vertical-align: top;\n",
       "    }\n",
       "\n",
       "    .dataframe thead th {\n",
       "        text-align: right;\n",
       "    }\n",
       "</style>\n",
       "<table border=\"1\" class=\"dataframe\">\n",
       "  <thead>\n",
       "    <tr style=\"text-align: right;\">\n",
       "      <th></th>\n",
       "      <th>Label_0.0</th>\n",
       "      <th>Label_1.0</th>\n",
       "      <th>Label_2.0</th>\n",
       "    </tr>\n",
       "  </thead>\n",
       "  <tbody>\n",
       "    <tr>\n",
       "      <th>0</th>\n",
       "      <td>0</td>\n",
       "      <td>0</td>\n",
       "      <td>1</td>\n",
       "    </tr>\n",
       "    <tr>\n",
       "      <th>1</th>\n",
       "      <td>0</td>\n",
       "      <td>0</td>\n",
       "      <td>1</td>\n",
       "    </tr>\n",
       "    <tr>\n",
       "      <th>2</th>\n",
       "      <td>0</td>\n",
       "      <td>0</td>\n",
       "      <td>1</td>\n",
       "    </tr>\n",
       "    <tr>\n",
       "      <th>3</th>\n",
       "      <td>0</td>\n",
       "      <td>1</td>\n",
       "      <td>0</td>\n",
       "    </tr>\n",
       "    <tr>\n",
       "      <th>4</th>\n",
       "      <td>0</td>\n",
       "      <td>0</td>\n",
       "      <td>1</td>\n",
       "    </tr>\n",
       "  </tbody>\n",
       "</table>\n",
       "</div>"
      ],
      "text/plain": [
       "   Label_0.0  Label_1.0  Label_2.0\n",
       "0          0          0          1\n",
       "1          0          0          1\n",
       "2          0          0          1\n",
       "3          0          1          0\n",
       "4          0          0          1"
      ]
     },
     "execution_count": 5,
     "metadata": {},
     "output_type": "execute_result"
    }
   ],
   "source": [
    "y=data_new.loc[:,'Label_0.0':'Label_2.0']\n",
    "y.head()"
   ]
  },
  {
   "cell_type": "code",
   "execution_count": 6,
   "id": "0f2df410",
   "metadata": {},
   "outputs": [],
   "source": [
    "# x=df.drop(['Label'],axis=1)\n",
    "# y=df['Label'].values\n",
    "# y = pd.DataFrame(y)\n",
    "# print(x.shape)\n",
    "# print(y.shape)"
   ]
  },
  {
   "cell_type": "code",
   "execution_count": 7,
   "id": "e0ca253e",
   "metadata": {},
   "outputs": [],
   "source": [
    "scaler = StandardScaler()\n",
    "X_scaled = scaler.fit_transform(x)"
   ]
  },
  {
   "cell_type": "code",
   "execution_count": 8,
   "id": "d1b7f31b",
   "metadata": {},
   "outputs": [],
   "source": [
    "from sklearn.decomposition import PCA"
   ]
  },
  {
   "cell_type": "code",
   "execution_count": 9,
   "id": "4b6a2a65",
   "metadata": {},
   "outputs": [],
   "source": [
    "pca = PCA(n_components=50)"
   ]
  },
  {
   "cell_type": "code",
   "execution_count": 10,
   "id": "40730f8c",
   "metadata": {},
   "outputs": [],
   "source": [
    "X_pca = pca.fit_transform(X_scaled)\n",
    "df_pca = pd.concat([pd.DataFrame(X_pca), y], axis=1)"
   ]
  },
  {
   "cell_type": "code",
   "execution_count": 11,
   "id": "7041c60e",
   "metadata": {},
   "outputs": [
    {
     "data": {
      "text/html": [
       "<div>\n",
       "<style scoped>\n",
       "    .dataframe tbody tr th:only-of-type {\n",
       "        vertical-align: middle;\n",
       "    }\n",
       "\n",
       "    .dataframe tbody tr th {\n",
       "        vertical-align: top;\n",
       "    }\n",
       "\n",
       "    .dataframe thead th {\n",
       "        text-align: right;\n",
       "    }\n",
       "</style>\n",
       "<table border=\"1\" class=\"dataframe\">\n",
       "  <thead>\n",
       "    <tr style=\"text-align: right;\">\n",
       "      <th></th>\n",
       "      <th>0</th>\n",
       "      <th>1</th>\n",
       "      <th>2</th>\n",
       "      <th>3</th>\n",
       "      <th>4</th>\n",
       "      <th>5</th>\n",
       "      <th>6</th>\n",
       "      <th>7</th>\n",
       "      <th>8</th>\n",
       "      <th>9</th>\n",
       "      <th>...</th>\n",
       "      <th>43</th>\n",
       "      <th>44</th>\n",
       "      <th>45</th>\n",
       "      <th>46</th>\n",
       "      <th>47</th>\n",
       "      <th>48</th>\n",
       "      <th>49</th>\n",
       "      <th>Label_0.0</th>\n",
       "      <th>Label_1.0</th>\n",
       "      <th>Label_2.0</th>\n",
       "    </tr>\n",
       "  </thead>\n",
       "  <tbody>\n",
       "    <tr>\n",
       "      <th>0</th>\n",
       "      <td>-21.044050</td>\n",
       "      <td>-0.010535</td>\n",
       "      <td>0.718237</td>\n",
       "      <td>-2.682393</td>\n",
       "      <td>4.193227</td>\n",
       "      <td>-1.814457</td>\n",
       "      <td>1.506927</td>\n",
       "      <td>-7.564069</td>\n",
       "      <td>5.086254</td>\n",
       "      <td>-2.217937</td>\n",
       "      <td>...</td>\n",
       "      <td>-1.095574</td>\n",
       "      <td>-0.145581</td>\n",
       "      <td>2.142091</td>\n",
       "      <td>0.011959</td>\n",
       "      <td>-3.052832</td>\n",
       "      <td>-2.630358</td>\n",
       "      <td>1.202319</td>\n",
       "      <td>0</td>\n",
       "      <td>0</td>\n",
       "      <td>1</td>\n",
       "    </tr>\n",
       "    <tr>\n",
       "      <th>1</th>\n",
       "      <td>-24.072607</td>\n",
       "      <td>-9.930574</td>\n",
       "      <td>-12.967207</td>\n",
       "      <td>2.545072</td>\n",
       "      <td>5.526551</td>\n",
       "      <td>-3.177310</td>\n",
       "      <td>-0.278590</td>\n",
       "      <td>1.138539</td>\n",
       "      <td>0.579483</td>\n",
       "      <td>1.883217</td>\n",
       "      <td>...</td>\n",
       "      <td>-5.853605</td>\n",
       "      <td>-3.300673</td>\n",
       "      <td>-0.325568</td>\n",
       "      <td>-0.946657</td>\n",
       "      <td>-2.223623</td>\n",
       "      <td>-1.668184</td>\n",
       "      <td>3.260453</td>\n",
       "      <td>0</td>\n",
       "      <td>0</td>\n",
       "      <td>1</td>\n",
       "    </tr>\n",
       "    <tr>\n",
       "      <th>2</th>\n",
       "      <td>-22.926461</td>\n",
       "      <td>-3.452873</td>\n",
       "      <td>-3.501628</td>\n",
       "      <td>-1.068487</td>\n",
       "      <td>0.706277</td>\n",
       "      <td>2.762854</td>\n",
       "      <td>-2.036844</td>\n",
       "      <td>-2.407663</td>\n",
       "      <td>-1.345975</td>\n",
       "      <td>1.013190</td>\n",
       "      <td>...</td>\n",
       "      <td>-0.780623</td>\n",
       "      <td>-1.359595</td>\n",
       "      <td>1.788307</td>\n",
       "      <td>0.407313</td>\n",
       "      <td>-0.216107</td>\n",
       "      <td>-0.237476</td>\n",
       "      <td>1.490188</td>\n",
       "      <td>0</td>\n",
       "      <td>0</td>\n",
       "      <td>1</td>\n",
       "    </tr>\n",
       "    <tr>\n",
       "      <th>3</th>\n",
       "      <td>8.600035</td>\n",
       "      <td>-1.355738</td>\n",
       "      <td>1.934047</td>\n",
       "      <td>-1.049669</td>\n",
       "      <td>-1.309943</td>\n",
       "      <td>-1.622926</td>\n",
       "      <td>-0.501734</td>\n",
       "      <td>0.973512</td>\n",
       "      <td>-0.773586</td>\n",
       "      <td>-1.199485</td>\n",
       "      <td>...</td>\n",
       "      <td>-1.095405</td>\n",
       "      <td>-0.563020</td>\n",
       "      <td>2.650087</td>\n",
       "      <td>0.041731</td>\n",
       "      <td>0.765452</td>\n",
       "      <td>0.634682</td>\n",
       "      <td>-1.320351</td>\n",
       "      <td>0</td>\n",
       "      <td>1</td>\n",
       "      <td>0</td>\n",
       "    </tr>\n",
       "    <tr>\n",
       "      <th>4</th>\n",
       "      <td>12.194237</td>\n",
       "      <td>23.783829</td>\n",
       "      <td>-8.415842</td>\n",
       "      <td>3.450492</td>\n",
       "      <td>-3.116790</td>\n",
       "      <td>1.795192</td>\n",
       "      <td>-0.232985</td>\n",
       "      <td>-0.756297</td>\n",
       "      <td>-5.876472</td>\n",
       "      <td>-1.407715</td>\n",
       "      <td>...</td>\n",
       "      <td>0.001754</td>\n",
       "      <td>-4.411913</td>\n",
       "      <td>0.418572</td>\n",
       "      <td>-1.425036</td>\n",
       "      <td>4.025421</td>\n",
       "      <td>1.521240</td>\n",
       "      <td>-1.520795</td>\n",
       "      <td>0</td>\n",
       "      <td>0</td>\n",
       "      <td>1</td>\n",
       "    </tr>\n",
       "  </tbody>\n",
       "</table>\n",
       "<p>5 rows × 53 columns</p>\n",
       "</div>"
      ],
      "text/plain": [
       "           0          1          2         3         4         5         6  \\\n",
       "0 -21.044050  -0.010535   0.718237 -2.682393  4.193227 -1.814457  1.506927   \n",
       "1 -24.072607  -9.930574 -12.967207  2.545072  5.526551 -3.177310 -0.278590   \n",
       "2 -22.926461  -3.452873  -3.501628 -1.068487  0.706277  2.762854 -2.036844   \n",
       "3   8.600035  -1.355738   1.934047 -1.049669 -1.309943 -1.622926 -0.501734   \n",
       "4  12.194237  23.783829  -8.415842  3.450492 -3.116790  1.795192 -0.232985   \n",
       "\n",
       "          7         8         9  ...        43        44        45        46  \\\n",
       "0 -7.564069  5.086254 -2.217937  ... -1.095574 -0.145581  2.142091  0.011959   \n",
       "1  1.138539  0.579483  1.883217  ... -5.853605 -3.300673 -0.325568 -0.946657   \n",
       "2 -2.407663 -1.345975  1.013190  ... -0.780623 -1.359595  1.788307  0.407313   \n",
       "3  0.973512 -0.773586 -1.199485  ... -1.095405 -0.563020  2.650087  0.041731   \n",
       "4 -0.756297 -5.876472 -1.407715  ...  0.001754 -4.411913  0.418572 -1.425036   \n",
       "\n",
       "         47        48        49  Label_0.0  Label_1.0  Label_2.0  \n",
       "0 -3.052832 -2.630358  1.202319          0          0          1  \n",
       "1 -2.223623 -1.668184  3.260453          0          0          1  \n",
       "2 -0.216107 -0.237476  1.490188          0          0          1  \n",
       "3  0.765452  0.634682 -1.320351          0          1          0  \n",
       "4  4.025421  1.521240 -1.520795          0          0          1  \n",
       "\n",
       "[5 rows x 53 columns]"
      ]
     },
     "execution_count": 11,
     "metadata": {},
     "output_type": "execute_result"
    }
   ],
   "source": [
    "df_pca.head()"
   ]
  },
  {
   "cell_type": "code",
   "execution_count": 12,
   "id": "8e66a6d5",
   "metadata": {},
   "outputs": [],
   "source": [
    "y=y.values"
   ]
  },
  {
   "cell_type": "code",
   "execution_count": 13,
   "id": "0b941be6",
   "metadata": {},
   "outputs": [],
   "source": [
    "y=np.argmax(y, axis=1)"
   ]
  },
  {
   "cell_type": "code",
   "execution_count": 14,
   "id": "4b2bbf21",
   "metadata": {},
   "outputs": [],
   "source": [
    "from sklearn.feature_selection import mutual_info_classif"
   ]
  },
  {
   "cell_type": "code",
   "execution_count": 15,
   "id": "10720c68",
   "metadata": {},
   "outputs": [],
   "source": [
    "mi_score=mutual_info_classif(pd.DataFrame(X_pca),y)\n",
    "mi_score=pd.Series(mi_score,index=pd.DataFrame(X_pca).columns)\n",
    "mi_score=(mi_score*100).sort_values(ascending=False)"
   ]
  },
  {
   "cell_type": "code",
   "execution_count": 16,
   "id": "a5590ab0",
   "metadata": {},
   "outputs": [],
   "source": [
    "top_fea=mi_score[:-6].index"
   ]
  },
  {
   "cell_type": "code",
   "execution_count": 17,
   "id": "f7465982",
   "metadata": {},
   "outputs": [
    {
     "data": {
      "text/plain": [
       "Int64Index([ 0, 11,  1,  8, 18,  2, 17,  7,  4, 28, 12, 29,  3, 14, 19, 33, 38,\n",
       "            25,  9, 31, 10, 30,  5, 20,  6, 22, 34, 21, 27, 35, 32, 15, 13, 41,\n",
       "            40, 16, 36, 39, 45, 23, 37, 26, 24, 47],\n",
       "           dtype='int64')"
      ]
     },
     "execution_count": 17,
     "metadata": {},
     "output_type": "execute_result"
    }
   ],
   "source": [
    "top_fea"
   ]
  },
  {
   "cell_type": "code",
   "execution_count": 18,
   "id": "388be063",
   "metadata": {},
   "outputs": [],
   "source": [
    "x_fs=(df_pca[top_fea])"
   ]
  },
  {
   "cell_type": "code",
   "execution_count": 19,
   "id": "bcc67d80",
   "metadata": {},
   "outputs": [],
   "source": [
    "x_fs=pd.DataFrame(x_fs)"
   ]
  },
  {
   "cell_type": "code",
   "execution_count": 20,
   "id": "88f735d0",
   "metadata": {},
   "outputs": [
    {
     "data": {
      "text/html": [
       "<div>\n",
       "<style scoped>\n",
       "    .dataframe tbody tr th:only-of-type {\n",
       "        vertical-align: middle;\n",
       "    }\n",
       "\n",
       "    .dataframe tbody tr th {\n",
       "        vertical-align: top;\n",
       "    }\n",
       "\n",
       "    .dataframe thead th {\n",
       "        text-align: right;\n",
       "    }\n",
       "</style>\n",
       "<table border=\"1\" class=\"dataframe\">\n",
       "  <thead>\n",
       "    <tr style=\"text-align: right;\">\n",
       "      <th></th>\n",
       "      <th>0</th>\n",
       "      <th>11</th>\n",
       "      <th>1</th>\n",
       "      <th>8</th>\n",
       "      <th>18</th>\n",
       "      <th>2</th>\n",
       "      <th>17</th>\n",
       "      <th>7</th>\n",
       "      <th>4</th>\n",
       "      <th>28</th>\n",
       "      <th>...</th>\n",
       "      <th>40</th>\n",
       "      <th>16</th>\n",
       "      <th>36</th>\n",
       "      <th>39</th>\n",
       "      <th>45</th>\n",
       "      <th>23</th>\n",
       "      <th>37</th>\n",
       "      <th>26</th>\n",
       "      <th>24</th>\n",
       "      <th>47</th>\n",
       "    </tr>\n",
       "  </thead>\n",
       "  <tbody>\n",
       "    <tr>\n",
       "      <th>0</th>\n",
       "      <td>-21.044050</td>\n",
       "      <td>4.062114</td>\n",
       "      <td>-0.010535</td>\n",
       "      <td>5.086254</td>\n",
       "      <td>-0.662009</td>\n",
       "      <td>0.718237</td>\n",
       "      <td>-1.099897</td>\n",
       "      <td>-7.564069</td>\n",
       "      <td>4.193227</td>\n",
       "      <td>5.782223</td>\n",
       "      <td>...</td>\n",
       "      <td>-0.485713</td>\n",
       "      <td>4.243470</td>\n",
       "      <td>1.081114</td>\n",
       "      <td>-1.879275</td>\n",
       "      <td>2.142091</td>\n",
       "      <td>-5.273718</td>\n",
       "      <td>0.464495</td>\n",
       "      <td>1.748831</td>\n",
       "      <td>9.848247</td>\n",
       "      <td>-3.052832</td>\n",
       "    </tr>\n",
       "    <tr>\n",
       "      <th>1</th>\n",
       "      <td>-24.072607</td>\n",
       "      <td>5.982362</td>\n",
       "      <td>-9.930574</td>\n",
       "      <td>0.579483</td>\n",
       "      <td>2.661548</td>\n",
       "      <td>-12.967207</td>\n",
       "      <td>7.146522</td>\n",
       "      <td>1.138539</td>\n",
       "      <td>5.526551</td>\n",
       "      <td>-2.699547</td>\n",
       "      <td>...</td>\n",
       "      <td>-1.169009</td>\n",
       "      <td>-5.293656</td>\n",
       "      <td>-3.298888</td>\n",
       "      <td>1.220303</td>\n",
       "      <td>-0.325568</td>\n",
       "      <td>1.609011</td>\n",
       "      <td>1.913721</td>\n",
       "      <td>-2.469966</td>\n",
       "      <td>1.689368</td>\n",
       "      <td>-2.223623</td>\n",
       "    </tr>\n",
       "    <tr>\n",
       "      <th>2</th>\n",
       "      <td>-22.926461</td>\n",
       "      <td>1.108103</td>\n",
       "      <td>-3.452873</td>\n",
       "      <td>-1.345975</td>\n",
       "      <td>1.947774</td>\n",
       "      <td>-3.501628</td>\n",
       "      <td>4.069710</td>\n",
       "      <td>-2.407663</td>\n",
       "      <td>0.706277</td>\n",
       "      <td>-1.456579</td>\n",
       "      <td>...</td>\n",
       "      <td>1.095904</td>\n",
       "      <td>-1.252990</td>\n",
       "      <td>-0.747082</td>\n",
       "      <td>-0.113682</td>\n",
       "      <td>1.788307</td>\n",
       "      <td>0.245409</td>\n",
       "      <td>-2.307305</td>\n",
       "      <td>-1.071969</td>\n",
       "      <td>1.341311</td>\n",
       "      <td>-0.216107</td>\n",
       "    </tr>\n",
       "    <tr>\n",
       "      <th>3</th>\n",
       "      <td>8.600035</td>\n",
       "      <td>-1.231246</td>\n",
       "      <td>-1.355738</td>\n",
       "      <td>-0.773586</td>\n",
       "      <td>-1.068993</td>\n",
       "      <td>1.934047</td>\n",
       "      <td>0.124092</td>\n",
       "      <td>0.973512</td>\n",
       "      <td>-1.309943</td>\n",
       "      <td>-0.657799</td>\n",
       "      <td>...</td>\n",
       "      <td>-0.706143</td>\n",
       "      <td>1.550258</td>\n",
       "      <td>-3.389851</td>\n",
       "      <td>-0.460197</td>\n",
       "      <td>2.650087</td>\n",
       "      <td>-1.457398</td>\n",
       "      <td>-0.918602</td>\n",
       "      <td>-0.235387</td>\n",
       "      <td>-1.332649</td>\n",
       "      <td>0.765452</td>\n",
       "    </tr>\n",
       "    <tr>\n",
       "      <th>4</th>\n",
       "      <td>12.194237</td>\n",
       "      <td>-1.201772</td>\n",
       "      <td>23.783829</td>\n",
       "      <td>-5.876472</td>\n",
       "      <td>7.903222</td>\n",
       "      <td>-8.415842</td>\n",
       "      <td>-0.154245</td>\n",
       "      <td>-0.756297</td>\n",
       "      <td>-3.116790</td>\n",
       "      <td>2.128127</td>\n",
       "      <td>...</td>\n",
       "      <td>0.208228</td>\n",
       "      <td>-0.830748</td>\n",
       "      <td>-1.771932</td>\n",
       "      <td>-0.622137</td>\n",
       "      <td>0.418572</td>\n",
       "      <td>-1.316616</td>\n",
       "      <td>0.888402</td>\n",
       "      <td>-0.552244</td>\n",
       "      <td>-1.721046</td>\n",
       "      <td>4.025421</td>\n",
       "    </tr>\n",
       "  </tbody>\n",
       "</table>\n",
       "<p>5 rows × 44 columns</p>\n",
       "</div>"
      ],
      "text/plain": [
       "          0         11         1         8         18         2         17  \\\n",
       "0 -21.044050  4.062114  -0.010535  5.086254 -0.662009   0.718237 -1.099897   \n",
       "1 -24.072607  5.982362  -9.930574  0.579483  2.661548 -12.967207  7.146522   \n",
       "2 -22.926461  1.108103  -3.452873 -1.345975  1.947774  -3.501628  4.069710   \n",
       "3   8.600035 -1.231246  -1.355738 -0.773586 -1.068993   1.934047  0.124092   \n",
       "4  12.194237 -1.201772  23.783829 -5.876472  7.903222  -8.415842 -0.154245   \n",
       "\n",
       "         7         4         28  ...        40        16        36        39  \\\n",
       "0 -7.564069  4.193227  5.782223  ... -0.485713  4.243470  1.081114 -1.879275   \n",
       "1  1.138539  5.526551 -2.699547  ... -1.169009 -5.293656 -3.298888  1.220303   \n",
       "2 -2.407663  0.706277 -1.456579  ...  1.095904 -1.252990 -0.747082 -0.113682   \n",
       "3  0.973512 -1.309943 -0.657799  ... -0.706143  1.550258 -3.389851 -0.460197   \n",
       "4 -0.756297 -3.116790  2.128127  ...  0.208228 -0.830748 -1.771932 -0.622137   \n",
       "\n",
       "         45        23        37        26        24        47  \n",
       "0  2.142091 -5.273718  0.464495  1.748831  9.848247 -3.052832  \n",
       "1 -0.325568  1.609011  1.913721 -2.469966  1.689368 -2.223623  \n",
       "2  1.788307  0.245409 -2.307305 -1.071969  1.341311 -0.216107  \n",
       "3  2.650087 -1.457398 -0.918602 -0.235387 -1.332649  0.765452  \n",
       "4  0.418572 -1.316616  0.888402 -0.552244 -1.721046  4.025421  \n",
       "\n",
       "[5 rows x 44 columns]"
      ]
     },
     "execution_count": 20,
     "metadata": {},
     "output_type": "execute_result"
    }
   ],
   "source": [
    "x_fs.head()"
   ]
  },
  {
   "cell_type": "code",
   "execution_count": 21,
   "id": "edf3058a",
   "metadata": {},
   "outputs": [],
   "source": [
    "y= pd.get_dummies(y)"
   ]
  },
  {
   "cell_type": "code",
   "execution_count": 22,
   "id": "bbb838bf",
   "metadata": {},
   "outputs": [
    {
     "data": {
      "text/html": [
       "<div>\n",
       "<style scoped>\n",
       "    .dataframe tbody tr th:only-of-type {\n",
       "        vertical-align: middle;\n",
       "    }\n",
       "\n",
       "    .dataframe tbody tr th {\n",
       "        vertical-align: top;\n",
       "    }\n",
       "\n",
       "    .dataframe thead th {\n",
       "        text-align: right;\n",
       "    }\n",
       "</style>\n",
       "<table border=\"1\" class=\"dataframe\">\n",
       "  <thead>\n",
       "    <tr style=\"text-align: right;\">\n",
       "      <th></th>\n",
       "      <th>0</th>\n",
       "      <th>1</th>\n",
       "      <th>2</th>\n",
       "    </tr>\n",
       "  </thead>\n",
       "  <tbody>\n",
       "    <tr>\n",
       "      <th>0</th>\n",
       "      <td>0</td>\n",
       "      <td>0</td>\n",
       "      <td>1</td>\n",
       "    </tr>\n",
       "    <tr>\n",
       "      <th>1</th>\n",
       "      <td>0</td>\n",
       "      <td>0</td>\n",
       "      <td>1</td>\n",
       "    </tr>\n",
       "    <tr>\n",
       "      <th>2</th>\n",
       "      <td>0</td>\n",
       "      <td>0</td>\n",
       "      <td>1</td>\n",
       "    </tr>\n",
       "    <tr>\n",
       "      <th>3</th>\n",
       "      <td>0</td>\n",
       "      <td>1</td>\n",
       "      <td>0</td>\n",
       "    </tr>\n",
       "    <tr>\n",
       "      <th>4</th>\n",
       "      <td>0</td>\n",
       "      <td>0</td>\n",
       "      <td>1</td>\n",
       "    </tr>\n",
       "    <tr>\n",
       "      <th>...</th>\n",
       "      <td>...</td>\n",
       "      <td>...</td>\n",
       "      <td>...</td>\n",
       "    </tr>\n",
       "    <tr>\n",
       "      <th>2474</th>\n",
       "      <td>1</td>\n",
       "      <td>0</td>\n",
       "      <td>0</td>\n",
       "    </tr>\n",
       "    <tr>\n",
       "      <th>2475</th>\n",
       "      <td>0</td>\n",
       "      <td>0</td>\n",
       "      <td>1</td>\n",
       "    </tr>\n",
       "    <tr>\n",
       "      <th>2476</th>\n",
       "      <td>0</td>\n",
       "      <td>0</td>\n",
       "      <td>1</td>\n",
       "    </tr>\n",
       "    <tr>\n",
       "      <th>2477</th>\n",
       "      <td>0</td>\n",
       "      <td>0</td>\n",
       "      <td>1</td>\n",
       "    </tr>\n",
       "    <tr>\n",
       "      <th>2478</th>\n",
       "      <td>0</td>\n",
       "      <td>1</td>\n",
       "      <td>0</td>\n",
       "    </tr>\n",
       "  </tbody>\n",
       "</table>\n",
       "<p>2479 rows × 3 columns</p>\n",
       "</div>"
      ],
      "text/plain": [
       "      0  1  2\n",
       "0     0  0  1\n",
       "1     0  0  1\n",
       "2     0  0  1\n",
       "3     0  1  0\n",
       "4     0  0  1\n",
       "...  .. .. ..\n",
       "2474  1  0  0\n",
       "2475  0  0  1\n",
       "2476  0  0  1\n",
       "2477  0  0  1\n",
       "2478  0  1  0\n",
       "\n",
       "[2479 rows x 3 columns]"
      ]
     },
     "execution_count": 22,
     "metadata": {},
     "output_type": "execute_result"
    }
   ],
   "source": [
    "y"
   ]
  },
  {
   "cell_type": "code",
   "execution_count": 23,
   "id": "84416066",
   "metadata": {},
   "outputs": [],
   "source": [
    "y.rename(columns = {'0':'Label_0.0', '1':'Label_1.0','2':'Label_2.0'}, inplace = True)\n",
    "# df.columns = ['Label_0.0', 'Label_1.0', 'Label_2.0']"
   ]
  },
  {
   "cell_type": "code",
   "execution_count": 24,
   "id": "a06ec744",
   "metadata": {},
   "outputs": [
    {
     "name": "stdout",
     "output_type": "stream",
     "text": [
      "Int64Index([0, 1, 2], dtype='int64')\n"
     ]
    }
   ],
   "source": [
    "print(y.columns)"
   ]
  },
  {
   "cell_type": "code",
   "execution_count": 25,
   "id": "5f7622b7",
   "metadata": {},
   "outputs": [],
   "source": [
    "x_train,x_test,y_train,y_test=train_test_split(pd.DataFrame(x_fs),y,test_size=0.15,random_state=123,stratify=y)\n",
    "x_train,x_val,y_train,y_val=train_test_split(x_train,y_train,test_size=0.2,random_state=123)"
   ]
  },
  {
   "cell_type": "code",
   "execution_count": 26,
   "id": "5a518e9c",
   "metadata": {},
   "outputs": [
    {
     "data": {
      "text/plain": [
       "((1685, 44), (1685, 3), (372, 44), (372, 3))"
      ]
     },
     "execution_count": 26,
     "metadata": {},
     "output_type": "execute_result"
    }
   ],
   "source": [
    "x_train.shape, y_train.shape, x_test.shape, y_test.shape"
   ]
  },
  {
   "cell_type": "code",
   "execution_count": 27,
   "id": "cd0caea4",
   "metadata": {},
   "outputs": [],
   "source": [
    "from tensorflow.keras import Sequential\n",
    "from tensorflow.keras.layers import LSTM"
   ]
  },
  {
   "cell_type": "code",
   "execution_count": 183,
   "id": "21102dd1",
   "metadata": {},
   "outputs": [],
   "source": [
    "model = Sequential()\n",
    "model.add(layers.Conv1D(64, 5, input_shape=(x_train.shape[1], 1)))\n",
    "model.add(LSTM(64, return_sequences=True))\n",
    "model.add(layers.BatchNormalization())\n",
    "model.add(layers.MaxPool1D(2))\n",
    "model.add(layers.Dropout(0.2))\n",
    "model.add(layers.ReLU())\n",
    "\n",
    "\n",
    "model.add(layers.Conv1D(64, 5,activation='relu'))\n",
    "model.add(layers.BatchNormalization())\n",
    "model.add(layers.MaxPool1D(2))\n",
    "model.add(layers.Dropout(0.25))\n",
    "model.add(layers.ReLU())\n",
    "\n",
    "model.add(layers.Flatten())\n",
    "model.add(layers.Dense(3, activation='softmax'))   \n",
    "# model.compile(loss = 'categorical_crossentropy',optimizer = \"adam\",metrics = ['accuracy'])\n",
    "# model.summary()"
   ]
  },
  {
   "cell_type": "code",
   "execution_count": 184,
   "id": "d3bfdf2d",
   "metadata": {},
   "outputs": [],
   "source": [
    "from tensorflow.keras.callbacks import EarlyStopping"
   ]
  },
  {
   "cell_type": "code",
   "execution_count": 185,
   "id": "229e957e",
   "metadata": {},
   "outputs": [],
   "source": [
    "#Defining a custom callback function to stop training our model when accuracy goes above 99%\n",
    "\n",
    "class MyCallback(tf.keras.callbacks.Callback):\n",
    "    def on_epoch_end(self, epoch, logs={}):\n",
    "        if logs.get('val_acc') > 0.99:\n",
    "            print(\"\\nReached accuracy threshold! Terminating training.\")\n",
    "            self.model.stop_training = True\n",
    "            \n",
    "my_callback = MyCallback()\n",
    "\n",
    "#EarlyStopping callback to make sure model is always learning\n",
    "early_stopping = EarlyStopping(monitor='val_loss', patience=2)"
   ]
  },
  {
   "cell_type": "code",
   "execution_count": 186,
   "id": "489dbccc",
   "metadata": {},
   "outputs": [
    {
     "name": "stdout",
     "output_type": "stream",
     "text": [
      "Model: \"sequential_2\"\n",
      "_________________________________________________________________\n",
      " Layer (type)                Output Shape              Param #   \n",
      "=================================================================\n",
      " conv1d_4 (Conv1D)           (None, 40, 64)            384       \n",
      "                                                                 \n",
      " lstm_2 (LSTM)               (None, 40, 64)            33024     \n",
      "                                                                 \n",
      " batch_normalization_4 (Batc  (None, 40, 64)           256       \n",
      " hNormalization)                                                 \n",
      "                                                                 \n",
      " max_pooling1d_4 (MaxPooling  (None, 20, 64)           0         \n",
      " 1D)                                                             \n",
      "                                                                 \n",
      " dropout_4 (Dropout)         (None, 20, 64)            0         \n",
      "                                                                 \n",
      " re_lu_4 (ReLU)              (None, 20, 64)            0         \n",
      "                                                                 \n",
      " conv1d_5 (Conv1D)           (None, 16, 64)            20544     \n",
      "                                                                 \n",
      " batch_normalization_5 (Batc  (None, 16, 64)           256       \n",
      " hNormalization)                                                 \n",
      "                                                                 \n",
      " max_pooling1d_5 (MaxPooling  (None, 8, 64)            0         \n",
      " 1D)                                                             \n",
      "                                                                 \n",
      " dropout_5 (Dropout)         (None, 8, 64)             0         \n",
      "                                                                 \n",
      " re_lu_5 (ReLU)              (None, 8, 64)             0         \n",
      "                                                                 \n",
      " flatten_2 (Flatten)         (None, 512)               0         \n",
      "                                                                 \n",
      " dense_2 (Dense)             (None, 3)                 1539      \n",
      "                                                                 \n",
      "=================================================================\n",
      "Total params: 56,003\n",
      "Trainable params: 55,747\n",
      "Non-trainable params: 256\n",
      "_________________________________________________________________\n"
     ]
    }
   ],
   "source": [
    "#Defining other parameters for our CNN model\n",
    "\n",
    "model = model\n",
    "\n",
    "METRICS = [tf.keras.metrics.CategoricalAccuracy(name='Accuracy'),\n",
    "           tf.keras.metrics.AUC(name='AUC')]\n",
    "\n",
    "CALLBACKS = [my_callback]\n",
    "\n",
    "\n",
    "model.compile(optimizer='adam',\n",
    "              loss=tf.losses.CategoricalCrossentropy(),\n",
    "              metrics=METRICS)\n",
    "\n",
    "model.summary()"
   ]
  },
  {
   "cell_type": "code",
   "execution_count": 260,
   "id": "92472cc1",
   "metadata": {},
   "outputs": [
    {
     "name": "stdout",
     "output_type": "stream",
     "text": [
      "Epoch 1/100\n",
      "25/25 [==============================] - 1s 38ms/step - loss: 0.0060 - Accuracy: 0.9964 - AUC: 1.0000 - val_loss: 0.1755 - val_Accuracy: 0.9550 - val_AUC: 0.9907\n",
      "Epoch 2/100\n",
      "25/25 [==============================] - 1s 37ms/step - loss: 0.0063 - Accuracy: 0.9976 - AUC: 1.0000 - val_loss: 0.1761 - val_Accuracy: 0.9573 - val_AUC: 0.9909\n",
      "Epoch 3/100\n",
      "25/25 [==============================] - 1s 36ms/step - loss: 0.0050 - Accuracy: 0.9988 - AUC: 1.0000 - val_loss: 0.1807 - val_Accuracy: 0.9573 - val_AUC: 0.9908\n",
      "Epoch 4/100\n",
      "25/25 [==============================] - 1s 37ms/step - loss: 0.0053 - Accuracy: 0.9988 - AUC: 1.0000 - val_loss: 0.1808 - val_Accuracy: 0.9597 - val_AUC: 0.9908\n",
      "Epoch 5/100\n",
      "25/25 [==============================] - 1s 36ms/step - loss: 0.0081 - Accuracy: 0.9964 - AUC: 1.0000 - val_loss: 0.1963 - val_Accuracy: 0.9550 - val_AUC: 0.9887\n",
      "Epoch 6/100\n",
      "25/25 [==============================] - 1s 36ms/step - loss: 0.0097 - Accuracy: 0.9964 - AUC: 0.9995 - val_loss: 0.2240 - val_Accuracy: 0.9550 - val_AUC: 0.9870\n",
      "Epoch 7/100\n",
      "25/25 [==============================] - 1s 36ms/step - loss: 0.0130 - Accuracy: 0.9970 - AUC: 1.0000 - val_loss: 0.1978 - val_Accuracy: 0.9597 - val_AUC: 0.9888\n",
      "Epoch 8/100\n",
      "25/25 [==============================] - 1s 36ms/step - loss: 0.0043 - Accuracy: 0.9988 - AUC: 1.0000 - val_loss: 0.1855 - val_Accuracy: 0.9550 - val_AUC: 0.9904\n",
      "Epoch 9/100\n",
      "25/25 [==============================] - 1s 39ms/step - loss: 0.0074 - Accuracy: 0.9964 - AUC: 1.0000 - val_loss: 0.2049 - val_Accuracy: 0.9550 - val_AUC: 0.9872\n",
      "Epoch 10/100\n",
      "25/25 [==============================] - 1s 36ms/step - loss: 0.0036 - Accuracy: 0.9988 - AUC: 1.0000 - val_loss: 0.2125 - val_Accuracy: 0.9550 - val_AUC: 0.9871\n",
      "Epoch 11/100\n",
      "25/25 [==============================] - 1s 36ms/step - loss: 0.0025 - Accuracy: 0.9994 - AUC: 1.0000 - val_loss: 0.2182 - val_Accuracy: 0.9550 - val_AUC: 0.9871\n",
      "Epoch 12/100\n",
      "25/25 [==============================] - 1s 36ms/step - loss: 0.0029 - Accuracy: 0.9994 - AUC: 1.0000 - val_loss: 0.2039 - val_Accuracy: 0.9550 - val_AUC: 0.9873\n",
      "Epoch 13/100\n",
      "25/25 [==============================] - 1s 36ms/step - loss: 0.0092 - Accuracy: 0.9982 - AUC: 0.9995 - val_loss: 0.2111 - val_Accuracy: 0.9573 - val_AUC: 0.9852\n",
      "Epoch 14/100\n",
      "25/25 [==============================] - 1s 36ms/step - loss: 0.0033 - Accuracy: 0.9994 - AUC: 1.0000 - val_loss: 0.2398 - val_Accuracy: 0.9502 - val_AUC: 0.9833\n",
      "Epoch 15/100\n",
      "25/25 [==============================] - 1s 37ms/step - loss: 0.0032 - Accuracy: 0.9988 - AUC: 1.0000 - val_loss: 0.2233 - val_Accuracy: 0.9526 - val_AUC: 0.9851\n",
      "Epoch 16/100\n",
      "25/25 [==============================] - 1s 38ms/step - loss: 0.0048 - Accuracy: 0.9988 - AUC: 1.0000 - val_loss: 0.2144 - val_Accuracy: 0.9550 - val_AUC: 0.9854\n",
      "Epoch 17/100\n",
      "25/25 [==============================] - 1s 38ms/step - loss: 0.0020 - Accuracy: 1.0000 - AUC: 1.0000 - val_loss: 0.2068 - val_Accuracy: 0.9526 - val_AUC: 0.9887\n",
      "Epoch 18/100\n",
      "25/25 [==============================] - 1s 37ms/step - loss: 0.0020 - Accuracy: 1.0000 - AUC: 1.0000 - val_loss: 0.2098 - val_Accuracy: 0.9526 - val_AUC: 0.9875\n",
      "Epoch 19/100\n",
      "25/25 [==============================] - 1s 37ms/step - loss: 0.0026 - Accuracy: 0.9994 - AUC: 1.0000 - val_loss: 0.2189 - val_Accuracy: 0.9479 - val_AUC: 0.9870\n",
      "Epoch 20/100\n",
      "25/25 [==============================] - 1s 36ms/step - loss: 0.0021 - Accuracy: 0.9994 - AUC: 1.0000 - val_loss: 0.2182 - val_Accuracy: 0.9502 - val_AUC: 0.9885\n",
      "Epoch 21/100\n",
      "25/25 [==============================] - 1s 36ms/step - loss: 0.0017 - Accuracy: 1.0000 - AUC: 1.0000 - val_loss: 0.2088 - val_Accuracy: 0.9550 - val_AUC: 0.9887\n",
      "Epoch 22/100\n",
      "25/25 [==============================] - 1s 36ms/step - loss: 0.0016 - Accuracy: 1.0000 - AUC: 1.0000 - val_loss: 0.2179 - val_Accuracy: 0.9502 - val_AUC: 0.9885\n",
      "Epoch 23/100\n",
      "25/25 [==============================] - 1s 37ms/step - loss: 0.0034 - Accuracy: 0.9994 - AUC: 1.0000 - val_loss: 0.1987 - val_Accuracy: 0.9550 - val_AUC: 0.9878\n",
      "Epoch 24/100\n",
      "25/25 [==============================] - 1s 37ms/step - loss: 0.0055 - Accuracy: 0.9988 - AUC: 1.0000 - val_loss: 0.2279 - val_Accuracy: 0.9479 - val_AUC: 0.9854\n",
      "Epoch 25/100\n",
      "25/25 [==============================] - 1s 36ms/step - loss: 0.0027 - Accuracy: 0.9994 - AUC: 1.0000 - val_loss: 0.2349 - val_Accuracy: 0.9550 - val_AUC: 0.9837\n",
      "Epoch 26/100\n",
      "25/25 [==============================] - 1s 36ms/step - loss: 0.0024 - Accuracy: 0.9988 - AUC: 1.0000 - val_loss: 0.2154 - val_Accuracy: 0.9550 - val_AUC: 0.9873\n",
      "Epoch 27/100\n",
      "25/25 [==============================] - 1s 37ms/step - loss: 0.0049 - Accuracy: 0.9982 - AUC: 1.0000 - val_loss: 0.2194 - val_Accuracy: 0.9573 - val_AUC: 0.9872\n",
      "Epoch 28/100\n",
      "25/25 [==============================] - 1s 36ms/step - loss: 0.0050 - Accuracy: 0.9976 - AUC: 1.0000 - val_loss: 0.1978 - val_Accuracy: 0.9597 - val_AUC: 0.9874\n",
      "Epoch 29/100\n",
      "25/25 [==============================] - 1s 39ms/step - loss: 0.0040 - Accuracy: 0.9988 - AUC: 1.0000 - val_loss: 0.2143 - val_Accuracy: 0.9621 - val_AUC: 0.9889\n",
      "Epoch 30/100\n",
      "25/25 [==============================] - 1s 36ms/step - loss: 0.0026 - Accuracy: 0.9994 - AUC: 1.0000 - val_loss: 0.2051 - val_Accuracy: 0.9550 - val_AUC: 0.9890\n",
      "Epoch 31/100\n",
      "25/25 [==============================] - 1s 36ms/step - loss: 0.0029 - Accuracy: 0.9994 - AUC: 1.0000 - val_loss: 0.2190 - val_Accuracy: 0.9526 - val_AUC: 0.9905\n",
      "Epoch 32/100\n",
      "25/25 [==============================] - 1s 39ms/step - loss: 0.0032 - Accuracy: 0.9988 - AUC: 1.0000 - val_loss: 0.2683 - val_Accuracy: 0.9479 - val_AUC: 0.9850\n",
      "Epoch 33/100\n",
      "25/25 [==============================] - 1s 36ms/step - loss: 0.0065 - Accuracy: 0.9970 - AUC: 1.0000 - val_loss: 0.2687 - val_Accuracy: 0.9502 - val_AUC: 0.9830\n",
      "Epoch 34/100\n",
      "25/25 [==============================] - 1s 36ms/step - loss: 0.0037 - Accuracy: 0.9988 - AUC: 1.0000 - val_loss: 0.2586 - val_Accuracy: 0.9526 - val_AUC: 0.9834\n",
      "Epoch 35/100\n",
      "25/25 [==============================] - 1s 36ms/step - loss: 0.0025 - Accuracy: 1.0000 - AUC: 1.0000 - val_loss: 0.2548 - val_Accuracy: 0.9526 - val_AUC: 0.9867\n",
      "Epoch 36/100\n",
      "25/25 [==============================] - 1s 36ms/step - loss: 0.0047 - Accuracy: 0.9988 - AUC: 1.0000 - val_loss: 0.2378 - val_Accuracy: 0.9550 - val_AUC: 0.9851\n",
      "Epoch 37/100\n",
      "25/25 [==============================] - 1s 36ms/step - loss: 0.0039 - Accuracy: 0.9994 - AUC: 1.0000 - val_loss: 0.2645 - val_Accuracy: 0.9550 - val_AUC: 0.9825\n",
      "Epoch 38/100\n",
      "25/25 [==============================] - 1s 40ms/step - loss: 0.0028 - Accuracy: 0.9988 - AUC: 1.0000 - val_loss: 0.2994 - val_Accuracy: 0.9526 - val_AUC: 0.9805\n",
      "Epoch 39/100\n",
      "25/25 [==============================] - 1s 40ms/step - loss: 0.0025 - Accuracy: 1.0000 - AUC: 1.0000 - val_loss: 0.2969 - val_Accuracy: 0.9526 - val_AUC: 0.9756\n",
      "Epoch 40/100\n",
      "25/25 [==============================] - 1s 37ms/step - loss: 0.0030 - Accuracy: 0.9994 - AUC: 1.0000 - val_loss: 0.3206 - val_Accuracy: 0.9455 - val_AUC: 0.9782\n",
      "Epoch 41/100\n",
      "25/25 [==============================] - 1s 40ms/step - loss: 0.0054 - Accuracy: 0.9976 - AUC: 1.0000 - val_loss: 0.3042 - val_Accuracy: 0.9455 - val_AUC: 0.9805\n",
      "Epoch 42/100\n",
      "25/25 [==============================] - 1s 41ms/step - loss: 0.0034 - Accuracy: 0.9994 - AUC: 1.0000 - val_loss: 0.3352 - val_Accuracy: 0.9526 - val_AUC: 0.9782\n",
      "Epoch 43/100\n",
      "25/25 [==============================] - 1s 36ms/step - loss: 0.0051 - Accuracy: 0.9982 - AUC: 1.0000 - val_loss: 0.3112 - val_Accuracy: 0.9455 - val_AUC: 0.9805\n",
      "Epoch 44/100\n",
      "25/25 [==============================] - 1s 36ms/step - loss: 0.0051 - Accuracy: 0.9976 - AUC: 1.0000 - val_loss: 0.3383 - val_Accuracy: 0.9431 - val_AUC: 0.9793\n",
      "Epoch 45/100\n",
      "25/25 [==============================] - 1s 36ms/step - loss: 0.0053 - Accuracy: 0.9982 - AUC: 1.0000 - val_loss: 0.2909 - val_Accuracy: 0.9479 - val_AUC: 0.9810\n",
      "Epoch 46/100\n",
      "25/25 [==============================] - 1s 36ms/step - loss: 0.0067 - Accuracy: 0.9988 - AUC: 0.9995 - val_loss: 0.2965 - val_Accuracy: 0.9479 - val_AUC: 0.9779\n",
      "Epoch 47/100\n",
      "25/25 [==============================] - 1s 36ms/step - loss: 0.0023 - Accuracy: 0.9994 - AUC: 1.0000 - val_loss: 0.2837 - val_Accuracy: 0.9502 - val_AUC: 0.9782\n"
     ]
    },
    {
     "name": "stdout",
     "output_type": "stream",
     "text": [
      "Epoch 48/100\n",
      "25/25 [==============================] - 1s 36ms/step - loss: 0.0057 - Accuracy: 0.9976 - AUC: 1.0000 - val_loss: 0.2739 - val_Accuracy: 0.9526 - val_AUC: 0.9835\n",
      "Epoch 49/100\n",
      "25/25 [==============================] - 1s 36ms/step - loss: 0.0064 - Accuracy: 0.9970 - AUC: 1.0000 - val_loss: 0.2474 - val_Accuracy: 0.9573 - val_AUC: 0.9839\n",
      "Epoch 50/100\n",
      "25/25 [==============================] - 1s 36ms/step - loss: 0.0051 - Accuracy: 0.9982 - AUC: 1.0000 - val_loss: 0.2932 - val_Accuracy: 0.9431 - val_AUC: 0.9799\n",
      "Epoch 51/100\n",
      "25/25 [==============================] - 1s 36ms/step - loss: 0.0096 - Accuracy: 0.9958 - AUC: 1.0000 - val_loss: 0.2423 - val_Accuracy: 0.9502 - val_AUC: 0.9850\n",
      "Epoch 52/100\n",
      "25/25 [==============================] - 1s 36ms/step - loss: 0.0048 - Accuracy: 0.9982 - AUC: 1.0000 - val_loss: 0.3089 - val_Accuracy: 0.9336 - val_AUC: 0.9784\n",
      "Epoch 53/100\n",
      "25/25 [==============================] - 1s 36ms/step - loss: 0.0071 - Accuracy: 0.9970 - AUC: 1.0000 - val_loss: 0.2681 - val_Accuracy: 0.9526 - val_AUC: 0.9829\n",
      "Epoch 54/100\n",
      "25/25 [==============================] - 1s 36ms/step - loss: 0.0074 - Accuracy: 0.9964 - AUC: 1.0000 - val_loss: 0.3188 - val_Accuracy: 0.9384 - val_AUC: 0.9800\n",
      "Epoch 55/100\n",
      "25/25 [==============================] - 1s 36ms/step - loss: 0.0060 - Accuracy: 0.9976 - AUC: 1.0000 - val_loss: 0.3027 - val_Accuracy: 0.9502 - val_AUC: 0.9813\n",
      "Epoch 56/100\n",
      "25/25 [==============================] - 1s 36ms/step - loss: 0.0297 - Accuracy: 0.9911 - AUC: 0.9985 - val_loss: 0.3525 - val_Accuracy: 0.9336 - val_AUC: 0.9822\n",
      "Epoch 57/100\n",
      "25/25 [==============================] - 1s 36ms/step - loss: 0.0194 - Accuracy: 0.9947 - AUC: 0.9995 - val_loss: 0.3537 - val_Accuracy: 0.9360 - val_AUC: 0.9793\n",
      "Epoch 58/100\n",
      "25/25 [==============================] - 1s 36ms/step - loss: 0.0198 - Accuracy: 0.9935 - AUC: 0.9999 - val_loss: 0.3471 - val_Accuracy: 0.9384 - val_AUC: 0.9769\n",
      "Epoch 59/100\n",
      "25/25 [==============================] - 1s 36ms/step - loss: 0.0142 - Accuracy: 0.9941 - AUC: 0.9999 - val_loss: 0.2999 - val_Accuracy: 0.9408 - val_AUC: 0.9822\n",
      "Epoch 60/100\n",
      "25/25 [==============================] - 1s 36ms/step - loss: 0.0185 - Accuracy: 0.9941 - AUC: 0.9995 - val_loss: 0.3245 - val_Accuracy: 0.9360 - val_AUC: 0.9778\n",
      "Epoch 61/100\n",
      "25/25 [==============================] - 1s 36ms/step - loss: 0.0115 - Accuracy: 0.9941 - AUC: 1.0000 - val_loss: 0.3093 - val_Accuracy: 0.9431 - val_AUC: 0.9774\n",
      "Epoch 62/100\n",
      "25/25 [==============================] - 1s 36ms/step - loss: 0.0127 - Accuracy: 0.9976 - AUC: 0.9995 - val_loss: 0.3372 - val_Accuracy: 0.9502 - val_AUC: 0.9743\n",
      "Epoch 63/100\n",
      "25/25 [==============================] - 1s 36ms/step - loss: 0.0149 - Accuracy: 0.9953 - AUC: 0.9999 - val_loss: 0.3326 - val_Accuracy: 0.9502 - val_AUC: 0.9780\n",
      "Epoch 64/100\n",
      "25/25 [==============================] - 1s 36ms/step - loss: 0.0125 - Accuracy: 0.9976 - AUC: 0.9995 - val_loss: 0.2936 - val_Accuracy: 0.9526 - val_AUC: 0.9784\n",
      "Epoch 65/100\n",
      "25/25 [==============================] - 1s 37ms/step - loss: 0.0140 - Accuracy: 0.9958 - AUC: 0.9995 - val_loss: 0.3493 - val_Accuracy: 0.9502 - val_AUC: 0.9764\n",
      "Epoch 66/100\n",
      "25/25 [==============================] - 1s 36ms/step - loss: 0.0109 - Accuracy: 0.9964 - AUC: 1.0000 - val_loss: 0.2972 - val_Accuracy: 0.9502 - val_AUC: 0.9818\n",
      "Epoch 67/100\n",
      "25/25 [==============================] - 1s 36ms/step - loss: 0.0099 - Accuracy: 0.9964 - AUC: 1.0000 - val_loss: 0.2262 - val_Accuracy: 0.9550 - val_AUC: 0.9838\n",
      "Epoch 68/100\n",
      "25/25 [==============================] - 1s 36ms/step - loss: 0.0082 - Accuracy: 0.9958 - AUC: 1.0000 - val_loss: 0.2213 - val_Accuracy: 0.9573 - val_AUC: 0.9839\n",
      "Epoch 69/100\n",
      "25/25 [==============================] - 1s 36ms/step - loss: 0.0028 - Accuracy: 1.0000 - AUC: 1.0000 - val_loss: 0.2231 - val_Accuracy: 0.9597 - val_AUC: 0.9890\n",
      "Epoch 70/100\n",
      "25/25 [==============================] - 1s 36ms/step - loss: 0.0042 - Accuracy: 0.9988 - AUC: 1.0000 - val_loss: 0.2552 - val_Accuracy: 0.9597 - val_AUC: 0.9868\n",
      "Epoch 71/100\n",
      "25/25 [==============================] - 1s 36ms/step - loss: 0.0073 - Accuracy: 0.9970 - AUC: 1.0000 - val_loss: 0.3226 - val_Accuracy: 0.9479 - val_AUC: 0.9801\n",
      "Epoch 72/100\n",
      "25/25 [==============================] - 1s 39ms/step - loss: 0.0045 - Accuracy: 0.9988 - AUC: 1.0000 - val_loss: 0.2915 - val_Accuracy: 0.9526 - val_AUC: 0.9800\n",
      "Epoch 73/100\n",
      "25/25 [==============================] - 1s 36ms/step - loss: 0.0035 - Accuracy: 0.9988 - AUC: 1.0000 - val_loss: 0.2668 - val_Accuracy: 0.9502 - val_AUC: 0.9834\n",
      "Epoch 74/100\n",
      "25/25 [==============================] - 1s 36ms/step - loss: 0.0034 - Accuracy: 0.9988 - AUC: 1.0000 - val_loss: 0.2950 - val_Accuracy: 0.9502 - val_AUC: 0.9800\n",
      "Epoch 75/100\n",
      "25/25 [==============================] - 1s 36ms/step - loss: 0.0090 - Accuracy: 0.9953 - AUC: 1.0000 - val_loss: 0.3823 - val_Accuracy: 0.9408 - val_AUC: 0.9766\n",
      "Epoch 76/100\n",
      "25/25 [==============================] - 1s 36ms/step - loss: 0.0057 - Accuracy: 0.9982 - AUC: 1.0000 - val_loss: 0.3205 - val_Accuracy: 0.9479 - val_AUC: 0.9785\n",
      "Epoch 77/100\n",
      "25/25 [==============================] - 1s 36ms/step - loss: 0.0037 - Accuracy: 0.9994 - AUC: 1.0000 - val_loss: 0.2891 - val_Accuracy: 0.9479 - val_AUC: 0.9797\n",
      "Epoch 78/100\n",
      "25/25 [==============================] - 1s 37ms/step - loss: 0.0036 - Accuracy: 0.9988 - AUC: 1.0000 - val_loss: 0.3224 - val_Accuracy: 0.9384 - val_AUC: 0.9797\n",
      "Epoch 79/100\n",
      "25/25 [==============================] - 1s 36ms/step - loss: 0.0046 - Accuracy: 0.9976 - AUC: 1.0000 - val_loss: 0.2782 - val_Accuracy: 0.9431 - val_AUC: 0.9817\n",
      "Epoch 80/100\n",
      "25/25 [==============================] - 1s 36ms/step - loss: 0.0061 - Accuracy: 0.9970 - AUC: 1.0000 - val_loss: 0.3168 - val_Accuracy: 0.9455 - val_AUC: 0.9744\n",
      "Epoch 81/100\n",
      "25/25 [==============================] - 1s 37ms/step - loss: 0.0063 - Accuracy: 0.9982 - AUC: 1.0000 - val_loss: 0.3017 - val_Accuracy: 0.9408 - val_AUC: 0.9779\n",
      "Epoch 82/100\n",
      "25/25 [==============================] - 1s 39ms/step - loss: 0.0083 - Accuracy: 0.9964 - AUC: 1.0000 - val_loss: 0.3146 - val_Accuracy: 0.9408 - val_AUC: 0.9813\n",
      "Epoch 83/100\n",
      "25/25 [==============================] - 1s 37ms/step - loss: 0.0096 - Accuracy: 0.9970 - AUC: 1.0000 - val_loss: 0.3254 - val_Accuracy: 0.9408 - val_AUC: 0.9829\n",
      "Epoch 84/100\n",
      "25/25 [==============================] - 1s 36ms/step - loss: 0.0057 - Accuracy: 0.9976 - AUC: 1.0000 - val_loss: 0.3250 - val_Accuracy: 0.9455 - val_AUC: 0.9783\n",
      "Epoch 85/100\n",
      "25/25 [==============================] - 1s 39ms/step - loss: 0.0066 - Accuracy: 0.9970 - AUC: 1.0000 - val_loss: 0.3117 - val_Accuracy: 0.9550 - val_AUC: 0.9817\n",
      "Epoch 86/100\n",
      "25/25 [==============================] - 1s 36ms/step - loss: 0.0040 - Accuracy: 0.9982 - AUC: 1.0000 - val_loss: 0.3552 - val_Accuracy: 0.9455 - val_AUC: 0.9764\n",
      "Epoch 87/100\n",
      "25/25 [==============================] - 1s 36ms/step - loss: 0.0043 - Accuracy: 0.9988 - AUC: 1.0000 - val_loss: 0.3503 - val_Accuracy: 0.9479 - val_AUC: 0.9765\n",
      "Epoch 88/100\n",
      "25/25 [==============================] - 1s 37ms/step - loss: 0.0054 - Accuracy: 0.9982 - AUC: 1.0000 - val_loss: 0.3103 - val_Accuracy: 0.9455 - val_AUC: 0.9732\n",
      "Epoch 89/100\n",
      "25/25 [==============================] - 1s 38ms/step - loss: 0.0059 - Accuracy: 0.9988 - AUC: 1.0000 - val_loss: 0.3245 - val_Accuracy: 0.9408 - val_AUC: 0.9769\n",
      "Epoch 90/100\n",
      "25/25 [==============================] - 1s 36ms/step - loss: 0.0118 - Accuracy: 0.9964 - AUC: 1.0000 - val_loss: 0.3601 - val_Accuracy: 0.9479 - val_AUC: 0.9737\n",
      "Epoch 91/100\n",
      "25/25 [==============================] - 1s 36ms/step - loss: 0.0092 - Accuracy: 0.9964 - AUC: 1.0000 - val_loss: 0.2858 - val_Accuracy: 0.9526 - val_AUC: 0.9790\n",
      "Epoch 92/100\n",
      "25/25 [==============================] - 1s 37ms/step - loss: 0.0070 - Accuracy: 0.9970 - AUC: 1.0000 - val_loss: 0.2812 - val_Accuracy: 0.9479 - val_AUC: 0.9806\n",
      "Epoch 93/100\n",
      "25/25 [==============================] - 1s 37ms/step - loss: 0.0053 - Accuracy: 0.9970 - AUC: 1.0000 - val_loss: 0.2905 - val_Accuracy: 0.9455 - val_AUC: 0.9791\n",
      "Epoch 94/100\n",
      "25/25 [==============================] - 1s 37ms/step - loss: 0.0054 - Accuracy: 0.9970 - AUC: 1.0000 - val_loss: 0.3316 - val_Accuracy: 0.9479 - val_AUC: 0.9777\n"
     ]
    },
    {
     "name": "stdout",
     "output_type": "stream",
     "text": [
      "Epoch 95/100\n",
      "25/25 [==============================] - 1s 38ms/step - loss: 0.0044 - Accuracy: 0.9970 - AUC: 1.0000 - val_loss: 0.3374 - val_Accuracy: 0.9502 - val_AUC: 0.9753\n",
      "Epoch 96/100\n",
      "25/25 [==============================] - 1s 36ms/step - loss: 0.0038 - Accuracy: 0.9988 - AUC: 1.0000 - val_loss: 0.3516 - val_Accuracy: 0.9455 - val_AUC: 0.9761\n",
      "Epoch 97/100\n",
      "25/25 [==============================] - 1s 36ms/step - loss: 0.0032 - Accuracy: 0.9988 - AUC: 1.0000 - val_loss: 0.3092 - val_Accuracy: 0.9479 - val_AUC: 0.9779\n",
      "Epoch 98/100\n",
      "25/25 [==============================] - 1s 36ms/step - loss: 0.0019 - Accuracy: 0.9994 - AUC: 1.0000 - val_loss: 0.3173 - val_Accuracy: 0.9431 - val_AUC: 0.9794\n",
      "Epoch 99/100\n",
      "25/25 [==============================] - 1s 36ms/step - loss: 0.0047 - Accuracy: 0.9982 - AUC: 1.0000 - val_loss: 0.3435 - val_Accuracy: 0.9479 - val_AUC: 0.9764\n",
      "Epoch 100/100\n",
      "25/25 [==============================] - 1s 36ms/step - loss: 0.0094 - Accuracy: 0.9970 - AUC: 1.0000 - val_loss: 0.3402 - val_Accuracy: 0.9431 - val_AUC: 0.9801\n"
     ]
    }
   ],
   "source": [
    "history=model.fit(x_train,y_train,batch_size=70,epochs=100,verbose=1,validation_data=(x_val,y_val))"
   ]
  },
  {
   "cell_type": "code",
   "execution_count": 237,
   "id": "8d06cb76",
   "metadata": {},
   "outputs": [
    {
     "data": {
      "image/png": "[encoded data removed]",
      "text/plain": [
       "<Figure size 2160x360 with 3 Axes>"
      ]
     },
     "metadata": {
      "needs_background": "light"
     },
     "output_type": "display_data"
    }
   ],
   "source": [
    "fig, ax = plt.subplots(1, 3, figsize = (30, 5))\n",
    "ax = ax.ravel()\n",
    "\n",
    "for i, metric in enumerate([\"Accuracy\",\"AUC\", \"loss\"]):\n",
    "    ax[i].plot(history.history[metric])\n",
    "    ax[i].plot(history.history[\"val_\" + metric])\n",
    "    ax[i].set_title(\"Model {}\".format(metric))\n",
    "    ax[i].set_xlabel(\"Epochs\")\n",
    "    ax[i].set_ylabel(metric)\n",
    "    ax[i].legend([\"train\", \"val\"])"
   ]
  },
  {
   "cell_type": "code",
   "execution_count": 238,
   "id": "7e310e7e",
   "metadata": {},
   "outputs": [
    {
     "name": "stdout",
     "output_type": "stream",
     "text": [
      "12/12 [==============================] - 0s 7ms/step\n"
     ]
    }
   ],
   "source": [
    "pred = model.predict(x_test)"
   ]
  },
  {
   "cell_type": "code",
   "execution_count": 239,
   "id": "63fb7085",
   "metadata": {},
   "outputs": [
    {
     "data": {
      "text/plain": [
       "array([[3.0337762e-07, 9.9973196e-01, 2.6764342e-04],\n",
       "       [5.8311254e-08, 1.0000000e+00, 3.3693169e-08],\n",
       "       [9.9999034e-01, 9.4706556e-06, 2.3167631e-07],\n",
       "       ...,\n",
       "       [9.9999928e-01, 3.8087779e-07, 3.5534234e-07],\n",
       "       [1.9974515e-10, 1.7074028e-07, 9.9999988e-01],\n",
       "       [4.1308019e-09, 1.3525344e-09, 1.0000000e+00]], dtype=float32)"
      ]
     },
     "execution_count": 239,
     "metadata": {},
     "output_type": "execute_result"
    }
   ],
   "source": [
    "pred"
   ]
  },
  {
   "cell_type": "code",
   "execution_count": 240,
   "id": "a76caeb4",
   "metadata": {},
   "outputs": [],
   "source": [
    "# red_prob = model.predict_proba(x_test)"
   ]
  },
  {
   "cell_type": "code",
   "execution_count": 241,
   "id": "88409f9b",
   "metadata": {},
   "outputs": [
    {
     "data": {
      "text/plain": [
       "array([[0, 1, 0],\n",
       "       [0, 1, 0],\n",
       "       [1, 0, 0],\n",
       "       ...,\n",
       "       [1, 0, 0],\n",
       "       [0, 0, 1],\n",
       "       [0, 0, 1]], dtype=uint8)"
      ]
     },
     "execution_count": 241,
     "metadata": {},
     "output_type": "execute_result"
    }
   ],
   "source": [
    "y_test"
   ]
  },
  {
   "cell_type": "code",
   "execution_count": 242,
   "id": "0534ec40",
   "metadata": {},
   "outputs": [
    {
     "ename": "AttributeError",
     "evalue": "'numpy.ndarray' object has no attribute 'values'",
     "output_type": "error",
     "traceback": [
      "\u001b[1;31m---------------------------------------------------------------------------\u001b[0m",
      "\u001b[1;31mAttributeError\u001b[0m                            Traceback (most recent call last)",
      "Input \u001b[1;32mIn [242]\u001b[0m, in \u001b[0;36m<cell line: 1>\u001b[1;34m()\u001b[0m\n\u001b[1;32m----> 1\u001b[0m y_test\u001b[38;5;241m=\u001b[39m\u001b[43my_test\u001b[49m\u001b[38;5;241;43m.\u001b[39;49m\u001b[43mvalues\u001b[49m\n",
      "\u001b[1;31mAttributeError\u001b[0m: 'numpy.ndarray' object has no attribute 'values'"
     ]
    }
   ],
   "source": [
    "y_test=y_test.values"
   ]
  },
  {
   "cell_type": "code",
   "execution_count": 243,
   "id": "26da00b5",
   "metadata": {},
   "outputs": [
    {
     "data": {
      "text/plain": [
       "array([[0, 1, 0],\n",
       "       [0, 1, 0],\n",
       "       [1, 0, 0],\n",
       "       ...,\n",
       "       [1, 0, 0],\n",
       "       [0, 0, 1],\n",
       "       [0, 0, 1]], dtype=uint8)"
      ]
     },
     "execution_count": 243,
     "metadata": {},
     "output_type": "execute_result"
    }
   ],
   "source": [
    "y_test"
   ]
  },
  {
   "cell_type": "code",
   "execution_count": 244,
   "id": "6d7c6204",
   "metadata": {},
   "outputs": [],
   "source": [
    "y_test1=np.argmax(y_test, axis=1)"
   ]
  },
  {
   "cell_type": "code",
   "execution_count": 245,
   "id": "faf24fca",
   "metadata": {},
   "outputs": [
    {
     "data": {
      "text/plain": [
       "array([1, 1, 0, 2, 1, 0, 0, 2, 2, 2, 2, 2, 0, 2, 1, 0, 2, 0, 2, 1, 2, 1,\n",
       "       0, 2, 0, 0, 2, 1, 1, 2, 2, 2, 1, 1, 1, 0, 2, 2, 2, 0, 0, 1, 2, 0,\n",
       "       2, 1, 2, 1, 0, 0, 0, 0, 1, 1, 0, 1, 0, 0, 2, 1, 2, 0, 2, 2, 2, 2,\n",
       "       0, 1, 0, 0, 0, 0, 1, 2, 1, 0, 1, 1, 2, 2, 1, 0, 2, 1, 2, 2, 2, 2,\n",
       "       0, 0, 2, 2, 0, 2, 1, 0, 2, 1, 1, 1, 1, 2, 0, 1, 2, 1, 0, 0, 0, 0,\n",
       "       2, 2, 1, 0, 2, 1, 2, 1, 1, 0, 1, 2, 2, 1, 1, 1, 0, 2, 1, 2, 1, 2,\n",
       "       1, 2, 2, 2, 1, 0, 2, 0, 0, 1, 1, 1, 2, 2, 2, 0, 0, 0, 0, 2, 0, 1,\n",
       "       2, 1, 0, 0, 2, 1, 0, 1, 0, 0, 1, 2, 1, 2, 1, 0, 0, 1, 0, 2, 0, 0,\n",
       "       1, 1, 1, 1, 1, 2, 2, 1, 2, 1, 1, 1, 2, 0, 2, 2, 1, 2, 0, 0, 0, 2,\n",
       "       1, 0, 2, 2, 0, 1, 1, 2, 2, 1, 2, 0, 0, 1, 2, 1, 0, 2, 0, 2, 1, 1,\n",
       "       0, 2, 2, 0, 1, 1, 0, 0, 1, 0, 1, 0, 1, 1, 1, 1, 2, 2, 0, 2, 2, 0,\n",
       "       0, 1, 1, 0, 0, 1, 2, 1, 2, 0, 1, 2, 0, 2, 0, 1, 1, 0, 1, 2, 2, 0,\n",
       "       2, 0, 2, 1, 2, 2, 1, 0, 0, 1, 1, 0, 1, 0, 0, 1, 0, 2, 2, 1, 1, 0,\n",
       "       2, 0, 0, 1, 1, 0, 0, 2, 2, 2, 1, 2, 1, 1, 2, 0, 0, 1, 2, 0, 0, 0,\n",
       "       1, 2, 0, 1, 1, 1, 1, 2, 0, 2, 0, 0, 0, 2, 2, 1, 1, 1, 0, 0, 1, 0,\n",
       "       0, 0, 2, 2, 2, 0, 2, 1, 1, 0, 0, 1, 2, 1, 2, 2, 0, 2, 1, 2, 0, 0,\n",
       "       2, 2, 0, 0, 0, 2, 2, 0, 2, 1, 1, 0, 1, 1, 1, 1, 1, 0, 2, 2],\n",
       "      dtype=int64)"
      ]
     },
     "execution_count": 245,
     "metadata": {},
     "output_type": "execute_result"
    }
   ],
   "source": [
    "y_test1"
   ]
  },
  {
   "cell_type": "code",
   "execution_count": 246,
   "id": "0eb32a2b",
   "metadata": {},
   "outputs": [],
   "source": [
    "y_pred=np.argmax(pred, axis=1)"
   ]
  },
  {
   "cell_type": "code",
   "execution_count": 247,
   "id": "10402586",
   "metadata": {},
   "outputs": [
    {
     "data": {
      "text/plain": [
       "array([1, 1, 0, 2, 1, 0, 1, 2, 2, 2, 2, 2, 0, 2, 2, 0, 2, 0, 2, 1, 2, 1,\n",
       "       0, 2, 0, 0, 2, 1, 1, 2, 2, 1, 0, 1, 1, 0, 2, 2, 2, 0, 0, 1, 2, 0,\n",
       "       2, 1, 2, 1, 0, 0, 0, 0, 1, 1, 0, 1, 0, 0, 2, 1, 2, 0, 2, 2, 2, 2,\n",
       "       0, 1, 0, 0, 0, 0, 1, 2, 1, 0, 1, 0, 2, 2, 1, 0, 2, 1, 2, 2, 2, 2,\n",
       "       1, 0, 2, 2, 0, 2, 1, 0, 2, 1, 1, 1, 1, 2, 0, 1, 2, 1, 0, 0, 0, 0,\n",
       "       2, 2, 1, 0, 2, 1, 2, 1, 1, 0, 2, 2, 2, 1, 1, 1, 0, 2, 1, 2, 1, 2,\n",
       "       2, 2, 2, 2, 1, 0, 2, 0, 0, 1, 1, 1, 2, 2, 2, 0, 0, 0, 0, 2, 0, 0,\n",
       "       2, 1, 0, 1, 2, 1, 0, 2, 0, 0, 1, 2, 1, 2, 1, 0, 0, 1, 0, 2, 0, 0,\n",
       "       1, 1, 1, 1, 1, 2, 2, 1, 2, 1, 1, 1, 2, 0, 2, 2, 1, 2, 0, 0, 0, 2,\n",
       "       1, 0, 2, 2, 0, 1, 1, 2, 2, 2, 2, 0, 0, 1, 2, 1, 0, 2, 0, 2, 1, 1,\n",
       "       0, 1, 2, 0, 1, 1, 0, 0, 1, 0, 1, 0, 1, 1, 1, 2, 2, 2, 0, 1, 2, 0,\n",
       "       0, 1, 1, 0, 0, 1, 2, 1, 2, 0, 1, 2, 0, 2, 0, 1, 1, 0, 1, 2, 2, 0,\n",
       "       2, 0, 2, 1, 2, 2, 1, 0, 0, 1, 1, 0, 1, 1, 0, 1, 0, 2, 2, 1, 1, 0,\n",
       "       2, 0, 1, 1, 1, 0, 0, 2, 2, 2, 1, 2, 1, 1, 2, 0, 0, 1, 2, 0, 0, 0,\n",
       "       1, 2, 0, 1, 1, 1, 1, 2, 0, 2, 0, 0, 0, 2, 2, 1, 1, 1, 0, 0, 1, 0,\n",
       "       0, 0, 2, 2, 2, 0, 2, 1, 1, 0, 0, 1, 2, 1, 2, 2, 0, 2, 1, 2, 0, 0,\n",
       "       2, 2, 0, 1, 0, 2, 2, 0, 2, 1, 1, 1, 1, 1, 1, 1, 1, 0, 2, 2],\n",
       "      dtype=int64)"
      ]
     },
     "execution_count": 247,
     "metadata": {},
     "output_type": "execute_result"
    }
   ],
   "source": [
    "y_pred"
   ]
  },
  {
   "cell_type": "code",
   "execution_count": 248,
   "id": "a8615c08",
   "metadata": {},
   "outputs": [],
   "source": [
    "from sklearn import metrics"
   ]
  },
  {
   "cell_type": "code",
   "execution_count": 249,
   "id": "8254a03f",
   "metadata": {},
   "outputs": [],
   "source": [
    "y_test_binarized=label_binarize(y_test1,classes=np.unique(y_test1))\n",
    "classes=np.unique(y_test1)"
   ]
  },
  {
   "cell_type": "code",
   "execution_count": 250,
   "id": "f78f61d4",
   "metadata": {},
   "outputs": [],
   "source": [
    "y_prednew=label_binarize(y_pred,classes=np.unique(y_pred))"
   ]
  },
  {
   "cell_type": "code",
   "execution_count": 251,
   "id": "863442b1",
   "metadata": {},
   "outputs": [
    {
     "data": {
      "text/plain": [
       "array([[0, 1, 0],\n",
       "       [0, 1, 0],\n",
       "       [1, 0, 0],\n",
       "       ...,\n",
       "       [1, 0, 0],\n",
       "       [0, 0, 1],\n",
       "       [0, 0, 1]])"
      ]
     },
     "execution_count": 251,
     "metadata": {},
     "output_type": "execute_result"
    }
   ],
   "source": [
    "y_prednew"
   ]
  },
  {
   "cell_type": "code",
   "execution_count": 252,
   "id": "2f55e48b",
   "metadata": {},
   "outputs": [
    {
     "data": {
      "text/plain": [
       "3"
      ]
     },
     "execution_count": 252,
     "metadata": {},
     "output_type": "execute_result"
    }
   ],
   "source": [
    "classes.shape[0]"
   ]
  },
  {
   "cell_type": "code",
   "execution_count": 253,
   "id": "ecf257d5",
   "metadata": {},
   "outputs": [
    {
     "data": {
      "text/plain": [
       "array([[0, 1, 0],\n",
       "       [0, 1, 0],\n",
       "       [1, 0, 0],\n",
       "       ...,\n",
       "       [1, 0, 0],\n",
       "       [0, 0, 1],\n",
       "       [0, 0, 1]])"
      ]
     },
     "execution_count": 253,
     "metadata": {},
     "output_type": "execute_result"
    }
   ],
   "source": [
    "y_test_binarized"
   ]
  },
  {
   "cell_type": "code",
   "execution_count": 254,
   "id": "0f8dc245",
   "metadata": {},
   "outputs": [],
   "source": [
    "y_test2=np.array(y_test)\n",
    "y_pred1=np.array(pred)\n",
    "y_final=np.concatenate((1-y_pred1,y_pred1),axis=1)"
   ]
  },
  {
   "cell_type": "code",
   "execution_count": 255,
   "id": "580bb534",
   "metadata": {},
   "outputs": [
    {
     "data": {
      "text/plain": [
       "array([[0, 1, 0],\n",
       "       [0, 1, 0],\n",
       "       [1, 0, 0],\n",
       "       ...,\n",
       "       [1, 0, 0],\n",
       "       [0, 0, 1],\n",
       "       [0, 0, 1]], dtype=uint8)"
      ]
     },
     "execution_count": 255,
     "metadata": {},
     "output_type": "execute_result"
    }
   ],
   "source": [
    "y_test2"
   ]
  },
  {
   "cell_type": "code",
   "execution_count": 256,
   "id": "8151f88d",
   "metadata": {},
   "outputs": [
    {
     "data": {
      "image/png": "[encoded data removed]",
      "text/plain": [
       "<Figure size 432x288 with 1 Axes>"
      ]
     },
     "metadata": {
      "needs_background": "light"
     },
     "output_type": "display_data"
    }
   ],
   "source": [
    "\n",
    "# roc curve for classes\n",
    "fpr = dict()\n",
    "tpr = dict()\n",
    "thresh =dict()\n",
    "roc_auc = dict()\n",
    "\n",
    "n_class = classes.shape[0]\n",
    "colors = ['yellow', 'red', 'green']\n",
    "\n",
    "for i, color in zip(range(n_class),colors):    \n",
    "    fpr[i], tpr[i], thresh[i] = metrics.roc_curve(y_test[:,i],y_prednew[:,i])\n",
    "#     fpr[i], tpr[i], thresh[i] = metrics.roc_curve(y_test2,y_final)\n",
    "    roc_auc[i] = metrics.auc(fpr[i], tpr[i])\n",
    "    \n",
    "    # plotting    \n",
    "    plt.plot(fpr[i], tpr[i], linestyle='--',color=color, \n",
    "             label='%s vs Rest (AUC=%0.2f)'%(classes[i],roc_auc[i]))\n",
    "\n",
    "plt.plot([0,1],[0,1],'b--')\n",
    "plt.xlim([0,1])\n",
    "plt.ylim([0,1.05])\n",
    "plt.title('Multiclass ROC curve')\n",
    "plt.xlabel('False Positive Rate')\n",
    "plt.ylabel('True Positive rate')\n",
    "plt.legend(loc='lower right')\n",
    "plt.show()"
   ]
  },
  {
   "cell_type": "code",
   "execution_count": 257,
   "id": "026b5025",
   "metadata": {},
   "outputs": [
    {
     "data": {
      "text/plain": [
       "array([[116,   7,   0],\n",
       "       [  3, 115,   6],\n",
       "       [  0,   3, 122]], dtype=int64)"
      ]
     },
     "execution_count": 257,
     "metadata": {},
     "output_type": "execute_result"
    }
   ],
   "source": [
    "confusion_matrix(y_test1,y_pred)"
   ]
  },
  {
   "cell_type": "code",
   "execution_count": 258,
   "id": "50d1efee",
   "metadata": {},
   "outputs": [
    {
     "name": "stdout",
     "output_type": "stream",
     "text": [
      "classification_report\n",
      "               precision    recall  f1-score   support\n",
      "\n",
      "           0       0.97      0.94      0.96       123\n",
      "           1       0.92      0.93      0.92       124\n",
      "           2       0.95      0.98      0.96       125\n",
      "\n",
      "    accuracy                           0.95       372\n",
      "   macro avg       0.95      0.95      0.95       372\n",
      "weighted avg       0.95      0.95      0.95       372\n",
      "\n"
     ]
    }
   ],
   "source": [
    "print(\"classification_report\\n\",classification_report(y_test1,y_pred))"
   ]
  },
  {
   "cell_type": "code",
   "execution_count": 259,
   "id": "c6539388",
   "metadata": {},
   "outputs": [
    {
     "name": "stdout",
     "output_type": "stream",
     "text": [
      "53/53 [==============================] - 0s 7ms/step - loss: 5.2124e-04 - Accuracy: 1.0000 - AUC: 1.0000\n",
      "14/14 [==============================] - 0s 7ms/step - loss: 0.1907 - Accuracy: 0.9526 - AUC: 0.9905\n",
      "12/12 [==============================] - 0s 8ms/step - loss: 0.1976 - Accuracy: 0.9489 - AUC: 0.9888\n",
      "Training Accuracy: 100.00%\n",
      "Validation Accuracy: 95.26%\n",
      "Testing Accuracy: 94.89%\n"
     ]
    }
   ],
   "source": [
    "train_scores = model.evaluate(x_train, y_train)\n",
    "val_scores = model.evaluate(x_val, y_val)\n",
    "test_scores = model.evaluate(x_test, y_test)\n",
    "\n",
    "print(\"Training Accuracy: %.2f%%\"%(train_scores[1] * 100))\n",
    "print(\"Validation Accuracy: %.2f%%\"%(val_scores[1] * 100))\n",
    "print(\"Testing Accuracy: %.2f%%\"%(test_scores[1] * 100))"
   ]
  },
  {
   "cell_type": "code",
   "execution_count": 41,
   "id": "136aba56",
   "metadata": {},
   "outputs": [
    {
     "data": {
      "text/plain": [
       "0.9703558490884907"
      ]
     },
     "execution_count": 41,
     "metadata": {},
     "output_type": "execute_result"
    }
   ],
   "source": [
    "from sklearn import metrics\n",
    "auc = metrics.roc_auc_score(y_test, y_prednew, multi_class='ovr')\n",
    "auc"
   ]
  },
  {
   "cell_type": "code",
   "execution_count": 176,
   "id": "1846558e",
   "metadata": {},
   "outputs": [],
   "source": [
    "df_y_test = pd.DataFrame(y_test, columns = ['Label_0.0','Label_1.0','Label_2.0'])\n",
    "df_y_pred = pd.DataFrame(pred, columns = ['Label_0.0','Label_1.0','Label_2.0'])"
   ]
  },
  {
   "cell_type": "code",
   "execution_count": 68,
   "id": "d1218e97",
   "metadata": {},
   "outputs": [],
   "source": [
    "# fpr, tpr, _ = metrics.roc_curve(df_y_test,  df_y_pred,max_fpr=)\n",
    "\n",
    "# #create ROC curve\n",
    "# plt.plot(fpr,tpr)\n",
    "# plt.ylabel('True Positive Rate')\n",
    "# plt.xlabel('False Positive Rate')\n",
    "# plt.legend(loc=4)\n",
    "# plt.show()"
   ]
  },
  {
   "cell_type": "code",
   "execution_count": 233,
   "id": "487c6a0d",
   "metadata": {},
   "outputs": [
    {
     "data": {
      "image/png": "[encoded data removed]",
      "text/plain": [
       "<Figure size 1000x800 with 1 Axes>"
      ]
     },
     "metadata": {
      "needs_background": "light"
     },
     "output_type": "display_data"
    }
   ],
   "source": [
    "false_positive_rate, true_positive_rate, thresolds = metrics.roc_curve(df_y_test['Label_0.0'], df_y_pred['Label_0.0'])\n",
    "\n",
    "plt.figure(figsize=(10, 8), dpi=100)\n",
    "plt.axis('scaled')\n",
    "plt.xlim([0, 1])\n",
    "plt.ylim([0, 1])\n",
    "plt.title(\"AUC & ROC Curve\")\n",
    "plt.plot(false_positive_rate, true_positive_rate, 'g')\n",
    "plt.fill_between(false_positive_rate, true_positive_rate, facecolor='white', alpha=0.7)\n",
    "plt.text(0.95, 0.05, 'AUC = %0.4f' % auc, ha='right', fontsize=12, weight='bold', color='blue')\n",
    "plt.xlabel(\"False Positive Rate\")\n",
    "plt.ylabel(\"True Positive Rate\")\n",
    "plt.show()"
   ]
  },
  {
   "cell_type": "code",
   "execution_count": 232,
   "id": "ed92223a",
   "metadata": {},
   "outputs": [
    {
     "data": {
      "image/png": "[encoded data removed]",
      "text/plain": [
       "<Figure size 1000x800 with 1 Axes>"
      ]
     },
     "metadata": {
      "needs_background": "light"
     },
     "output_type": "display_data"
    }
   ],
   "source": [
    "false_positive_rate, true_positive_rate, thresolds = metrics.roc_curve(df_y_test['Label_1.0'], df_y_pred['Label_1.0'])\n",
    "\n",
    "plt.figure(figsize=(10, 8), dpi=100)\n",
    "plt.axis('scaled')\n",
    "plt.xlim([0, 1])\n",
    "plt.ylim([0, 1])\n",
    "plt.title(\"AUC & ROC Curve\")\n",
    "plt.plot(false_positive_rate, true_positive_rate, 'g')\n",
    "plt.fill_between(false_positive_rate, true_positive_rate, facecolor='white', alpha=0.7)\n",
    "plt.text(0.95, 0.05, 'AUC = %0.4f' % auc, ha='right', fontsize=12, weight='bold', color='blue')\n",
    "plt.xlabel(\"False Positive Rate\")\n",
    "plt.ylabel(\"True Positive Rate\")\n",
    "plt.show()"
   ]
  },
  {
   "cell_type": "code",
   "execution_count": 234,
   "id": "31b6b664",
   "metadata": {},
   "outputs": [
    {
     "data": {
      "image/png": "[encoded data removed]",
      "text/plain": [
       "<Figure size 1000x800 with 1 Axes>"
      ]
     },
     "metadata": {
      "needs_background": "light"
     },
     "output_type": "display_data"
    }
   ],
   "source": [
    "false_positive_rate, true_positive_rate, thresolds = metrics.roc_curve(df_y_test['Label_2.0'], df_y_pred['Label_2.0'])\n",
    "\n",
    "plt.figure(figsize=(10, 8), dpi=100)\n",
    "plt.axis('scaled')\n",
    "plt.xlim([0, 1])\n",
    "plt.ylim([0, 1])\n",
    "plt.title(\"AUC & ROC Curve\")\n",
    "plt.plot(false_positive_rate, true_positive_rate, 'g')\n",
    "plt.fill_between(false_positive_rate, true_positive_rate, facecolor='white', alpha=0.7)\n",
    "plt.text(0.95, 0.05, 'AUC = %0.4f' % auc, ha='right', fontsize=12, weight='bold', color='blue')\n",
    "plt.xlabel(\"False Positive Rate\")\n",
    "plt.ylabel(\"True Positive Rate\")\n",
    "plt.show()"
   ]
  },
  {
   "cell_type": "code",
   "execution_count": null,
   "id": "cf544b4e",
   "metadata": {},
   "outputs": [],
   "source": []
  },
  {
   "cell_type": "code",
   "execution_count": null,
   "id": "37721f88",
   "metadata": {},
   "outputs": [],
   "source": []
  }
 ],
 "metadata": {
  "kernelspec": {
   "display_name": "Python 3 (ipykernel)",
   "language": "python",
   "name": "python3"
  },
  "language_info": {
   "codemirror_mode": {
    "name": "ipython",
    "version": 3
   },
   "file_extension": ".py",
   "mimetype": "text/x-python",
   "name": "python",
   "nbconvert_exporter": "python",
   "pygments_lexer": "ipython3",
   "version": "3.9.12"
  }
 },
 "nbformat": 4,
 "nbformat_minor": 5
}
