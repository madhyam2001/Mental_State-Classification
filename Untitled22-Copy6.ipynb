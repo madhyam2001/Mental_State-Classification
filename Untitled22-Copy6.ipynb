{
 "cells": [
  {
   "cell_type": "code",
   "execution_count": 91,
   "id": "945fd396",
   "metadata": {},
   "outputs": [],
   "source": [
    "import tensorflow as tf\n",
    "from tensorflow import keras\n",
    "from tensorflow.keras import callbacks, layers, models\n",
    "from tensorflow.keras.utils import to_categorical\n",
    "\n",
    "import numpy as np\n",
    "\n",
    "import matplotlib.pyplot as plt\n",
    "import pandas as pd\n",
    "\n",
    "from sklearn.preprocessing import StandardScaler\n",
    "from sklearn.preprocessing import LabelEncoder\n",
    "from sklearn.preprocessing import label_binarize\n",
    "from sklearn.model_selection import cross_val_score, train_test_split\n",
    "from sklearn.metrics import confusion_matrix, classification_report\n",
    "import seaborn as sns"
   ]
  },
  {
   "cell_type": "code",
   "execution_count": 92,
   "id": "f5482855",
   "metadata": {},
   "outputs": [],
   "source": [
    "df= pd.read_csv('mental-state.csv')\n",
    "data_new= pd.get_dummies(df, columns = ['Label'])"
   ]
  },
  {
   "cell_type": "code",
   "execution_count": 93,
   "id": "77ba3a58",
   "metadata": {},
   "outputs": [
    {
     "data": {
      "text/html": [
       "<div>\n",
       "<style scoped>\n",
       "    .dataframe tbody tr th:only-of-type {\n",
       "        vertical-align: middle;\n",
       "    }\n",
       "\n",
       "    .dataframe tbody tr th {\n",
       "        vertical-align: top;\n",
       "    }\n",
       "\n",
       "    .dataframe thead th {\n",
       "        text-align: right;\n",
       "    }\n",
       "</style>\n",
       "<table border=\"1\" class=\"dataframe\">\n",
       "  <thead>\n",
       "    <tr style=\"text-align: right;\">\n",
       "      <th></th>\n",
       "      <th>lag1_mean_0</th>\n",
       "      <th>lag1_mean_1</th>\n",
       "      <th>lag1_mean_2</th>\n",
       "      <th>lag1_mean_3</th>\n",
       "      <th>lag1_mean_d_h2h1_0</th>\n",
       "      <th>lag1_mean_d_h2h1_1</th>\n",
       "      <th>lag1_mean_d_h2h1_2</th>\n",
       "      <th>lag1_mean_d_h2h1_3</th>\n",
       "      <th>lag1_mean_q1_0</th>\n",
       "      <th>lag1_mean_q1_1</th>\n",
       "      <th>...</th>\n",
       "      <th>freq_689_3</th>\n",
       "      <th>freq_699_3</th>\n",
       "      <th>freq_709_3</th>\n",
       "      <th>freq_720_3</th>\n",
       "      <th>freq_730_3</th>\n",
       "      <th>freq_740_3</th>\n",
       "      <th>freq_750_3</th>\n",
       "      <th>Label_0.0</th>\n",
       "      <th>Label_1.0</th>\n",
       "      <th>Label_2.0</th>\n",
       "    </tr>\n",
       "  </thead>\n",
       "  <tbody>\n",
       "    <tr>\n",
       "      <th>0</th>\n",
       "      <td>25.781648</td>\n",
       "      <td>33.836367</td>\n",
       "      <td>-92.769629</td>\n",
       "      <td>19.187957</td>\n",
       "      <td>-1.542262</td>\n",
       "      <td>0.197462</td>\n",
       "      <td>-119.561133</td>\n",
       "      <td>2.032654</td>\n",
       "      <td>21.596272</td>\n",
       "      <td>33.965587</td>\n",
       "      <td>...</td>\n",
       "      <td>0.000547</td>\n",
       "      <td>0.000381</td>\n",
       "      <td>0.000350</td>\n",
       "      <td>0.000453</td>\n",
       "      <td>0.000442</td>\n",
       "      <td>0.000325</td>\n",
       "      <td>0.000209</td>\n",
       "      <td>0</td>\n",
       "      <td>0</td>\n",
       "      <td>1</td>\n",
       "    </tr>\n",
       "    <tr>\n",
       "      <th>1</th>\n",
       "      <td>29.357891</td>\n",
       "      <td>26.792566</td>\n",
       "      <td>417.203910</td>\n",
       "      <td>19.472121</td>\n",
       "      <td>-38.797263</td>\n",
       "      <td>-16.897194</td>\n",
       "      <td>-29.368531</td>\n",
       "      <td>-9.055370</td>\n",
       "      <td>44.647424</td>\n",
       "      <td>40.893307</td>\n",
       "      <td>...</td>\n",
       "      <td>0.001122</td>\n",
       "      <td>0.000521</td>\n",
       "      <td>0.000624</td>\n",
       "      <td>0.000439</td>\n",
       "      <td>0.001249</td>\n",
       "      <td>0.000727</td>\n",
       "      <td>0.000801</td>\n",
       "      <td>0</td>\n",
       "      <td>0</td>\n",
       "      <td>1</td>\n",
       "    </tr>\n",
       "    <tr>\n",
       "      <th>2</th>\n",
       "      <td>28.451926</td>\n",
       "      <td>31.076434</td>\n",
       "      <td>72.231301</td>\n",
       "      <td>14.245938</td>\n",
       "      <td>-13.225057</td>\n",
       "      <td>-0.614138</td>\n",
       "      <td>-28.331698</td>\n",
       "      <td>-8.858742</td>\n",
       "      <td>31.450289</td>\n",
       "      <td>30.692883</td>\n",
       "      <td>...</td>\n",
       "      <td>0.000327</td>\n",
       "      <td>0.000197</td>\n",
       "      <td>0.000833</td>\n",
       "      <td>0.000909</td>\n",
       "      <td>0.000699</td>\n",
       "      <td>0.001165</td>\n",
       "      <td>0.000616</td>\n",
       "      <td>0</td>\n",
       "      <td>0</td>\n",
       "      <td>1</td>\n",
       "    </tr>\n",
       "    <tr>\n",
       "      <th>3</th>\n",
       "      <td>21.282184</td>\n",
       "      <td>19.985184</td>\n",
       "      <td>16.220094</td>\n",
       "      <td>39.787312</td>\n",
       "      <td>1.847866</td>\n",
       "      <td>0.670216</td>\n",
       "      <td>-1.820355</td>\n",
       "      <td>20.220724</td>\n",
       "      <td>21.404679</td>\n",
       "      <td>20.777411</td>\n",
       "      <td>...</td>\n",
       "      <td>0.006891</td>\n",
       "      <td>0.010546</td>\n",
       "      <td>0.009583</td>\n",
       "      <td>0.011158</td>\n",
       "      <td>0.008853</td>\n",
       "      <td>0.004551</td>\n",
       "      <td>0.002287</td>\n",
       "      <td>0</td>\n",
       "      <td>1</td>\n",
       "      <td>0</td>\n",
       "    </tr>\n",
       "    <tr>\n",
       "      <th>4</th>\n",
       "      <td>20.431516</td>\n",
       "      <td>28.982168</td>\n",
       "      <td>27.540246</td>\n",
       "      <td>19.960398</td>\n",
       "      <td>2.491458</td>\n",
       "      <td>-6.020503</td>\n",
       "      <td>-1.071166</td>\n",
       "      <td>2.655259</td>\n",
       "      <td>16.295039</td>\n",
       "      <td>32.658163</td>\n",
       "      <td>...</td>\n",
       "      <td>0.014492</td>\n",
       "      <td>0.002949</td>\n",
       "      <td>0.004575</td>\n",
       "      <td>0.008305</td>\n",
       "      <td>0.007202</td>\n",
       "      <td>0.006957</td>\n",
       "      <td>0.009836</td>\n",
       "      <td>0</td>\n",
       "      <td>0</td>\n",
       "      <td>1</td>\n",
       "    </tr>\n",
       "    <tr>\n",
       "      <th>...</th>\n",
       "      <td>...</td>\n",
       "      <td>...</td>\n",
       "      <td>...</td>\n",
       "      <td>...</td>\n",
       "      <td>...</td>\n",
       "      <td>...</td>\n",
       "      <td>...</td>\n",
       "      <td>...</td>\n",
       "      <td>...</td>\n",
       "      <td>...</td>\n",
       "      <td>...</td>\n",
       "      <td>...</td>\n",
       "      <td>...</td>\n",
       "      <td>...</td>\n",
       "      <td>...</td>\n",
       "      <td>...</td>\n",
       "      <td>...</td>\n",
       "      <td>...</td>\n",
       "      <td>...</td>\n",
       "      <td>...</td>\n",
       "      <td>...</td>\n",
       "    </tr>\n",
       "    <tr>\n",
       "      <th>2474</th>\n",
       "      <td>15.762328</td>\n",
       "      <td>19.113555</td>\n",
       "      <td>23.696867</td>\n",
       "      <td>7.568395</td>\n",
       "      <td>-6.503336</td>\n",
       "      <td>6.867187</td>\n",
       "      <td>-11.955396</td>\n",
       "      <td>-16.519912</td>\n",
       "      <td>19.838319</td>\n",
       "      <td>14.333094</td>\n",
       "      <td>...</td>\n",
       "      <td>0.004102</td>\n",
       "      <td>0.003156</td>\n",
       "      <td>0.003659</td>\n",
       "      <td>0.010179</td>\n",
       "      <td>0.004591</td>\n",
       "      <td>0.013817</td>\n",
       "      <td>0.004536</td>\n",
       "      <td>1</td>\n",
       "      <td>0</td>\n",
       "      <td>0</td>\n",
       "    </tr>\n",
       "    <tr>\n",
       "      <th>2475</th>\n",
       "      <td>34.675582</td>\n",
       "      <td>34.200645</td>\n",
       "      <td>-57.624820</td>\n",
       "      <td>-4.825609</td>\n",
       "      <td>7.382353</td>\n",
       "      <td>2.324416</td>\n",
       "      <td>-1.341208</td>\n",
       "      <td>-4.178625</td>\n",
       "      <td>26.383597</td>\n",
       "      <td>28.782987</td>\n",
       "      <td>...</td>\n",
       "      <td>0.001702</td>\n",
       "      <td>0.003121</td>\n",
       "      <td>0.002686</td>\n",
       "      <td>0.001645</td>\n",
       "      <td>0.001770</td>\n",
       "      <td>0.001038</td>\n",
       "      <td>0.001973</td>\n",
       "      <td>0</td>\n",
       "      <td>0</td>\n",
       "      <td>1</td>\n",
       "    </tr>\n",
       "    <tr>\n",
       "      <th>2476</th>\n",
       "      <td>29.813809</td>\n",
       "      <td>29.623031</td>\n",
       "      <td>-86.503988</td>\n",
       "      <td>7.532121</td>\n",
       "      <td>-19.581287</td>\n",
       "      <td>-0.628400</td>\n",
       "      <td>133.947160</td>\n",
       "      <td>-2.049096</td>\n",
       "      <td>45.484851</td>\n",
       "      <td>32.163999</td>\n",
       "      <td>...</td>\n",
       "      <td>0.000263</td>\n",
       "      <td>0.000701</td>\n",
       "      <td>0.000797</td>\n",
       "      <td>0.001096</td>\n",
       "      <td>0.000388</td>\n",
       "      <td>0.000529</td>\n",
       "      <td>0.001079</td>\n",
       "      <td>0</td>\n",
       "      <td>0</td>\n",
       "      <td>1</td>\n",
       "    </tr>\n",
       "    <tr>\n",
       "      <th>2477</th>\n",
       "      <td>59.453973</td>\n",
       "      <td>17.944332</td>\n",
       "      <td>-10.164238</td>\n",
       "      <td>42.568211</td>\n",
       "      <td>-1.300655</td>\n",
       "      <td>-19.993690</td>\n",
       "      <td>-54.331696</td>\n",
       "      <td>12.947622</td>\n",
       "      <td>55.203380</td>\n",
       "      <td>40.228490</td>\n",
       "      <td>...</td>\n",
       "      <td>0.004063</td>\n",
       "      <td>0.001662</td>\n",
       "      <td>0.002665</td>\n",
       "      <td>0.002353</td>\n",
       "      <td>0.003976</td>\n",
       "      <td>0.001660</td>\n",
       "      <td>0.003229</td>\n",
       "      <td>0</td>\n",
       "      <td>0</td>\n",
       "      <td>1</td>\n",
       "    </tr>\n",
       "    <tr>\n",
       "      <th>2478</th>\n",
       "      <td>22.893855</td>\n",
       "      <td>30.412723</td>\n",
       "      <td>26.029590</td>\n",
       "      <td>14.249789</td>\n",
       "      <td>-7.101478</td>\n",
       "      <td>-0.551013</td>\n",
       "      <td>3.735563</td>\n",
       "      <td>-9.372750</td>\n",
       "      <td>30.411574</td>\n",
       "      <td>30.079904</td>\n",
       "      <td>...</td>\n",
       "      <td>0.002528</td>\n",
       "      <td>0.005357</td>\n",
       "      <td>0.004612</td>\n",
       "      <td>0.004503</td>\n",
       "      <td>0.003669</td>\n",
       "      <td>0.002316</td>\n",
       "      <td>0.004765</td>\n",
       "      <td>0</td>\n",
       "      <td>1</td>\n",
       "      <td>0</td>\n",
       "    </tr>\n",
       "  </tbody>\n",
       "</table>\n",
       "<p>2479 rows × 991 columns</p>\n",
       "</div>"
      ],
      "text/plain": [
       "      lag1_mean_0  lag1_mean_1  lag1_mean_2  lag1_mean_3  lag1_mean_d_h2h1_0  \\\n",
       "0       25.781648    33.836367   -92.769629    19.187957           -1.542262   \n",
       "1       29.357891    26.792566   417.203910    19.472121          -38.797263   \n",
       "2       28.451926    31.076434    72.231301    14.245938          -13.225057   \n",
       "3       21.282184    19.985184    16.220094    39.787312            1.847866   \n",
       "4       20.431516    28.982168    27.540246    19.960398            2.491458   \n",
       "...           ...          ...          ...          ...                 ...   \n",
       "2474    15.762328    19.113555    23.696867     7.568395           -6.503336   \n",
       "2475    34.675582    34.200645   -57.624820    -4.825609            7.382353   \n",
       "2476    29.813809    29.623031   -86.503988     7.532121          -19.581287   \n",
       "2477    59.453973    17.944332   -10.164238    42.568211           -1.300655   \n",
       "2478    22.893855    30.412723    26.029590    14.249789           -7.101478   \n",
       "\n",
       "      lag1_mean_d_h2h1_1  lag1_mean_d_h2h1_2  lag1_mean_d_h2h1_3  \\\n",
       "0               0.197462         -119.561133            2.032654   \n",
       "1             -16.897194          -29.368531           -9.055370   \n",
       "2              -0.614138          -28.331698           -8.858742   \n",
       "3               0.670216           -1.820355           20.220724   \n",
       "4              -6.020503           -1.071166            2.655259   \n",
       "...                  ...                 ...                 ...   \n",
       "2474            6.867187          -11.955396          -16.519912   \n",
       "2475            2.324416           -1.341208           -4.178625   \n",
       "2476           -0.628400          133.947160           -2.049096   \n",
       "2477          -19.993690          -54.331696           12.947622   \n",
       "2478           -0.551013            3.735563           -9.372750   \n",
       "\n",
       "      lag1_mean_q1_0  lag1_mean_q1_1  ...  freq_689_3  freq_699_3  freq_709_3  \\\n",
       "0          21.596272       33.965587  ...    0.000547    0.000381    0.000350   \n",
       "1          44.647424       40.893307  ...    0.001122    0.000521    0.000624   \n",
       "2          31.450289       30.692883  ...    0.000327    0.000197    0.000833   \n",
       "3          21.404679       20.777411  ...    0.006891    0.010546    0.009583   \n",
       "4          16.295039       32.658163  ...    0.014492    0.002949    0.004575   \n",
       "...              ...             ...  ...         ...         ...         ...   \n",
       "2474       19.838319       14.333094  ...    0.004102    0.003156    0.003659   \n",
       "2475       26.383597       28.782987  ...    0.001702    0.003121    0.002686   \n",
       "2476       45.484851       32.163999  ...    0.000263    0.000701    0.000797   \n",
       "2477       55.203380       40.228490  ...    0.004063    0.001662    0.002665   \n",
       "2478       30.411574       30.079904  ...    0.002528    0.005357    0.004612   \n",
       "\n",
       "      freq_720_3  freq_730_3  freq_740_3  freq_750_3  Label_0.0  Label_1.0  \\\n",
       "0       0.000453    0.000442    0.000325    0.000209          0          0   \n",
       "1       0.000439    0.001249    0.000727    0.000801          0          0   \n",
       "2       0.000909    0.000699    0.001165    0.000616          0          0   \n",
       "3       0.011158    0.008853    0.004551    0.002287          0          1   \n",
       "4       0.008305    0.007202    0.006957    0.009836          0          0   \n",
       "...          ...         ...         ...         ...        ...        ...   \n",
       "2474    0.010179    0.004591    0.013817    0.004536          1          0   \n",
       "2475    0.001645    0.001770    0.001038    0.001973          0          0   \n",
       "2476    0.001096    0.000388    0.000529    0.001079          0          0   \n",
       "2477    0.002353    0.003976    0.001660    0.003229          0          0   \n",
       "2478    0.004503    0.003669    0.002316    0.004765          0          1   \n",
       "\n",
       "      Label_2.0  \n",
       "0             1  \n",
       "1             1  \n",
       "2             1  \n",
       "3             0  \n",
       "4             1  \n",
       "...         ...  \n",
       "2474          0  \n",
       "2475          1  \n",
       "2476          1  \n",
       "2477          1  \n",
       "2478          0  \n",
       "\n",
       "[2479 rows x 991 columns]"
      ]
     },
     "execution_count": 93,
     "metadata": {},
     "output_type": "execute_result"
    }
   ],
   "source": [
    "data_new"
   ]
  },
  {
   "cell_type": "code",
   "execution_count": 94,
   "id": "7ce1ca2f",
   "metadata": {},
   "outputs": [
    {
     "data": {
      "text/html": [
       "<div>\n",
       "<style scoped>\n",
       "    .dataframe tbody tr th:only-of-type {\n",
       "        vertical-align: middle;\n",
       "    }\n",
       "\n",
       "    .dataframe tbody tr th {\n",
       "        vertical-align: top;\n",
       "    }\n",
       "\n",
       "    .dataframe thead th {\n",
       "        text-align: right;\n",
       "    }\n",
       "</style>\n",
       "<table border=\"1\" class=\"dataframe\">\n",
       "  <thead>\n",
       "    <tr style=\"text-align: right;\">\n",
       "      <th></th>\n",
       "      <th>lag1_mean_0</th>\n",
       "      <th>lag1_mean_1</th>\n",
       "      <th>lag1_mean_2</th>\n",
       "      <th>lag1_mean_3</th>\n",
       "      <th>lag1_mean_d_h2h1_0</th>\n",
       "      <th>lag1_mean_d_h2h1_1</th>\n",
       "      <th>lag1_mean_d_h2h1_2</th>\n",
       "      <th>lag1_mean_d_h2h1_3</th>\n",
       "      <th>lag1_mean_q1_0</th>\n",
       "      <th>lag1_mean_q1_1</th>\n",
       "      <th>...</th>\n",
       "      <th>freq_659_3</th>\n",
       "      <th>freq_669_3</th>\n",
       "      <th>freq_679_3</th>\n",
       "      <th>freq_689_3</th>\n",
       "      <th>freq_699_3</th>\n",
       "      <th>freq_709_3</th>\n",
       "      <th>freq_720_3</th>\n",
       "      <th>freq_730_3</th>\n",
       "      <th>freq_740_3</th>\n",
       "      <th>freq_750_3</th>\n",
       "    </tr>\n",
       "  </thead>\n",
       "  <tbody>\n",
       "    <tr>\n",
       "      <th>0</th>\n",
       "      <td>25.781648</td>\n",
       "      <td>33.836367</td>\n",
       "      <td>-92.769629</td>\n",
       "      <td>19.187957</td>\n",
       "      <td>-1.542262</td>\n",
       "      <td>0.197462</td>\n",
       "      <td>-119.561133</td>\n",
       "      <td>2.032654</td>\n",
       "      <td>21.596272</td>\n",
       "      <td>33.965587</td>\n",
       "      <td>...</td>\n",
       "      <td>0.000579</td>\n",
       "      <td>0.000230</td>\n",
       "      <td>0.000351</td>\n",
       "      <td>0.000547</td>\n",
       "      <td>0.000381</td>\n",
       "      <td>0.000350</td>\n",
       "      <td>0.000453</td>\n",
       "      <td>0.000442</td>\n",
       "      <td>0.000325</td>\n",
       "      <td>0.000209</td>\n",
       "    </tr>\n",
       "    <tr>\n",
       "      <th>1</th>\n",
       "      <td>29.357891</td>\n",
       "      <td>26.792566</td>\n",
       "      <td>417.203910</td>\n",
       "      <td>19.472121</td>\n",
       "      <td>-38.797263</td>\n",
       "      <td>-16.897194</td>\n",
       "      <td>-29.368531</td>\n",
       "      <td>-9.055370</td>\n",
       "      <td>44.647424</td>\n",
       "      <td>40.893307</td>\n",
       "      <td>...</td>\n",
       "      <td>0.000448</td>\n",
       "      <td>0.001671</td>\n",
       "      <td>0.000740</td>\n",
       "      <td>0.001122</td>\n",
       "      <td>0.000521</td>\n",
       "      <td>0.000624</td>\n",
       "      <td>0.000439</td>\n",
       "      <td>0.001249</td>\n",
       "      <td>0.000727</td>\n",
       "      <td>0.000801</td>\n",
       "    </tr>\n",
       "    <tr>\n",
       "      <th>2</th>\n",
       "      <td>28.451926</td>\n",
       "      <td>31.076434</td>\n",
       "      <td>72.231301</td>\n",
       "      <td>14.245938</td>\n",
       "      <td>-13.225057</td>\n",
       "      <td>-0.614138</td>\n",
       "      <td>-28.331698</td>\n",
       "      <td>-8.858742</td>\n",
       "      <td>31.450289</td>\n",
       "      <td>30.692883</td>\n",
       "      <td>...</td>\n",
       "      <td>0.001028</td>\n",
       "      <td>0.000748</td>\n",
       "      <td>0.000569</td>\n",
       "      <td>0.000327</td>\n",
       "      <td>0.000197</td>\n",
       "      <td>0.000833</td>\n",
       "      <td>0.000909</td>\n",
       "      <td>0.000699</td>\n",
       "      <td>0.001165</td>\n",
       "      <td>0.000616</td>\n",
       "    </tr>\n",
       "    <tr>\n",
       "      <th>3</th>\n",
       "      <td>21.282184</td>\n",
       "      <td>19.985184</td>\n",
       "      <td>16.220094</td>\n",
       "      <td>39.787312</td>\n",
       "      <td>1.847866</td>\n",
       "      <td>0.670216</td>\n",
       "      <td>-1.820355</td>\n",
       "      <td>20.220724</td>\n",
       "      <td>21.404679</td>\n",
       "      <td>20.777411</td>\n",
       "      <td>...</td>\n",
       "      <td>0.015502</td>\n",
       "      <td>0.000990</td>\n",
       "      <td>0.005644</td>\n",
       "      <td>0.006891</td>\n",
       "      <td>0.010546</td>\n",
       "      <td>0.009583</td>\n",
       "      <td>0.011158</td>\n",
       "      <td>0.008853</td>\n",
       "      <td>0.004551</td>\n",
       "      <td>0.002287</td>\n",
       "    </tr>\n",
       "    <tr>\n",
       "      <th>4</th>\n",
       "      <td>20.431516</td>\n",
       "      <td>28.982168</td>\n",
       "      <td>27.540246</td>\n",
       "      <td>19.960398</td>\n",
       "      <td>2.491458</td>\n",
       "      <td>-6.020503</td>\n",
       "      <td>-1.071166</td>\n",
       "      <td>2.655259</td>\n",
       "      <td>16.295039</td>\n",
       "      <td>32.658163</td>\n",
       "      <td>...</td>\n",
       "      <td>0.013212</td>\n",
       "      <td>0.001659</td>\n",
       "      <td>0.014379</td>\n",
       "      <td>0.014492</td>\n",
       "      <td>0.002949</td>\n",
       "      <td>0.004575</td>\n",
       "      <td>0.008305</td>\n",
       "      <td>0.007202</td>\n",
       "      <td>0.006957</td>\n",
       "      <td>0.009836</td>\n",
       "    </tr>\n",
       "  </tbody>\n",
       "</table>\n",
       "<p>5 rows × 988 columns</p>\n",
       "</div>"
      ],
      "text/plain": [
       "   lag1_mean_0  lag1_mean_1  lag1_mean_2  lag1_mean_3  lag1_mean_d_h2h1_0  \\\n",
       "0    25.781648    33.836367   -92.769629    19.187957           -1.542262   \n",
       "1    29.357891    26.792566   417.203910    19.472121          -38.797263   \n",
       "2    28.451926    31.076434    72.231301    14.245938          -13.225057   \n",
       "3    21.282184    19.985184    16.220094    39.787312            1.847866   \n",
       "4    20.431516    28.982168    27.540246    19.960398            2.491458   \n",
       "\n",
       "   lag1_mean_d_h2h1_1  lag1_mean_d_h2h1_2  lag1_mean_d_h2h1_3  lag1_mean_q1_0  \\\n",
       "0            0.197462         -119.561133            2.032654       21.596272   \n",
       "1          -16.897194          -29.368531           -9.055370       44.647424   \n",
       "2           -0.614138          -28.331698           -8.858742       31.450289   \n",
       "3            0.670216           -1.820355           20.220724       21.404679   \n",
       "4           -6.020503           -1.071166            2.655259       16.295039   \n",
       "\n",
       "   lag1_mean_q1_1  ...  freq_659_3  freq_669_3  freq_679_3  freq_689_3  \\\n",
       "0       33.965587  ...    0.000579    0.000230    0.000351    0.000547   \n",
       "1       40.893307  ...    0.000448    0.001671    0.000740    0.001122   \n",
       "2       30.692883  ...    0.001028    0.000748    0.000569    0.000327   \n",
       "3       20.777411  ...    0.015502    0.000990    0.005644    0.006891   \n",
       "4       32.658163  ...    0.013212    0.001659    0.014379    0.014492   \n",
       "\n",
       "   freq_699_3  freq_709_3  freq_720_3  freq_730_3  freq_740_3  freq_750_3  \n",
       "0    0.000381    0.000350    0.000453    0.000442    0.000325    0.000209  \n",
       "1    0.000521    0.000624    0.000439    0.001249    0.000727    0.000801  \n",
       "2    0.000197    0.000833    0.000909    0.000699    0.001165    0.000616  \n",
       "3    0.010546    0.009583    0.011158    0.008853    0.004551    0.002287  \n",
       "4    0.002949    0.004575    0.008305    0.007202    0.006957    0.009836  \n",
       "\n",
       "[5 rows x 988 columns]"
      ]
     },
     "execution_count": 94,
     "metadata": {},
     "output_type": "execute_result"
    }
   ],
   "source": [
    "x=data_new.loc[:,'lag1_mean_0':'freq_750_3']\n",
    "x.head()"
   ]
  },
  {
   "cell_type": "code",
   "execution_count": 95,
   "id": "1f35e955",
   "metadata": {},
   "outputs": [
    {
     "data": {
      "text/html": [
       "<div>\n",
       "<style scoped>\n",
       "    .dataframe tbody tr th:only-of-type {\n",
       "        vertical-align: middle;\n",
       "    }\n",
       "\n",
       "    .dataframe tbody tr th {\n",
       "        vertical-align: top;\n",
       "    }\n",
       "\n",
       "    .dataframe thead th {\n",
       "        text-align: right;\n",
       "    }\n",
       "</style>\n",
       "<table border=\"1\" class=\"dataframe\">\n",
       "  <thead>\n",
       "    <tr style=\"text-align: right;\">\n",
       "      <th></th>\n",
       "      <th>Label_0.0</th>\n",
       "      <th>Label_1.0</th>\n",
       "      <th>Label_2.0</th>\n",
       "    </tr>\n",
       "  </thead>\n",
       "  <tbody>\n",
       "    <tr>\n",
       "      <th>0</th>\n",
       "      <td>0</td>\n",
       "      <td>0</td>\n",
       "      <td>1</td>\n",
       "    </tr>\n",
       "    <tr>\n",
       "      <th>1</th>\n",
       "      <td>0</td>\n",
       "      <td>0</td>\n",
       "      <td>1</td>\n",
       "    </tr>\n",
       "    <tr>\n",
       "      <th>2</th>\n",
       "      <td>0</td>\n",
       "      <td>0</td>\n",
       "      <td>1</td>\n",
       "    </tr>\n",
       "    <tr>\n",
       "      <th>3</th>\n",
       "      <td>0</td>\n",
       "      <td>1</td>\n",
       "      <td>0</td>\n",
       "    </tr>\n",
       "    <tr>\n",
       "      <th>4</th>\n",
       "      <td>0</td>\n",
       "      <td>0</td>\n",
       "      <td>1</td>\n",
       "    </tr>\n",
       "  </tbody>\n",
       "</table>\n",
       "</div>"
      ],
      "text/plain": [
       "   Label_0.0  Label_1.0  Label_2.0\n",
       "0          0          0          1\n",
       "1          0          0          1\n",
       "2          0          0          1\n",
       "3          0          1          0\n",
       "4          0          0          1"
      ]
     },
     "execution_count": 95,
     "metadata": {},
     "output_type": "execute_result"
    }
   ],
   "source": [
    "y=data_new.loc[:,'Label_0.0':'Label_2.0']\n",
    "y.head()"
   ]
  },
  {
   "cell_type": "code",
   "execution_count": 96,
   "id": "473c779e",
   "metadata": {},
   "outputs": [],
   "source": [
    "scaler = StandardScaler()\n",
    "X_scaled = scaler.fit_transform(x)"
   ]
  },
  {
   "cell_type": "code",
   "execution_count": 97,
   "id": "7c82cd50",
   "metadata": {},
   "outputs": [],
   "source": [
    "from sklearn.decomposition import KernelPCA"
   ]
  },
  {
   "cell_type": "code",
   "execution_count": 98,
   "id": "8c03500a",
   "metadata": {},
   "outputs": [],
   "source": [
    "kpca = KernelPCA(n_components=64,kernel='rbf')"
   ]
  },
  {
   "cell_type": "code",
   "execution_count": 99,
   "id": "a5b4fdce",
   "metadata": {},
   "outputs": [],
   "source": [
    "X_pca = kpca.fit_transform(X_scaled)\n",
    "df_pca = pd.concat([pd.DataFrame(X_pca), y], axis=1)"
   ]
  },
  {
   "cell_type": "code",
   "execution_count": 100,
   "id": "f6275223",
   "metadata": {},
   "outputs": [
    {
     "data": {
      "text/html": [
       "<div>\n",
       "<style scoped>\n",
       "    .dataframe tbody tr th:only-of-type {\n",
       "        vertical-align: middle;\n",
       "    }\n",
       "\n",
       "    .dataframe tbody tr th {\n",
       "        vertical-align: top;\n",
       "    }\n",
       "\n",
       "    .dataframe thead th {\n",
       "        text-align: right;\n",
       "    }\n",
       "</style>\n",
       "<table border=\"1\" class=\"dataframe\">\n",
       "  <thead>\n",
       "    <tr style=\"text-align: right;\">\n",
       "      <th></th>\n",
       "      <th>0</th>\n",
       "      <th>1</th>\n",
       "      <th>2</th>\n",
       "      <th>3</th>\n",
       "      <th>4</th>\n",
       "      <th>5</th>\n",
       "      <th>6</th>\n",
       "      <th>7</th>\n",
       "      <th>8</th>\n",
       "      <th>9</th>\n",
       "      <th>...</th>\n",
       "      <th>57</th>\n",
       "      <th>58</th>\n",
       "      <th>59</th>\n",
       "      <th>60</th>\n",
       "      <th>61</th>\n",
       "      <th>62</th>\n",
       "      <th>63</th>\n",
       "      <th>Label_0.0</th>\n",
       "      <th>Label_1.0</th>\n",
       "      <th>Label_2.0</th>\n",
       "    </tr>\n",
       "  </thead>\n",
       "  <tbody>\n",
       "    <tr>\n",
       "      <th>0</th>\n",
       "      <td>0.297849</td>\n",
       "      <td>0.119659</td>\n",
       "      <td>0.010189</td>\n",
       "      <td>-0.040967</td>\n",
       "      <td>-0.031069</td>\n",
       "      <td>-0.149366</td>\n",
       "      <td>0.032674</td>\n",
       "      <td>-0.023312</td>\n",
       "      <td>0.016385</td>\n",
       "      <td>-0.031270</td>\n",
       "      <td>...</td>\n",
       "      <td>-0.036262</td>\n",
       "      <td>0.083469</td>\n",
       "      <td>0.018670</td>\n",
       "      <td>-0.054247</td>\n",
       "      <td>0.054909</td>\n",
       "      <td>-0.018380</td>\n",
       "      <td>-0.021884</td>\n",
       "      <td>0</td>\n",
       "      <td>0</td>\n",
       "      <td>1</td>\n",
       "    </tr>\n",
       "    <tr>\n",
       "      <th>1</th>\n",
       "      <td>0.306944</td>\n",
       "      <td>0.206340</td>\n",
       "      <td>-0.124424</td>\n",
       "      <td>-0.000305</td>\n",
       "      <td>0.035877</td>\n",
       "      <td>-0.049474</td>\n",
       "      <td>-0.034111</td>\n",
       "      <td>0.002305</td>\n",
       "      <td>-0.020476</td>\n",
       "      <td>-0.022706</td>\n",
       "      <td>...</td>\n",
       "      <td>0.019440</td>\n",
       "      <td>0.061171</td>\n",
       "      <td>0.016695</td>\n",
       "      <td>-0.100815</td>\n",
       "      <td>0.029010</td>\n",
       "      <td>-0.035726</td>\n",
       "      <td>0.023559</td>\n",
       "      <td>0</td>\n",
       "      <td>0</td>\n",
       "      <td>1</td>\n",
       "    </tr>\n",
       "    <tr>\n",
       "      <th>2</th>\n",
       "      <td>0.547152</td>\n",
       "      <td>-0.103030</td>\n",
       "      <td>-0.140274</td>\n",
       "      <td>-0.037888</td>\n",
       "      <td>-0.122875</td>\n",
       "      <td>-0.089208</td>\n",
       "      <td>-0.006034</td>\n",
       "      <td>-0.153586</td>\n",
       "      <td>0.010439</td>\n",
       "      <td>-0.022968</td>\n",
       "      <td>...</td>\n",
       "      <td>0.063986</td>\n",
       "      <td>0.015127</td>\n",
       "      <td>-0.002270</td>\n",
       "      <td>-0.037650</td>\n",
       "      <td>0.023296</td>\n",
       "      <td>0.038561</td>\n",
       "      <td>0.037274</td>\n",
       "      <td>0</td>\n",
       "      <td>0</td>\n",
       "      <td>1</td>\n",
       "    </tr>\n",
       "    <tr>\n",
       "      <th>3</th>\n",
       "      <td>-0.258242</td>\n",
       "      <td>-0.090302</td>\n",
       "      <td>-0.015256</td>\n",
       "      <td>-0.041658</td>\n",
       "      <td>-0.034132</td>\n",
       "      <td>0.078394</td>\n",
       "      <td>0.017149</td>\n",
       "      <td>-0.106242</td>\n",
       "      <td>0.017621</td>\n",
       "      <td>0.073247</td>\n",
       "      <td>...</td>\n",
       "      <td>0.002457</td>\n",
       "      <td>0.030505</td>\n",
       "      <td>-0.011927</td>\n",
       "      <td>-0.058689</td>\n",
       "      <td>0.040897</td>\n",
       "      <td>0.056194</td>\n",
       "      <td>-0.002891</td>\n",
       "      <td>0</td>\n",
       "      <td>1</td>\n",
       "      <td>0</td>\n",
       "    </tr>\n",
       "    <tr>\n",
       "      <th>4</th>\n",
       "      <td>-0.004751</td>\n",
       "      <td>0.360870</td>\n",
       "      <td>0.168487</td>\n",
       "      <td>0.216504</td>\n",
       "      <td>-0.078917</td>\n",
       "      <td>0.061536</td>\n",
       "      <td>0.002307</td>\n",
       "      <td>-0.039856</td>\n",
       "      <td>0.011366</td>\n",
       "      <td>0.006206</td>\n",
       "      <td>...</td>\n",
       "      <td>0.000478</td>\n",
       "      <td>-0.018126</td>\n",
       "      <td>0.020353</td>\n",
       "      <td>-0.016795</td>\n",
       "      <td>-0.010428</td>\n",
       "      <td>-0.007948</td>\n",
       "      <td>0.000323</td>\n",
       "      <td>0</td>\n",
       "      <td>0</td>\n",
       "      <td>1</td>\n",
       "    </tr>\n",
       "  </tbody>\n",
       "</table>\n",
       "<p>5 rows × 67 columns</p>\n",
       "</div>"
      ],
      "text/plain": [
       "          0         1         2         3         4         5         6  \\\n",
       "0  0.297849  0.119659  0.010189 -0.040967 -0.031069 -0.149366  0.032674   \n",
       "1  0.306944  0.206340 -0.124424 -0.000305  0.035877 -0.049474 -0.034111   \n",
       "2  0.547152 -0.103030 -0.140274 -0.037888 -0.122875 -0.089208 -0.006034   \n",
       "3 -0.258242 -0.090302 -0.015256 -0.041658 -0.034132  0.078394  0.017149   \n",
       "4 -0.004751  0.360870  0.168487  0.216504 -0.078917  0.061536  0.002307   \n",
       "\n",
       "          7         8         9  ...        57        58        59        60  \\\n",
       "0 -0.023312  0.016385 -0.031270  ... -0.036262  0.083469  0.018670 -0.054247   \n",
       "1  0.002305 -0.020476 -0.022706  ...  0.019440  0.061171  0.016695 -0.100815   \n",
       "2 -0.153586  0.010439 -0.022968  ...  0.063986  0.015127 -0.002270 -0.037650   \n",
       "3 -0.106242  0.017621  0.073247  ...  0.002457  0.030505 -0.011927 -0.058689   \n",
       "4 -0.039856  0.011366  0.006206  ...  0.000478 -0.018126  0.020353 -0.016795   \n",
       "\n",
       "         61        62        63  Label_0.0  Label_1.0  Label_2.0  \n",
       "0  0.054909 -0.018380 -0.021884          0          0          1  \n",
       "1  0.029010 -0.035726  0.023559          0          0          1  \n",
       "2  0.023296  0.038561  0.037274          0          0          1  \n",
       "3  0.040897  0.056194 -0.002891          0          1          0  \n",
       "4 -0.010428 -0.007948  0.000323          0          0          1  \n",
       "\n",
       "[5 rows x 67 columns]"
      ]
     },
     "execution_count": 100,
     "metadata": {},
     "output_type": "execute_result"
    }
   ],
   "source": [
    "df_pca.head()"
   ]
  },
  {
   "cell_type": "code",
   "execution_count": 101,
   "id": "73012d57",
   "metadata": {},
   "outputs": [
    {
     "data": {
      "text/plain": [
       "(2479, 64)"
      ]
     },
     "execution_count": 101,
     "metadata": {},
     "output_type": "execute_result"
    }
   ],
   "source": [
    "X_pca.shape"
   ]
  },
  {
   "cell_type": "code",
   "execution_count": 102,
   "id": "0174f7bd",
   "metadata": {},
   "outputs": [
    {
     "data": {
      "text/html": [
       "<div>\n",
       "<style scoped>\n",
       "    .dataframe tbody tr th:only-of-type {\n",
       "        vertical-align: middle;\n",
       "    }\n",
       "\n",
       "    .dataframe tbody tr th {\n",
       "        vertical-align: top;\n",
       "    }\n",
       "\n",
       "    .dataframe thead th {\n",
       "        text-align: right;\n",
       "    }\n",
       "</style>\n",
       "<table border=\"1\" class=\"dataframe\">\n",
       "  <thead>\n",
       "    <tr style=\"text-align: right;\">\n",
       "      <th></th>\n",
       "      <th>Label_0.0</th>\n",
       "      <th>Label_1.0</th>\n",
       "      <th>Label_2.0</th>\n",
       "    </tr>\n",
       "  </thead>\n",
       "  <tbody>\n",
       "    <tr>\n",
       "      <th>0</th>\n",
       "      <td>0</td>\n",
       "      <td>0</td>\n",
       "      <td>1</td>\n",
       "    </tr>\n",
       "    <tr>\n",
       "      <th>1</th>\n",
       "      <td>0</td>\n",
       "      <td>0</td>\n",
       "      <td>1</td>\n",
       "    </tr>\n",
       "    <tr>\n",
       "      <th>2</th>\n",
       "      <td>0</td>\n",
       "      <td>0</td>\n",
       "      <td>1</td>\n",
       "    </tr>\n",
       "    <tr>\n",
       "      <th>3</th>\n",
       "      <td>0</td>\n",
       "      <td>1</td>\n",
       "      <td>0</td>\n",
       "    </tr>\n",
       "    <tr>\n",
       "      <th>4</th>\n",
       "      <td>0</td>\n",
       "      <td>0</td>\n",
       "      <td>1</td>\n",
       "    </tr>\n",
       "    <tr>\n",
       "      <th>...</th>\n",
       "      <td>...</td>\n",
       "      <td>...</td>\n",
       "      <td>...</td>\n",
       "    </tr>\n",
       "    <tr>\n",
       "      <th>2474</th>\n",
       "      <td>1</td>\n",
       "      <td>0</td>\n",
       "      <td>0</td>\n",
       "    </tr>\n",
       "    <tr>\n",
       "      <th>2475</th>\n",
       "      <td>0</td>\n",
       "      <td>0</td>\n",
       "      <td>1</td>\n",
       "    </tr>\n",
       "    <tr>\n",
       "      <th>2476</th>\n",
       "      <td>0</td>\n",
       "      <td>0</td>\n",
       "      <td>1</td>\n",
       "    </tr>\n",
       "    <tr>\n",
       "      <th>2477</th>\n",
       "      <td>0</td>\n",
       "      <td>0</td>\n",
       "      <td>1</td>\n",
       "    </tr>\n",
       "    <tr>\n",
       "      <th>2478</th>\n",
       "      <td>0</td>\n",
       "      <td>1</td>\n",
       "      <td>0</td>\n",
       "    </tr>\n",
       "  </tbody>\n",
       "</table>\n",
       "<p>2479 rows × 3 columns</p>\n",
       "</div>"
      ],
      "text/plain": [
       "      Label_0.0  Label_1.0  Label_2.0\n",
       "0             0          0          1\n",
       "1             0          0          1\n",
       "2             0          0          1\n",
       "3             0          1          0\n",
       "4             0          0          1\n",
       "...         ...        ...        ...\n",
       "2474          1          0          0\n",
       "2475          0          0          1\n",
       "2476          0          0          1\n",
       "2477          0          0          1\n",
       "2478          0          1          0\n",
       "\n",
       "[2479 rows x 3 columns]"
      ]
     },
     "execution_count": 102,
     "metadata": {},
     "output_type": "execute_result"
    }
   ],
   "source": [
    "y"
   ]
  },
  {
   "cell_type": "code",
   "execution_count": 103,
   "id": "4e828f49",
   "metadata": {},
   "outputs": [],
   "source": [
    "y=y.values"
   ]
  },
  {
   "cell_type": "code",
   "execution_count": 104,
   "id": "c03be78e",
   "metadata": {},
   "outputs": [],
   "source": [
    "y1=np.argmax(y,axis=1)"
   ]
  },
  {
   "cell_type": "code",
   "execution_count": 105,
   "id": "94fdc6e1",
   "metadata": {},
   "outputs": [
    {
     "data": {
      "text/plain": [
       "array([2, 2, 2, ..., 2, 2, 1], dtype=int64)"
      ]
     },
     "execution_count": 105,
     "metadata": {},
     "output_type": "execute_result"
    }
   ],
   "source": [
    "y1"
   ]
  },
  {
   "cell_type": "code",
   "execution_count": null,
   "id": "1f93b44c",
   "metadata": {},
   "outputs": [],
   "source": []
  },
  {
   "cell_type": "code",
   "execution_count": 16,
   "id": "959ea5f7",
   "metadata": {},
   "outputs": [],
   "source": [
    "# from sklearn.neural_network import MLPRegressor"
   ]
  },
  {
   "cell_type": "code",
   "execution_count": 18,
   "id": "5e41a436",
   "metadata": {},
   "outputs": [],
   "source": [
    "# autoencoder = MLPRegressor(alpha = 1e-15,hidden_layer_sizes=(50,100,50,2,50,100,50)\n",
    "#                           , random_state=1,max_iter=20000)\n",
    "# # X_pca=autoencoder.fit(X_pca,X_pca)"
   ]
  },
  {
   "cell_type": "code",
   "execution_count": 19,
   "id": "976fb57e",
   "metadata": {},
   "outputs": [],
   "source": [
    "# X_pca.shape"
   ]
  },
  {
   "cell_type": "code",
   "execution_count": 106,
   "id": "05b0a2df",
   "metadata": {},
   "outputs": [],
   "source": [
    "from tensorflow.keras.layers import LeakyReLU\n",
    "from tensorflow.keras.models import Model\n",
    "from tensorflow.keras.layers import Input\n",
    "from tensorflow.keras.layers import Dense\n",
    "from tensorflow.keras.layers import BatchNormalization\n",
    "from tensorflow.keras.models import load_model"
   ]
  },
  {
   "cell_type": "code",
   "execution_count": 107,
   "id": "509f157d",
   "metadata": {},
   "outputs": [],
   "source": [
    "n_inputs = X_pca.shape[1]\n",
    "# define encoder\n",
    "input_data_shape= Input(shape=(n_inputs,))\n",
    "# encoder level 1\n",
    "encoder= Dense(n_inputs*2)(input_data_shape)\n",
    "encoder = BatchNormalization()(encoder)\n",
    "encoder= LeakyReLU()(encoder)\n",
    "# encoder level 2\n",
    "encoder= Dense(n_inputs)(encoder)\n",
    "encoder= BatchNormalization()(encoder)\n",
    "encoder= LeakyReLU()(encoder)\n",
    "# bottleneck\n",
    "n_bottleneck = round(float(n_inputs) / 2.0)\n",
    "bottleneck = Dense(n_bottleneck)(encoder)\n",
    "# define decoder, level 1\n",
    "decoder = Dense(n_inputs)(bottleneck)\n",
    "decoder = BatchNormalization()(decoder)\n",
    "decoder = LeakyReLU()(decoder)\n",
    "# decoder level 2\n",
    "decoder = Dense(n_inputs*2)(decoder)\n",
    "decoder = BatchNormalization()(decoder)\n",
    "decoder = LeakyReLU()(decoder)"
   ]
  },
  {
   "cell_type": "code",
   "execution_count": 108,
   "id": "402384d2",
   "metadata": {},
   "outputs": [],
   "source": [
    "output = Dense(n_inputs, activation='linear')(decoder)\n",
    "# define autoencoder model\n",
    "model = Model(inputs=input_data_shape, outputs=output)\n",
    "# compile autoencoder model\n",
    "model.compile(optimizer='adam', loss='mse')"
   ]
  },
  {
   "cell_type": "code",
   "execution_count": 109,
   "id": "0eb3bfb3",
   "metadata": {},
   "outputs": [
    {
     "name": "stdout",
     "output_type": "stream",
     "text": [
      "Model: \"model_5\"\n",
      "_________________________________________________________________\n",
      " Layer (type)                Output Shape              Param #   \n",
      "=================================================================\n",
      " input_5 (InputLayer)        [(None, 64)]              0         \n",
      "                                                                 \n",
      " dense_27 (Dense)            (None, 128)               8320      \n",
      "                                                                 \n",
      " batch_normalization_22 (Bat  (None, 128)              512       \n",
      " chNormalization)                                                \n",
      "                                                                 \n",
      " leaky_re_lu_16 (LeakyReLU)  (None, 128)               0         \n",
      "                                                                 \n",
      " dense_28 (Dense)            (None, 64)                8256      \n",
      "                                                                 \n",
      " batch_normalization_23 (Bat  (None, 64)               256       \n",
      " chNormalization)                                                \n",
      "                                                                 \n",
      " leaky_re_lu_17 (LeakyReLU)  (None, 64)                0         \n",
      "                                                                 \n",
      " dense_29 (Dense)            (None, 32)                2080      \n",
      "                                                                 \n",
      " dense_30 (Dense)            (None, 64)                2112      \n",
      "                                                                 \n",
      " batch_normalization_24 (Bat  (None, 64)               256       \n",
      " chNormalization)                                                \n",
      "                                                                 \n",
      " leaky_re_lu_18 (LeakyReLU)  (None, 64)                0         \n",
      "                                                                 \n",
      " dense_31 (Dense)            (None, 128)               8320      \n",
      "                                                                 \n",
      " batch_normalization_25 (Bat  (None, 128)              512       \n",
      " chNormalization)                                                \n",
      "                                                                 \n",
      " leaky_re_lu_19 (LeakyReLU)  (None, 128)               0         \n",
      "                                                                 \n",
      " dense_32 (Dense)            (None, 64)                8256      \n",
      "                                                                 \n",
      "=================================================================\n",
      "Total params: 38,880\n",
      "Trainable params: 38,112\n",
      "Non-trainable params: 768\n",
      "_________________________________________________________________\n"
     ]
    }
   ],
   "source": [
    "model.summary()"
   ]
  },
  {
   "cell_type": "code",
   "execution_count": null,
   "id": "ded0d7fe",
   "metadata": {},
   "outputs": [],
   "source": []
  },
  {
   "cell_type": "code",
   "execution_count": 110,
   "id": "27e9035e",
   "metadata": {},
   "outputs": [],
   "source": [
    "x_train,x_test,y_train,y_test=train_test_split(X_pca,y1,test_size=0.2,random_state=123)\n",
    "x_train,x_val,y_train,y_val=train_test_split(x_train,y_train,test_size=0.2,random_state=123)"
   ]
  },
  {
   "cell_type": "code",
   "execution_count": 111,
   "id": "50790619",
   "metadata": {},
   "outputs": [
    {
     "data": {
      "text/plain": [
       "((1586, 64), (1586,), (496, 64), (496,), (397, 64), (397,))"
      ]
     },
     "execution_count": 111,
     "metadata": {},
     "output_type": "execute_result"
    }
   ],
   "source": [
    "x_train.shape, y_train.shape, x_test.shape, y_test.shape, x_val.shape, y_val.shape"
   ]
  },
  {
   "cell_type": "code",
   "execution_count": 112,
   "id": "d2ced791",
   "metadata": {},
   "outputs": [
    {
     "name": "stdout",
     "output_type": "stream",
     "text": [
      "Epoch 1/50\n",
      "40/40 - 1s - loss: 0.9603 - val_loss: 1.1391 - 1s/epoch - 37ms/step\n",
      "Epoch 2/50\n",
      "40/40 - 0s - loss: 0.1582 - val_loss: 0.8076 - 147ms/epoch - 4ms/step\n",
      "Epoch 3/50\n",
      "40/40 - 0s - loss: 0.1015 - val_loss: 0.6127 - 148ms/epoch - 4ms/step\n",
      "Epoch 4/50\n",
      "40/40 - 0s - loss: 0.0922 - val_loss: 0.4785 - 156ms/epoch - 4ms/step\n",
      "Epoch 5/50\n",
      "40/40 - 0s - loss: 0.0855 - val_loss: 0.4252 - 151ms/epoch - 4ms/step\n",
      "Epoch 6/50\n",
      "40/40 - 0s - loss: 0.0741 - val_loss: 0.3701 - 149ms/epoch - 4ms/step\n",
      "Epoch 7/50\n",
      "40/40 - 0s - loss: 0.0764 - val_loss: 0.3309 - 154ms/epoch - 4ms/step\n",
      "Epoch 8/50\n",
      "40/40 - 0s - loss: 0.0707 - val_loss: 0.2900 - 153ms/epoch - 4ms/step\n",
      "Epoch 9/50\n",
      "40/40 - 0s - loss: 0.0570 - val_loss: 0.2795 - 154ms/epoch - 4ms/step\n",
      "Epoch 10/50\n",
      "40/40 - 0s - loss: 0.0614 - val_loss: 0.2089 - 162ms/epoch - 4ms/step\n",
      "Epoch 11/50\n",
      "40/40 - 0s - loss: 0.0489 - val_loss: 0.1512 - 154ms/epoch - 4ms/step\n",
      "Epoch 12/50\n",
      "40/40 - 0s - loss: 0.0483 - val_loss: 0.0971 - 160ms/epoch - 4ms/step\n",
      "Epoch 13/50\n",
      "40/40 - 0s - loss: 0.0521 - val_loss: 0.0993 - 153ms/epoch - 4ms/step\n",
      "Epoch 14/50\n",
      "40/40 - 0s - loss: 0.0489 - val_loss: 0.0541 - 155ms/epoch - 4ms/step\n",
      "Epoch 15/50\n",
      "40/40 - 0s - loss: 0.0417 - val_loss: 0.0452 - 155ms/epoch - 4ms/step\n",
      "Epoch 16/50\n",
      "40/40 - 0s - loss: 0.0458 - val_loss: 0.0684 - 156ms/epoch - 4ms/step\n",
      "Epoch 17/50\n",
      "40/40 - 0s - loss: 0.0421 - val_loss: 0.0544 - 154ms/epoch - 4ms/step\n",
      "Epoch 18/50\n",
      "40/40 - 0s - loss: 0.0429 - val_loss: 0.0604 - 156ms/epoch - 4ms/step\n",
      "Epoch 19/50\n",
      "40/40 - 0s - loss: 0.0413 - val_loss: 0.0414 - 152ms/epoch - 4ms/step\n",
      "Epoch 20/50\n",
      "40/40 - 0s - loss: 0.0357 - val_loss: 0.0348 - 155ms/epoch - 4ms/step\n",
      "Epoch 21/50\n",
      "40/40 - 0s - loss: 0.0382 - val_loss: 0.0338 - 158ms/epoch - 4ms/step\n",
      "Epoch 22/50\n",
      "40/40 - 0s - loss: 0.0354 - val_loss: 0.0364 - 153ms/epoch - 4ms/step\n",
      "Epoch 23/50\n",
      "40/40 - 0s - loss: 0.0286 - val_loss: 0.0383 - 152ms/epoch - 4ms/step\n",
      "Epoch 24/50\n",
      "40/40 - 0s - loss: 0.0311 - val_loss: 0.0340 - 155ms/epoch - 4ms/step\n",
      "Epoch 25/50\n",
      "40/40 - 0s - loss: 0.0275 - val_loss: 0.0326 - 154ms/epoch - 4ms/step\n",
      "Epoch 26/50\n",
      "40/40 - 0s - loss: 0.0279 - val_loss: 0.0351 - 159ms/epoch - 4ms/step\n",
      "Epoch 27/50\n",
      "40/40 - 0s - loss: 0.0328 - val_loss: 0.0386 - 152ms/epoch - 4ms/step\n",
      "Epoch 28/50\n",
      "40/40 - 0s - loss: 0.0339 - val_loss: 0.0398 - 155ms/epoch - 4ms/step\n",
      "Epoch 29/50\n",
      "40/40 - 0s - loss: 0.0367 - val_loss: 0.0363 - 154ms/epoch - 4ms/step\n",
      "Epoch 30/50\n",
      "40/40 - 0s - loss: 0.0300 - val_loss: 0.0352 - 156ms/epoch - 4ms/step\n",
      "Epoch 31/50\n",
      "40/40 - 0s - loss: 0.0272 - val_loss: 0.0335 - 161ms/epoch - 4ms/step\n",
      "Epoch 32/50\n",
      "40/40 - 0s - loss: 0.0246 - val_loss: 0.0333 - 155ms/epoch - 4ms/step\n",
      "Epoch 33/50\n",
      "40/40 - 0s - loss: 0.0228 - val_loss: 0.0380 - 158ms/epoch - 4ms/step\n",
      "Epoch 34/50\n",
      "40/40 - 0s - loss: 0.0288 - val_loss: 0.0463 - 151ms/epoch - 4ms/step\n",
      "Epoch 35/50\n",
      "40/40 - 0s - loss: 0.0234 - val_loss: 0.0388 - 154ms/epoch - 4ms/step\n",
      "Epoch 36/50\n",
      "40/40 - 0s - loss: 0.0280 - val_loss: 0.0367 - 154ms/epoch - 4ms/step\n",
      "Epoch 37/50\n",
      "40/40 - 0s - loss: 0.0216 - val_loss: 0.0334 - 186ms/epoch - 5ms/step\n",
      "Epoch 38/50\n",
      "40/40 - 0s - loss: 0.0250 - val_loss: 0.0334 - 155ms/epoch - 4ms/step\n",
      "Epoch 39/50\n",
      "40/40 - 0s - loss: 0.0232 - val_loss: 0.0349 - 155ms/epoch - 4ms/step\n",
      "Epoch 40/50\n",
      "40/40 - 0s - loss: 0.0241 - val_loss: 0.0308 - 181ms/epoch - 5ms/step\n",
      "Epoch 41/50\n",
      "40/40 - 0s - loss: 0.0239 - val_loss: 0.0315 - 156ms/epoch - 4ms/step\n",
      "Epoch 42/50\n",
      "40/40 - 0s - loss: 0.0180 - val_loss: 0.0339 - 159ms/epoch - 4ms/step\n",
      "Epoch 43/50\n",
      "40/40 - 0s - loss: 0.0263 - val_loss: 0.0314 - 152ms/epoch - 4ms/step\n",
      "Epoch 44/50\n",
      "40/40 - 0s - loss: 0.0241 - val_loss: 0.0337 - 156ms/epoch - 4ms/step\n",
      "Epoch 45/50\n",
      "40/40 - 0s - loss: 0.0223 - val_loss: 0.0311 - 161ms/epoch - 4ms/step\n",
      "Epoch 46/50\n",
      "40/40 - 0s - loss: 0.0230 - val_loss: 0.0411 - 151ms/epoch - 4ms/step\n",
      "Epoch 47/50\n",
      "40/40 - 0s - loss: 0.0228 - val_loss: 0.0321 - 158ms/epoch - 4ms/step\n",
      "Epoch 48/50\n",
      "40/40 - 0s - loss: 0.0206 - val_loss: 0.0289 - 155ms/epoch - 4ms/step\n",
      "Epoch 49/50\n",
      "40/40 - 0s - loss: 0.0199 - val_loss: 0.0301 - 157ms/epoch - 4ms/step\n",
      "Epoch 50/50\n",
      "40/40 - 0s - loss: 0.0211 - val_loss: 0.0355 - 154ms/epoch - 4ms/step\n"
     ]
    }
   ],
   "source": [
    "history = model.fit(x_train, y_train, epochs=50, batch_size=40, verbose=2, validation_data=(x_val,y_val))"
   ]
  },
  {
   "cell_type": "code",
   "execution_count": 113,
   "id": "49faad33",
   "metadata": {},
   "outputs": [
    {
     "name": "stdout",
     "output_type": "stream",
     "text": [
      "WARNING:tensorflow:Compiled the loaded model, but the compiled metrics have yet to be built. `model.compile_metrics` will be empty until you train or evaluate the model.\n"
     ]
    }
   ],
   "source": [
    "encoder = Model(inputs=input_data_shape, outputs=bottleneck)\n",
    "# save the encoder to file\n",
    "encoder.save('encoder.h5')"
   ]
  },
  {
   "cell_type": "code",
   "execution_count": 114,
   "id": "84c48920",
   "metadata": {},
   "outputs": [],
   "source": [
    "from sklearn.preprocessing import MinMaxScaler"
   ]
  },
  {
   "cell_type": "code",
   "execution_count": 115,
   "id": "cdd365ae",
   "metadata": {},
   "outputs": [],
   "source": [
    "t = MinMaxScaler()\n",
    "t.fit(x_train)\n",
    "x_train = t.transform(x_train)\n",
    "x_test = t.transform(x_test)"
   ]
  },
  {
   "cell_type": "code",
   "execution_count": 116,
   "id": "b6283fa3",
   "metadata": {},
   "outputs": [
    {
     "name": "stdout",
     "output_type": "stream",
     "text": [
      "WARNING:tensorflow:No training configuration found in the save file, so the model was *not* compiled. Compile it manually.\n",
      "50/50 [==============================] - 0s 2ms/step\n",
      "13/13 [==============================] - 0s 2ms/step\n",
      "16/16 [==============================] - 0s 2ms/step\n"
     ]
    }
   ],
   "source": [
    "encoder = load_model('encoder.h5')\n",
    "\n",
    "# encode the train data\n",
    "X_train_encode = encoder.predict(x_train)\n",
    "X_val_encode = encoder.predict(x_val)\n",
    "# encode the test data\n",
    "X_test_encode = encoder.predict(x_test)"
   ]
  },
  {
   "cell_type": "code",
   "execution_count": 117,
   "id": "75b31559",
   "metadata": {},
   "outputs": [],
   "source": [
    "y_train_binarized=label_binarize(y_train,classes=np.unique(y_train))\n",
    "y_val_binarized=label_binarize(y_val,classes=np.unique(y_val))\n",
    "y_test_binarized=label_binarize(y_test,classes=np.unique(y_test))"
   ]
  },
  {
   "cell_type": "code",
   "execution_count": 118,
   "id": "0826b282",
   "metadata": {},
   "outputs": [],
   "source": [
    "from tensorflow.keras import Sequential\n",
    "from tensorflow.keras.layers import LSTM"
   ]
  },
  {
   "cell_type": "code",
   "execution_count": 119,
   "id": "53c7d2b9",
   "metadata": {},
   "outputs": [],
   "source": [
    "model = Sequential()\n",
    "model.add(layers.Conv1D(64, 5, input_shape=(x_train.shape[1], 1)))\n",
    "model.add(LSTM(64, return_sequences=True))\n",
    "model.add(layers.BatchNormalization())\n",
    "model.add(layers.MaxPool1D(2))\n",
    "model.add(layers.Dropout(0.2))\n",
    "model.add(layers.ReLU())\n",
    "\n",
    "\n",
    "model.add(layers.Conv1D(64, 5,activation='relu'))\n",
    "model.add(layers.BatchNormalization())\n",
    "model.add(layers.MaxPool1D(2))\n",
    "model.add(layers.Dropout(0.2))\n",
    "model.add(layers.ReLU())\n",
    "\n",
    "model.add(layers.Flatten())\n",
    "model.add(layers.Dense(3, activation='softmax'))   \n",
    "# model.compile(loss = 'categorical_crossentropy',optimizer = \"adam\",metrics = ['accuracy','auc','f1score'])\n",
    "# model.summary()"
   ]
  },
  {
   "cell_type": "code",
   "execution_count": 120,
   "id": "b49fa2fe",
   "metadata": {},
   "outputs": [],
   "source": [
    "from tensorflow.keras.callbacks import EarlyStopping"
   ]
  },
  {
   "cell_type": "code",
   "execution_count": 121,
   "id": "d9a943c0",
   "metadata": {},
   "outputs": [],
   "source": [
    "#Defining a custom callback function to stop training our model when accuracy goes above 99%\n",
    "\n",
    "class MyCallback(tf.keras.callbacks.Callback):\n",
    "    def on_epoch_end(self, epoch, logs={}):\n",
    "        if logs.get('val_acc') > 0.99:\n",
    "            print(\"\\nReached accuracy threshold! Terminating training.\")\n",
    "            self.model.stop_training = True\n",
    "            \n",
    "my_callback = MyCallback()\n",
    "\n",
    "#EarlyStopping callback to make sure model is always learning\n",
    "early_stopping = EarlyStopping(monitor='val_loss', patience=2)"
   ]
  },
  {
   "cell_type": "code",
   "execution_count": 122,
   "id": "e2f10803",
   "metadata": {},
   "outputs": [
    {
     "name": "stdout",
     "output_type": "stream",
     "text": [
      "Model: \"sequential_3\"\n",
      "_________________________________________________________________\n",
      " Layer (type)                Output Shape              Param #   \n",
      "=================================================================\n",
      " conv1d_6 (Conv1D)           (None, 60, 64)            384       \n",
      "                                                                 \n",
      " lstm_3 (LSTM)               (None, 60, 64)            33024     \n",
      "                                                                 \n",
      " batch_normalization_26 (Bat  (None, 60, 64)           256       \n",
      " chNormalization)                                                \n",
      "                                                                 \n",
      " max_pooling1d_6 (MaxPooling  (None, 30, 64)           0         \n",
      " 1D)                                                             \n",
      "                                                                 \n",
      " dropout_6 (Dropout)         (None, 30, 64)            0         \n",
      "                                                                 \n",
      " re_lu_6 (ReLU)              (None, 30, 64)            0         \n",
      "                                                                 \n",
      " conv1d_7 (Conv1D)           (None, 26, 64)            20544     \n",
      "                                                                 \n",
      " batch_normalization_27 (Bat  (None, 26, 64)           256       \n",
      " chNormalization)                                                \n",
      "                                                                 \n",
      " max_pooling1d_7 (MaxPooling  (None, 13, 64)           0         \n",
      " 1D)                                                             \n",
      "                                                                 \n",
      " dropout_7 (Dropout)         (None, 13, 64)            0         \n",
      "                                                                 \n",
      " re_lu_7 (ReLU)              (None, 13, 64)            0         \n",
      "                                                                 \n",
      " flatten_3 (Flatten)         (None, 832)               0         \n",
      "                                                                 \n",
      " dense_33 (Dense)            (None, 3)                 2499      \n",
      "                                                                 \n",
      "=================================================================\n",
      "Total params: 56,963\n",
      "Trainable params: 56,707\n",
      "Non-trainable params: 256\n",
      "_________________________________________________________________\n"
     ]
    }
   ],
   "source": [
    "#Defining other parameters for our CNN model\n",
    "\n",
    "model = model\n",
    "\n",
    "METRICS = [tf.keras.metrics.CategoricalAccuracy(name='Accuracy'),\n",
    "           tf.keras.metrics.AUC(name='AUC')]\n",
    "\n",
    "CALLBACKS = [my_callback]\n",
    "\n",
    "\n",
    "model.compile(optimizer='adam',\n",
    "              loss=tf.losses.CategoricalCrossentropy(),\n",
    "              metrics=METRICS)\n",
    "\n",
    "model.summary()"
   ]
  },
  {
   "cell_type": "code",
   "execution_count": 123,
   "id": "59f9a0b7",
   "metadata": {},
   "outputs": [
    {
     "name": "stdout",
     "output_type": "stream",
     "text": [
      "Epoch 1/70\n",
      "40/40 [==============================] - 5s 60ms/step - loss: 0.9166 - Accuracy: 0.6028 - AUC: 0.7875 - val_loss: 1.0986 - val_Accuracy: 0.3325 - val_AUC: 0.4882\n",
      "Epoch 2/70\n",
      "40/40 [==============================] - 2s 42ms/step - loss: 0.4745 - Accuracy: 0.8115 - AUC: 0.9377 - val_loss: 1.0968 - val_Accuracy: 0.3325 - val_AUC: 0.6281\n",
      "Epoch 3/70\n",
      "40/40 [==============================] - 2s 42ms/step - loss: 0.3311 - Accuracy: 0.8726 - AUC: 0.9690 - val_loss: 1.0968 - val_Accuracy: 0.3325 - val_AUC: 0.5780\n",
      "Epoch 4/70\n",
      "40/40 [==============================] - 2s 42ms/step - loss: 0.2818 - Accuracy: 0.8916 - AUC: 0.9773 - val_loss: 1.0980 - val_Accuracy: 0.3325 - val_AUC: 0.5863\n",
      "Epoch 5/70\n",
      "40/40 [==============================] - 2s 42ms/step - loss: 0.2434 - Accuracy: 0.9048 - AUC: 0.9834 - val_loss: 1.0997 - val_Accuracy: 0.3325 - val_AUC: 0.6942\n",
      "Epoch 6/70\n",
      "40/40 [==============================] - 2s 44ms/step - loss: 0.2037 - Accuracy: 0.9193 - AUC: 0.9884 - val_loss: 1.0989 - val_Accuracy: 0.3325 - val_AUC: 0.6350\n",
      "Epoch 7/70\n",
      "40/40 [==============================] - 2s 45ms/step - loss: 0.1753 - Accuracy: 0.9313 - AUC: 0.9915 - val_loss: 1.1721 - val_Accuracy: 0.3325 - val_AUC: 0.6988\n",
      "Epoch 8/70\n",
      "40/40 [==============================] - 2s 43ms/step - loss: 0.1670 - Accuracy: 0.9420 - AUC: 0.9920 - val_loss: 1.3123 - val_Accuracy: 0.3325 - val_AUC: 0.6462\n",
      "Epoch 9/70\n",
      "40/40 [==============================] - 2s 42ms/step - loss: 0.1427 - Accuracy: 0.9527 - AUC: 0.9940 - val_loss: 1.5513 - val_Accuracy: 0.3325 - val_AUC: 0.6122\n",
      "Epoch 10/70\n",
      "40/40 [==============================] - 2s 42ms/step - loss: 0.1377 - Accuracy: 0.9477 - AUC: 0.9945 - val_loss: 1.6003 - val_Accuracy: 0.3325 - val_AUC: 0.6346\n",
      "Epoch 11/70\n",
      "40/40 [==============================] - 2s 42ms/step - loss: 0.1285 - Accuracy: 0.9527 - AUC: 0.9950 - val_loss: 3.0982 - val_Accuracy: 0.3325 - val_AUC: 0.5864\n",
      "Epoch 12/70\n",
      "40/40 [==============================] - 2s 43ms/step - loss: 0.1139 - Accuracy: 0.9622 - AUC: 0.9960 - val_loss: 4.4429 - val_Accuracy: 0.3325 - val_AUC: 0.5205\n",
      "Epoch 13/70\n",
      "40/40 [==============================] - 2s 42ms/step - loss: 0.1210 - Accuracy: 0.9578 - AUC: 0.9955 - val_loss: 5.1151 - val_Accuracy: 0.3325 - val_AUC: 0.5279\n",
      "Epoch 14/70\n",
      "40/40 [==============================] - 2s 43ms/step - loss: 0.0966 - Accuracy: 0.9678 - AUC: 0.9973 - val_loss: 6.3115 - val_Accuracy: 0.3325 - val_AUC: 0.5015\n",
      "Epoch 15/70\n",
      "40/40 [==============================] - 2s 43ms/step - loss: 0.0882 - Accuracy: 0.9697 - AUC: 0.9980 - val_loss: 5.0652 - val_Accuracy: 0.3325 - val_AUC: 0.5767\n",
      "Epoch 16/70\n",
      "40/40 [==============================] - 2s 44ms/step - loss: 0.0880 - Accuracy: 0.9704 - AUC: 0.9979 - val_loss: 8.8305 - val_Accuracy: 0.3325 - val_AUC: 0.5025\n",
      "Epoch 17/70\n",
      "40/40 [==============================] - 2s 45ms/step - loss: 0.0846 - Accuracy: 0.9716 - AUC: 0.9982 - val_loss: 10.1067 - val_Accuracy: 0.3325 - val_AUC: 0.5269\n",
      "Epoch 18/70\n",
      "40/40 [==============================] - 2s 43ms/step - loss: 0.0793 - Accuracy: 0.9729 - AUC: 0.9983 - val_loss: 11.2984 - val_Accuracy: 0.3325 - val_AUC: 0.5279\n",
      "Epoch 19/70\n",
      "40/40 [==============================] - 2s 44ms/step - loss: 0.0875 - Accuracy: 0.9647 - AUC: 0.9980 - val_loss: 14.6777 - val_Accuracy: 0.3325 - val_AUC: 0.4994\n",
      "Epoch 20/70\n",
      "40/40 [==============================] - 2s 44ms/step - loss: 0.0656 - Accuracy: 0.9773 - AUC: 0.9989 - val_loss: 15.4086 - val_Accuracy: 0.3325 - val_AUC: 0.4994\n",
      "Epoch 21/70\n",
      "40/40 [==============================] - 2s 44ms/step - loss: 0.0684 - Accuracy: 0.9792 - AUC: 0.9987 - val_loss: 10.3947 - val_Accuracy: 0.3325 - val_AUC: 0.5182\n",
      "Epoch 22/70\n",
      "40/40 [==============================] - 2s 44ms/step - loss: 0.0708 - Accuracy: 0.9767 - AUC: 0.9984 - val_loss: 11.5565 - val_Accuracy: 0.3325 - val_AUC: 0.5406\n",
      "Epoch 23/70\n",
      "40/40 [==============================] - 2s 42ms/step - loss: 0.0630 - Accuracy: 0.9786 - AUC: 0.9987 - val_loss: 15.1347 - val_Accuracy: 0.3325 - val_AUC: 0.4994\n",
      "Epoch 24/70\n",
      "40/40 [==============================] - 2s 45ms/step - loss: 0.0584 - Accuracy: 0.9786 - AUC: 0.9991 - val_loss: 16.3144 - val_Accuracy: 0.3325 - val_AUC: 0.5004\n",
      "Epoch 25/70\n",
      "40/40 [==============================] - 2s 45ms/step - loss: 0.0516 - Accuracy: 0.9817 - AUC: 0.9994 - val_loss: 17.0065 - val_Accuracy: 0.3325 - val_AUC: 0.5036\n",
      "Epoch 26/70\n",
      "40/40 [==============================] - 2s 45ms/step - loss: 0.0463 - Accuracy: 0.9861 - AUC: 0.9995 - val_loss: 19.4167 - val_Accuracy: 0.3325 - val_AUC: 0.4994\n",
      "Epoch 27/70\n",
      "40/40 [==============================] - 2s 43ms/step - loss: 0.0442 - Accuracy: 0.9855 - AUC: 0.9995 - val_loss: 16.4858 - val_Accuracy: 0.3325 - val_AUC: 0.5046\n",
      "Epoch 28/70\n",
      "40/40 [==============================] - 2s 50ms/step - loss: 0.0519 - Accuracy: 0.9836 - AUC: 0.9989 - val_loss: 19.5364 - val_Accuracy: 0.3325 - val_AUC: 0.4994\n",
      "Epoch 29/70\n",
      "40/40 [==============================] - 2s 47ms/step - loss: 0.0399 - Accuracy: 0.9868 - AUC: 0.9997 - val_loss: 18.9908 - val_Accuracy: 0.3325 - val_AUC: 0.4994\n",
      "Epoch 30/70\n",
      "40/40 [==============================] - 2s 46ms/step - loss: 0.0395 - Accuracy: 0.9823 - AUC: 0.9997 - val_loss: 17.6395 - val_Accuracy: 0.3325 - val_AUC: 0.4994\n",
      "Epoch 31/70\n",
      "40/40 [==============================] - 2s 47ms/step - loss: 0.0530 - Accuracy: 0.9830 - AUC: 0.9989 - val_loss: 18.4848 - val_Accuracy: 0.3325 - val_AUC: 0.4994\n",
      "Epoch 32/70\n",
      "40/40 [==============================] - 2s 43ms/step - loss: 0.0439 - Accuracy: 0.9830 - AUC: 0.9994 - val_loss: 19.8753 - val_Accuracy: 0.3325 - val_AUC: 0.4994\n",
      "Epoch 33/70\n",
      "40/40 [==============================] - 2s 47ms/step - loss: 0.0504 - Accuracy: 0.9842 - AUC: 0.9992 - val_loss: 18.8271 - val_Accuracy: 0.3325 - val_AUC: 0.4994\n",
      "Epoch 34/70\n",
      "40/40 [==============================] - 2s 45ms/step - loss: 0.0442 - Accuracy: 0.9880 - AUC: 0.9994 - val_loss: 27.8532 - val_Accuracy: 0.3325 - val_AUC: 0.4994\n",
      "Epoch 35/70\n",
      "40/40 [==============================] - 2s 56ms/step - loss: 0.0438 - Accuracy: 0.9880 - AUC: 0.9994 - val_loss: 30.5089 - val_Accuracy: 0.3325 - val_AUC: 0.4994\n",
      "Epoch 36/70\n",
      "40/40 [==============================] - 3s 70ms/step - loss: 0.0363 - Accuracy: 0.9899 - AUC: 0.9997 - val_loss: 27.6322 - val_Accuracy: 0.3325 - val_AUC: 0.4994\n",
      "Epoch 37/70\n",
      "40/40 [==============================] - 2s 49ms/step - loss: 0.0343 - Accuracy: 0.9899 - AUC: 0.9997 - val_loss: 27.7643 - val_Accuracy: 0.3325 - val_AUC: 0.4994\n",
      "Epoch 38/70\n",
      "40/40 [==============================] - 2s 48ms/step - loss: 0.0367 - Accuracy: 0.9887 - AUC: 0.9997 - val_loss: 27.4858 - val_Accuracy: 0.3325 - val_AUC: 0.4994\n",
      "Epoch 39/70\n",
      "40/40 [==============================] - 2s 50ms/step - loss: 0.0378 - Accuracy: 0.9868 - AUC: 0.9996 - val_loss: 25.6603 - val_Accuracy: 0.3325 - val_AUC: 0.4994\n",
      "Epoch 40/70\n",
      "40/40 [==============================] - 2s 48ms/step - loss: 0.0475 - Accuracy: 0.9842 - AUC: 0.9986 - val_loss: 26.7602 - val_Accuracy: 0.3325 - val_AUC: 0.4994\n",
      "Epoch 41/70\n",
      "40/40 [==============================] - 2s 48ms/step - loss: 0.0464 - Accuracy: 0.9849 - AUC: 0.9991 - val_loss: 24.1683 - val_Accuracy: 0.3325 - val_AUC: 0.4994\n",
      "Epoch 42/70\n",
      "40/40 [==============================] - 2s 46ms/step - loss: 0.0295 - Accuracy: 0.9899 - AUC: 0.9998 - val_loss: 30.4418 - val_Accuracy: 0.3325 - val_AUC: 0.4994\n",
      "Epoch 43/70\n",
      "40/40 [==============================] - 2s 43ms/step - loss: 0.0287 - Accuracy: 0.9924 - AUC: 0.9998 - val_loss: 30.5255 - val_Accuracy: 0.3325 - val_AUC: 0.4994\n",
      "Epoch 44/70\n",
      "40/40 [==============================] - 2s 42ms/step - loss: 0.0278 - Accuracy: 0.9912 - AUC: 0.9998 - val_loss: 35.0656 - val_Accuracy: 0.3325 - val_AUC: 0.4994\n",
      "Epoch 45/70\n",
      "40/40 [==============================] - 2s 45ms/step - loss: 0.0293 - Accuracy: 0.9887 - AUC: 0.9998 - val_loss: 28.6753 - val_Accuracy: 0.3325 - val_AUC: 0.4994\n",
      "Epoch 46/70\n",
      "40/40 [==============================] - 2s 44ms/step - loss: 0.0376 - Accuracy: 0.9861 - AUC: 0.9996 - val_loss: 28.1219 - val_Accuracy: 0.3325 - val_AUC: 0.4994\n",
      "Epoch 47/70\n",
      "40/40 [==============================] - 2s 43ms/step - loss: 0.0290 - Accuracy: 0.9912 - AUC: 0.9998 - val_loss: 26.4422 - val_Accuracy: 0.3325 - val_AUC: 0.4994\n"
     ]
    },
    {
     "name": "stdout",
     "output_type": "stream",
     "text": [
      "Epoch 48/70\n",
      "40/40 [==============================] - 2s 42ms/step - loss: 0.0376 - Accuracy: 0.9868 - AUC: 0.9996 - val_loss: 36.2770 - val_Accuracy: 0.3325 - val_AUC: 0.4994\n",
      "Epoch 49/70\n",
      "40/40 [==============================] - 2s 41ms/step - loss: 0.0300 - Accuracy: 0.9912 - AUC: 0.9998 - val_loss: 40.0771 - val_Accuracy: 0.3325 - val_AUC: 0.4994\n",
      "Epoch 50/70\n",
      "40/40 [==============================] - 2s 41ms/step - loss: 0.0273 - Accuracy: 0.9887 - AUC: 0.9995 - val_loss: 33.2990 - val_Accuracy: 0.3325 - val_AUC: 0.4994\n",
      "Epoch 51/70\n",
      "40/40 [==============================] - 2s 42ms/step - loss: 0.0335 - Accuracy: 0.9874 - AUC: 0.9997 - val_loss: 26.8744 - val_Accuracy: 0.3325 - val_AUC: 0.4994\n",
      "Epoch 52/70\n",
      "40/40 [==============================] - 2s 42ms/step - loss: 0.0258 - Accuracy: 0.9912 - AUC: 0.9998 - val_loss: 29.8068 - val_Accuracy: 0.3325 - val_AUC: 0.4994\n",
      "Epoch 53/70\n",
      "40/40 [==============================] - 2s 42ms/step - loss: 0.0306 - Accuracy: 0.9893 - AUC: 0.9998 - val_loss: 32.0428 - val_Accuracy: 0.3325 - val_AUC: 0.4994\n",
      "Epoch 54/70\n",
      "40/40 [==============================] - 2s 42ms/step - loss: 0.0220 - Accuracy: 0.9937 - AUC: 0.9999 - val_loss: 31.5325 - val_Accuracy: 0.3325 - val_AUC: 0.4994\n",
      "Epoch 55/70\n",
      "40/40 [==============================] - 2s 43ms/step - loss: 0.0247 - Accuracy: 0.9918 - AUC: 0.9998 - val_loss: 29.0934 - val_Accuracy: 0.3325 - val_AUC: 0.4994\n",
      "Epoch 56/70\n",
      "40/40 [==============================] - 2s 42ms/step - loss: 0.0252 - Accuracy: 0.9912 - AUC: 0.9998 - val_loss: 29.7734 - val_Accuracy: 0.3325 - val_AUC: 0.4994\n",
      "Epoch 57/70\n",
      "40/40 [==============================] - 2s 43ms/step - loss: 0.0285 - Accuracy: 0.9918 - AUC: 0.9998 - val_loss: 30.2085 - val_Accuracy: 0.3325 - val_AUC: 0.4994\n",
      "Epoch 58/70\n",
      "40/40 [==============================] - 2s 42ms/step - loss: 0.0303 - Accuracy: 0.9905 - AUC: 0.9998 - val_loss: 30.7270 - val_Accuracy: 0.3325 - val_AUC: 0.4994\n",
      "Epoch 59/70\n",
      "40/40 [==============================] - 2s 42ms/step - loss: 0.0251 - Accuracy: 0.9918 - AUC: 0.9994 - val_loss: 28.3647 - val_Accuracy: 0.3325 - val_AUC: 0.4994\n",
      "Epoch 60/70\n",
      "40/40 [==============================] - 2s 42ms/step - loss: 0.0215 - Accuracy: 0.9924 - AUC: 0.9999 - val_loss: 33.2631 - val_Accuracy: 0.3325 - val_AUC: 0.4994\n",
      "Epoch 61/70\n",
      "40/40 [==============================] - 2s 42ms/step - loss: 0.0267 - Accuracy: 0.9899 - AUC: 0.9998 - val_loss: 33.6258 - val_Accuracy: 0.3325 - val_AUC: 0.4994\n",
      "Epoch 62/70\n",
      "40/40 [==============================] - 2s 42ms/step - loss: 0.0175 - Accuracy: 0.9956 - AUC: 0.9999 - val_loss: 30.8788 - val_Accuracy: 0.3325 - val_AUC: 0.4994\n",
      "Epoch 63/70\n",
      "40/40 [==============================] - 2s 42ms/step - loss: 0.0231 - Accuracy: 0.9943 - AUC: 0.9999 - val_loss: 24.5665 - val_Accuracy: 0.3325 - val_AUC: 0.4994\n",
      "Epoch 64/70\n",
      "40/40 [==============================] - 2s 42ms/step - loss: 0.0291 - Accuracy: 0.9887 - AUC: 0.9998 - val_loss: 30.1222 - val_Accuracy: 0.3325 - val_AUC: 0.4994\n",
      "Epoch 65/70\n",
      "40/40 [==============================] - 2s 44ms/step - loss: 0.0217 - Accuracy: 0.9937 - AUC: 0.9999 - val_loss: 24.9079 - val_Accuracy: 0.3325 - val_AUC: 0.5036\n",
      "Epoch 66/70\n",
      "40/40 [==============================] - 2s 43ms/step - loss: 0.0191 - Accuracy: 0.9937 - AUC: 0.9999 - val_loss: 25.1636 - val_Accuracy: 0.3577 - val_AUC: 0.5507\n",
      "Epoch 67/70\n",
      "40/40 [==============================] - 2s 46ms/step - loss: 0.0231 - Accuracy: 0.9918 - AUC: 0.9999 - val_loss: 23.8640 - val_Accuracy: 0.3350 - val_AUC: 0.5256\n",
      "Epoch 68/70\n",
      "40/40 [==============================] - 2s 45ms/step - loss: 0.0292 - Accuracy: 0.9899 - AUC: 0.9992 - val_loss: 28.5973 - val_Accuracy: 0.3325 - val_AUC: 0.4994\n",
      "Epoch 69/70\n",
      "40/40 [==============================] - 2s 42ms/step - loss: 0.0215 - Accuracy: 0.9924 - AUC: 0.9999 - val_loss: 29.4540 - val_Accuracy: 0.3325 - val_AUC: 0.4994\n",
      "Epoch 70/70\n",
      "40/40 [==============================] - 2s 44ms/step - loss: 0.0196 - Accuracy: 0.9937 - AUC: 0.9999 - val_loss: 21.9504 - val_Accuracy: 0.3325 - val_AUC: 0.4994\n"
     ]
    }
   ],
   "source": [
    "history=model.fit(x_train,y_train_binarized,batch_size=40,epochs=70,verbose=1,validation_data=(x_val,y_val_binarized))"
   ]
  },
  {
   "cell_type": "code",
   "execution_count": 93,
   "id": "d3fca0ae",
   "metadata": {},
   "outputs": [
    {
     "data": {
      "image/png": "[encoded data removed]",
      "text/plain": [
       "<Figure size 432x288 with 1 Axes>"
      ]
     },
     "metadata": {
      "needs_background": "light"
     },
     "output_type": "display_data"
    }
   ],
   "source": [
    "fig, ax = plt.subplots()\n",
    "plt.plot(history.history['Accuracy'])\n",
    "\n",
    "plt.plot(history.history['val_Accuracy'])\n",
    "\n",
    "plt.title('Model Accuracy')\n",
    "\n",
    "plt.ylabel('Accuracy')\n",
    "\n",
    "plt.xlabel('Epochs')\n",
    "\n",
    "plt.legend(['Training Data', 'Validation Data'], loc='lower right')\n",
    "\n",
    "plt.show()\n",
    "fig.savefig('./Results/Auto-KPCA/Model_Accuracy3.png', format='png', dpi=300)"
   ]
  },
  {
   "cell_type": "code",
   "execution_count": 94,
   "id": "dc973373",
   "metadata": {},
   "outputs": [
    {
     "data": {
      "image/png": "[encoded data removed]",
      "text/plain": [
       "<Figure size 432x288 with 1 Axes>"
      ]
     },
     "metadata": {
      "needs_background": "light"
     },
     "output_type": "display_data"
    }
   ],
   "source": [
    "fig, ax = plt.subplots()\n",
    "plt.plot(history.history['AUC'])\n",
    "\n",
    "plt.plot(history.history['val_AUC'])\n",
    "\n",
    "plt.title('Model AUC')\n",
    "\n",
    "plt.ylabel('AUC')\n",
    "\n",
    "plt.xlabel('Epochs')\n",
    "\n",
    "plt.legend(['Training Data', 'Validation Data'], loc='lower right')\n",
    "\n",
    "plt.show()\n",
    "fig.savefig('./Results/Auto-KPCA/Model_AUC3.png', format='png', dpi=300)"
   ]
  },
  {
   "cell_type": "code",
   "execution_count": 95,
   "id": "62a08ffb",
   "metadata": {},
   "outputs": [
    {
     "data": {
      "image/png": "[encoded data removed]",
      "text/plain": [
       "<Figure size 432x288 with 1 Axes>"
      ]
     },
     "metadata": {
      "needs_background": "light"
     },
     "output_type": "display_data"
    }
   ],
   "source": [
    "fig, ax = plt.subplots()\n",
    "plt.plot(history.history['loss'])\n",
    "\n",
    "plt.plot(history.history['val_loss'])\n",
    "\n",
    "plt.title('Model Loss')\n",
    "\n",
    "plt.ylabel('Loss')\n",
    "\n",
    "plt.xlabel('Epochs')\n",
    "\n",
    "plt.legend(['Training Data', 'Validation Data'], loc='upper right')\n",
    "\n",
    "plt.show()\n",
    "fig.savefig('./Results/Auto-KPCA/Model_Loss3.png', format='png', dpi=300)"
   ]
  },
  {
   "cell_type": "code",
   "execution_count": 124,
   "id": "aeabef53",
   "metadata": {},
   "outputs": [
    {
     "name": "stdout",
     "output_type": "stream",
     "text": [
      "16/16 [==============================] - 1s 12ms/step\n"
     ]
    }
   ],
   "source": [
    "pred = model.predict(x_test)"
   ]
  },
  {
   "cell_type": "code",
   "execution_count": 125,
   "id": "ba23bbf4",
   "metadata": {},
   "outputs": [
    {
     "data": {
      "text/plain": [
       "array([[8.1620806e-01, 5.4104406e-02, 1.2968747e-01],\n",
       "       [7.2744246e-05, 3.3889955e-03, 9.9653828e-01],\n",
       "       [8.9165656e-04, 1.1138875e-03, 9.9799442e-01],\n",
       "       ...,\n",
       "       [1.9120318e-08, 5.7105758e-06, 9.9999428e-01],\n",
       "       [1.4376350e-03, 9.2935145e-01, 6.9210827e-02],\n",
       "       [9.2847256e-07, 2.1615035e-06, 9.9999690e-01]], dtype=float32)"
      ]
     },
     "execution_count": 125,
     "metadata": {},
     "output_type": "execute_result"
    }
   ],
   "source": [
    "pred"
   ]
  },
  {
   "cell_type": "code",
   "execution_count": 126,
   "id": "ec3c52d4",
   "metadata": {},
   "outputs": [
    {
     "data": {
      "text/plain": [
       "array([0, 1, 2, 2, 2, 0, 0, 1, 1, 2, 2, 0, 1, 2, 0, 1, 2, 0, 1, 1, 1, 0,\n",
       "       0, 1, 2, 1, 1, 0, 1, 2, 0, 1, 1, 2, 2, 2, 0, 0, 2, 2, 0, 1, 2, 0,\n",
       "       2, 1, 1, 2, 0, 0, 0, 1, 1, 2, 2, 1, 1, 0, 2, 2, 0, 0, 0, 1, 2, 2,\n",
       "       0, 0, 1, 0, 0, 2, 2, 1, 0, 0, 2, 1, 0, 0, 1, 1, 0, 0, 1, 0, 1, 0,\n",
       "       2, 1, 2, 1, 2, 2, 0, 1, 2, 1, 2, 2, 0, 1, 1, 1, 0, 0, 0, 0, 1, 2,\n",
       "       0, 0, 1, 0, 2, 2, 2, 1, 2, 0, 2, 0, 1, 1, 2, 1, 2, 1, 0, 0, 2, 2,\n",
       "       1, 1, 2, 2, 1, 1, 0, 2, 0, 0, 0, 0, 0, 1, 2, 0, 0, 1, 1, 0, 1, 0,\n",
       "       2, 1, 0, 0, 1, 2, 2, 0, 1, 1, 2, 2, 2, 1, 2, 0, 0, 0, 2, 1, 0, 0,\n",
       "       2, 1, 0, 2, 1, 1, 0, 1, 2, 0, 1, 0, 2, 2, 1, 1, 1, 1, 1, 2, 2, 0,\n",
       "       2, 2, 1, 1, 1, 0, 1, 1, 0, 0, 0, 0, 1, 1, 1, 1, 1, 0, 0, 1, 0, 0,\n",
       "       0, 0, 1, 1, 0, 1, 2, 1, 0, 1, 1, 1, 2, 2, 1, 0, 2, 2, 1, 2, 2, 1,\n",
       "       2, 0, 2, 0, 1, 0, 2, 0, 0, 1, 1, 0, 1, 2, 2, 1, 1, 0, 1, 0, 2, 2,\n",
       "       1, 0, 0, 0, 0, 0, 1, 1, 0, 0, 2, 2, 1, 2, 0, 1, 1, 1, 1, 1, 2, 0,\n",
       "       0, 0, 2, 2, 2, 1, 1, 1, 0, 0, 2, 1, 1, 2, 0, 1, 1, 1, 1, 1, 0, 0,\n",
       "       1, 0, 1, 2, 1, 1, 2, 2, 0, 1, 0, 0, 1, 2, 1, 1, 0, 1, 0, 2, 0, 2,\n",
       "       0, 2, 0, 2, 2, 0, 0, 0, 1, 2, 0, 1, 2, 2, 0, 1, 1, 0, 2, 1, 1, 1,\n",
       "       2, 0, 0, 0, 1, 2, 2, 1, 0, 1, 1, 1, 1, 1, 1, 2, 0, 2, 2, 1, 2, 0,\n",
       "       1, 0, 1, 1, 0, 0, 0, 1, 0, 2, 2, 0, 0, 1, 1, 0, 0, 0, 0, 1, 0, 2,\n",
       "       1, 1, 1, 2, 1, 2, 0, 1, 0, 2, 0, 1, 2, 2, 2, 2, 1, 0, 1, 1, 2, 1,\n",
       "       2, 0, 2, 1, 1, 0, 2, 2, 1, 0, 1, 1, 1, 2, 0, 1, 0, 2, 2, 1, 1, 1,\n",
       "       2, 0, 0, 2, 2, 0, 1, 0, 2, 0, 2, 0, 2, 2, 0, 1, 1, 1, 1, 2, 1, 0,\n",
       "       1, 1, 2, 0, 2, 2, 0, 1, 0, 1, 0, 1, 0, 2, 1, 1, 2, 2, 1, 2, 1, 1,\n",
       "       1, 0, 1, 0, 0, 2, 0, 1, 0, 2, 1, 2], dtype=int64)"
      ]
     },
     "execution_count": 126,
     "metadata": {},
     "output_type": "execute_result"
    }
   ],
   "source": [
    "y_test"
   ]
  },
  {
   "cell_type": "code",
   "execution_count": 127,
   "id": "8f71f195",
   "metadata": {},
   "outputs": [
    {
     "ename": "AttributeError",
     "evalue": "'numpy.ndarray' object has no attribute 'values'",
     "output_type": "error",
     "traceback": [
      "\u001b[1;31m---------------------------------------------------------------------------\u001b[0m",
      "\u001b[1;31mAttributeError\u001b[0m                            Traceback (most recent call last)",
      "Input \u001b[1;32mIn [127]\u001b[0m, in \u001b[0;36m<cell line: 1>\u001b[1;34m()\u001b[0m\n\u001b[1;32m----> 1\u001b[0m y_test\u001b[38;5;241m=\u001b[39m\u001b[43my_test\u001b[49m\u001b[38;5;241;43m.\u001b[39;49m\u001b[43mvalues\u001b[49m\n",
      "\u001b[1;31mAttributeError\u001b[0m: 'numpy.ndarray' object has no attribute 'values'"
     ]
    }
   ],
   "source": [
    "y_test=y_test.values"
   ]
  },
  {
   "cell_type": "code",
   "execution_count": 128,
   "id": "37f40be3",
   "metadata": {},
   "outputs": [
    {
     "data": {
      "text/plain": [
       "array([0, 1, 2, 2, 2, 0, 0, 1, 1, 2, 2, 0, 1, 2, 0, 1, 2, 0, 1, 1, 1, 0,\n",
       "       0, 1, 2, 1, 1, 0, 1, 2, 0, 1, 1, 2, 2, 2, 0, 0, 2, 2, 0, 1, 2, 0,\n",
       "       2, 1, 1, 2, 0, 0, 0, 1, 1, 2, 2, 1, 1, 0, 2, 2, 0, 0, 0, 1, 2, 2,\n",
       "       0, 0, 1, 0, 0, 2, 2, 1, 0, 0, 2, 1, 0, 0, 1, 1, 0, 0, 1, 0, 1, 0,\n",
       "       2, 1, 2, 1, 2, 2, 0, 1, 2, 1, 2, 2, 0, 1, 1, 1, 0, 0, 0, 0, 1, 2,\n",
       "       0, 0, 1, 0, 2, 2, 2, 1, 2, 0, 2, 0, 1, 1, 2, 1, 2, 1, 0, 0, 2, 2,\n",
       "       1, 1, 2, 2, 1, 1, 0, 2, 0, 0, 0, 0, 0, 1, 2, 0, 0, 1, 1, 0, 1, 0,\n",
       "       2, 1, 0, 0, 1, 2, 2, 0, 1, 1, 2, 2, 2, 1, 2, 0, 0, 0, 2, 1, 0, 0,\n",
       "       2, 1, 0, 2, 1, 1, 0, 1, 2, 0, 1, 0, 2, 2, 1, 1, 1, 1, 1, 2, 2, 0,\n",
       "       2, 2, 1, 1, 1, 0, 1, 1, 0, 0, 0, 0, 1, 1, 1, 1, 1, 0, 0, 1, 0, 0,\n",
       "       0, 0, 1, 1, 0, 1, 2, 1, 0, 1, 1, 1, 2, 2, 1, 0, 2, 2, 1, 2, 2, 1,\n",
       "       2, 0, 2, 0, 1, 0, 2, 0, 0, 1, 1, 0, 1, 2, 2, 1, 1, 0, 1, 0, 2, 2,\n",
       "       1, 0, 0, 0, 0, 0, 1, 1, 0, 0, 2, 2, 1, 2, 0, 1, 1, 1, 1, 1, 2, 0,\n",
       "       0, 0, 2, 2, 2, 1, 1, 1, 0, 0, 2, 1, 1, 2, 0, 1, 1, 1, 1, 1, 0, 0,\n",
       "       1, 0, 1, 2, 1, 1, 2, 2, 0, 1, 0, 0, 1, 2, 1, 1, 0, 1, 0, 2, 0, 2,\n",
       "       0, 2, 0, 2, 2, 0, 0, 0, 1, 2, 0, 1, 2, 2, 0, 1, 1, 0, 2, 1, 1, 1,\n",
       "       2, 0, 0, 0, 1, 2, 2, 1, 0, 1, 1, 1, 1, 1, 1, 2, 0, 2, 2, 1, 2, 0,\n",
       "       1, 0, 1, 1, 0, 0, 0, 1, 0, 2, 2, 0, 0, 1, 1, 0, 0, 0, 0, 1, 0, 2,\n",
       "       1, 1, 1, 2, 1, 2, 0, 1, 0, 2, 0, 1, 2, 2, 2, 2, 1, 0, 1, 1, 2, 1,\n",
       "       2, 0, 2, 1, 1, 0, 2, 2, 1, 0, 1, 1, 1, 2, 0, 1, 0, 2, 2, 1, 1, 1,\n",
       "       2, 0, 0, 2, 2, 0, 1, 0, 2, 0, 2, 0, 2, 2, 0, 1, 1, 1, 1, 2, 1, 0,\n",
       "       1, 1, 2, 0, 2, 2, 0, 1, 0, 1, 0, 1, 0, 2, 1, 1, 2, 2, 1, 2, 1, 1,\n",
       "       1, 0, 1, 0, 0, 2, 0, 1, 0, 2, 1, 2], dtype=int64)"
      ]
     },
     "execution_count": 128,
     "metadata": {},
     "output_type": "execute_result"
    }
   ],
   "source": [
    "y_test"
   ]
  },
  {
   "cell_type": "code",
   "execution_count": 129,
   "id": "77d254de",
   "metadata": {},
   "outputs": [
    {
     "ename": "AxisError",
     "evalue": "axis 1 is out of bounds for array of dimension 1",
     "output_type": "error",
     "traceback": [
      "\u001b[1;31m---------------------------------------------------------------------------\u001b[0m",
      "\u001b[1;31mAxisError\u001b[0m                                 Traceback (most recent call last)",
      "Input \u001b[1;32mIn [129]\u001b[0m, in \u001b[0;36m<cell line: 1>\u001b[1;34m()\u001b[0m\n\u001b[1;32m----> 1\u001b[0m y_test1\u001b[38;5;241m=\u001b[39m\u001b[43mnp\u001b[49m\u001b[38;5;241;43m.\u001b[39;49m\u001b[43margmax\u001b[49m\u001b[43m(\u001b[49m\u001b[43my_test\u001b[49m\u001b[43m,\u001b[49m\u001b[43m \u001b[49m\u001b[43maxis\u001b[49m\u001b[38;5;241;43m=\u001b[39;49m\u001b[38;5;241;43m1\u001b[39;49m\u001b[43m)\u001b[49m\n",
      "File \u001b[1;32m<__array_function__ internals>:5\u001b[0m, in \u001b[0;36margmax\u001b[1;34m(*args, **kwargs)\u001b[0m\n",
      "File \u001b[1;32mC:\\ProgramData\\Anaconda3\\lib\\site-packages\\numpy\\core\\fromnumeric.py:1195\u001b[0m, in \u001b[0;36margmax\u001b[1;34m(a, axis, out)\u001b[0m\n\u001b[0;32m   1121\u001b[0m \u001b[38;5;129m@array_function_dispatch\u001b[39m(_argmax_dispatcher)\n\u001b[0;32m   1122\u001b[0m \u001b[38;5;28;01mdef\u001b[39;00m \u001b[38;5;21margmax\u001b[39m(a, axis\u001b[38;5;241m=\u001b[39m\u001b[38;5;28;01mNone\u001b[39;00m, out\u001b[38;5;241m=\u001b[39m\u001b[38;5;28;01mNone\u001b[39;00m):\n\u001b[0;32m   1123\u001b[0m     \u001b[38;5;124;03m\"\"\"\u001b[39;00m\n\u001b[0;32m   1124\u001b[0m \u001b[38;5;124;03m    Returns the indices of the maximum values along an axis.\u001b[39;00m\n\u001b[0;32m   1125\u001b[0m \n\u001b[1;32m   (...)\u001b[0m\n\u001b[0;32m   1193\u001b[0m \n\u001b[0;32m   1194\u001b[0m \u001b[38;5;124;03m    \"\"\"\u001b[39;00m\n\u001b[1;32m-> 1195\u001b[0m     \u001b[38;5;28;01mreturn\u001b[39;00m \u001b[43m_wrapfunc\u001b[49m\u001b[43m(\u001b[49m\u001b[43ma\u001b[49m\u001b[43m,\u001b[49m\u001b[43m \u001b[49m\u001b[38;5;124;43m'\u001b[39;49m\u001b[38;5;124;43margmax\u001b[39;49m\u001b[38;5;124;43m'\u001b[39;49m\u001b[43m,\u001b[49m\u001b[43m \u001b[49m\u001b[43maxis\u001b[49m\u001b[38;5;241;43m=\u001b[39;49m\u001b[43maxis\u001b[49m\u001b[43m,\u001b[49m\u001b[43m \u001b[49m\u001b[43mout\u001b[49m\u001b[38;5;241;43m=\u001b[39;49m\u001b[43mout\u001b[49m\u001b[43m)\u001b[49m\n",
      "File \u001b[1;32mC:\\ProgramData\\Anaconda3\\lib\\site-packages\\numpy\\core\\fromnumeric.py:57\u001b[0m, in \u001b[0;36m_wrapfunc\u001b[1;34m(obj, method, *args, **kwds)\u001b[0m\n\u001b[0;32m     54\u001b[0m     \u001b[38;5;28;01mreturn\u001b[39;00m _wrapit(obj, method, \u001b[38;5;241m*\u001b[39margs, \u001b[38;5;241m*\u001b[39m\u001b[38;5;241m*\u001b[39mkwds)\n\u001b[0;32m     56\u001b[0m \u001b[38;5;28;01mtry\u001b[39;00m:\n\u001b[1;32m---> 57\u001b[0m     \u001b[38;5;28;01mreturn\u001b[39;00m bound(\u001b[38;5;241m*\u001b[39margs, \u001b[38;5;241m*\u001b[39m\u001b[38;5;241m*\u001b[39mkwds)\n\u001b[0;32m     58\u001b[0m \u001b[38;5;28;01mexcept\u001b[39;00m \u001b[38;5;167;01mTypeError\u001b[39;00m:\n\u001b[0;32m     59\u001b[0m     \u001b[38;5;66;03m# A TypeError occurs if the object does have such a method in its\u001b[39;00m\n\u001b[0;32m     60\u001b[0m     \u001b[38;5;66;03m# class, but its signature is not identical to that of NumPy's. This\u001b[39;00m\n\u001b[1;32m   (...)\u001b[0m\n\u001b[0;32m     64\u001b[0m     \u001b[38;5;66;03m# Call _wrapit from within the except clause to ensure a potential\u001b[39;00m\n\u001b[0;32m     65\u001b[0m     \u001b[38;5;66;03m# exception has a traceback chain.\u001b[39;00m\n\u001b[0;32m     66\u001b[0m     \u001b[38;5;28;01mreturn\u001b[39;00m _wrapit(obj, method, \u001b[38;5;241m*\u001b[39margs, \u001b[38;5;241m*\u001b[39m\u001b[38;5;241m*\u001b[39mkwds)\n",
      "\u001b[1;31mAxisError\u001b[0m: axis 1 is out of bounds for array of dimension 1"
     ]
    }
   ],
   "source": [
    "y_test1=np.argmax(y_test, axis=1)"
   ]
  },
  {
   "cell_type": "code",
   "execution_count": null,
   "id": "5327dcf7",
   "metadata": {},
   "outputs": [],
   "source": [
    "y_test1"
   ]
  },
  {
   "cell_type": "code",
   "execution_count": 130,
   "id": "1d840a35",
   "metadata": {},
   "outputs": [],
   "source": [
    "y_pred=np.argmax(pred, axis=1)"
   ]
  },
  {
   "cell_type": "code",
   "execution_count": 131,
   "id": "4f1ebc52",
   "metadata": {},
   "outputs": [
    {
     "data": {
      "text/plain": [
       "array([0, 2, 2, 2, 2, 0, 0, 1, 1, 2, 2, 0, 1, 2, 0, 0, 2, 0, 1, 0, 2, 0,\n",
       "       0, 1, 2, 1, 1, 2, 1, 2, 0, 1, 2, 2, 2, 2, 0, 2, 2, 2, 0, 2, 2, 0,\n",
       "       2, 1, 0, 2, 0, 0, 0, 1, 1, 2, 2, 1, 1, 0, 2, 2, 0, 0, 2, 2, 2, 2,\n",
       "       2, 1, 1, 1, 0, 2, 2, 2, 0, 0, 2, 2, 2, 0, 1, 1, 0, 0, 1, 0, 1, 1,\n",
       "       2, 1, 2, 1, 2, 2, 0, 1, 2, 1, 2, 2, 0, 2, 1, 1, 0, 2, 0, 0, 2, 2,\n",
       "       0, 0, 1, 0, 2, 2, 2, 2, 2, 0, 2, 0, 1, 1, 2, 0, 2, 0, 0, 0, 2, 2,\n",
       "       1, 1, 2, 2, 1, 1, 0, 2, 2, 0, 0, 0, 0, 1, 2, 0, 1, 1, 2, 0, 1, 0,\n",
       "       2, 1, 0, 0, 2, 2, 2, 0, 2, 2, 2, 2, 2, 1, 2, 2, 0, 0, 2, 1, 0, 0,\n",
       "       2, 0, 0, 2, 1, 1, 0, 1, 2, 0, 2, 0, 2, 2, 2, 1, 1, 1, 2, 2, 2, 0,\n",
       "       2, 2, 1, 1, 2, 0, 1, 1, 0, 0, 1, 0, 1, 0, 1, 2, 1, 0, 0, 2, 0, 0,\n",
       "       0, 0, 1, 1, 0, 1, 2, 1, 0, 1, 1, 2, 2, 2, 1, 0, 2, 2, 2, 2, 2, 2,\n",
       "       2, 0, 2, 0, 1, 0, 2, 0, 0, 0, 1, 0, 1, 2, 2, 2, 1, 2, 1, 2, 2, 2,\n",
       "       2, 0, 0, 0, 0, 1, 2, 1, 0, 0, 2, 2, 1, 2, 1, 2, 1, 1, 2, 1, 2, 0,\n",
       "       1, 0, 2, 2, 2, 1, 1, 2, 0, 2, 2, 2, 1, 2, 0, 1, 1, 1, 1, 1, 0, 0,\n",
       "       2, 0, 1, 2, 1, 1, 2, 2, 0, 1, 0, 0, 2, 2, 1, 1, 0, 1, 2, 2, 0, 2,\n",
       "       0, 2, 1, 2, 2, 0, 0, 0, 2, 2, 2, 1, 2, 2, 0, 0, 1, 2, 2, 1, 0, 1,\n",
       "       2, 0, 0, 0, 1, 2, 2, 1, 0, 1, 1, 1, 1, 2, 1, 2, 0, 2, 2, 2, 2, 0,\n",
       "       2, 0, 1, 1, 0, 0, 0, 1, 0, 2, 2, 0, 2, 2, 1, 0, 0, 0, 0, 1, 0, 2,\n",
       "       1, 2, 1, 2, 1, 2, 2, 1, 0, 2, 0, 2, 2, 2, 2, 2, 1, 0, 1, 1, 2, 2,\n",
       "       2, 0, 2, 1, 1, 0, 2, 2, 1, 1, 1, 1, 1, 2, 0, 1, 0, 2, 2, 2, 2, 1,\n",
       "       2, 0, 0, 2, 2, 0, 2, 0, 2, 0, 2, 0, 2, 2, 0, 1, 1, 1, 2, 2, 2, 0,\n",
       "       1, 1, 2, 0, 2, 2, 2, 2, 0, 1, 0, 2, 0, 2, 1, 1, 2, 2, 2, 2, 1, 2,\n",
       "       1, 0, 1, 0, 0, 2, 0, 1, 0, 2, 1, 2], dtype=int64)"
      ]
     },
     "execution_count": 131,
     "metadata": {},
     "output_type": "execute_result"
    }
   ],
   "source": [
    "y_pred"
   ]
  },
  {
   "cell_type": "code",
   "execution_count": 132,
   "id": "2dfd3f43",
   "metadata": {},
   "outputs": [],
   "source": [
    "from sklearn import metrics"
   ]
  },
  {
   "cell_type": "code",
   "execution_count": 135,
   "id": "4f7a69dc",
   "metadata": {},
   "outputs": [],
   "source": [
    "y_test_binarized=label_binarize(y_test,classes=np.unique(y_test))\n",
    "classes=np.unique(y_test)"
   ]
  },
  {
   "cell_type": "code",
   "execution_count": 136,
   "id": "7d9f92b2",
   "metadata": {},
   "outputs": [],
   "source": [
    "y_prednew=label_binarize(y_pred,classes=np.unique(y_pred))"
   ]
  },
  {
   "cell_type": "code",
   "execution_count": 137,
   "id": "37d67c9f",
   "metadata": {},
   "outputs": [
    {
     "data": {
      "text/plain": [
       "array([[1, 0, 0],\n",
       "       [0, 0, 1],\n",
       "       [0, 0, 1],\n",
       "       ...,\n",
       "       [0, 0, 1],\n",
       "       [0, 1, 0],\n",
       "       [0, 0, 1]])"
      ]
     },
     "execution_count": 137,
     "metadata": {},
     "output_type": "execute_result"
    }
   ],
   "source": [
    "y_prednew"
   ]
  },
  {
   "cell_type": "code",
   "execution_count": 138,
   "id": "3f7a1525",
   "metadata": {},
   "outputs": [
    {
     "data": {
      "text/plain": [
       "3"
      ]
     },
     "execution_count": 138,
     "metadata": {},
     "output_type": "execute_result"
    }
   ],
   "source": [
    "classes.shape[0]"
   ]
  },
  {
   "cell_type": "code",
   "execution_count": 139,
   "id": "1c69746d",
   "metadata": {},
   "outputs": [
    {
     "data": {
      "text/plain": [
       "array([[1, 0, 0],\n",
       "       [0, 1, 0],\n",
       "       [0, 0, 1],\n",
       "       ...,\n",
       "       [0, 0, 1],\n",
       "       [0, 1, 0],\n",
       "       [0, 0, 1]])"
      ]
     },
     "execution_count": 139,
     "metadata": {},
     "output_type": "execute_result"
    }
   ],
   "source": [
    "y_test_binarized"
   ]
  },
  {
   "cell_type": "code",
   "execution_count": 96,
   "id": "0914bd27",
   "metadata": {},
   "outputs": [
    {
     "data": {
      "image/png": "[encoded data removed]",
      "text/plain": [
       "<Figure size 3000x2400 with 1 Axes>"
      ]
     },
     "metadata": {
      "needs_background": "light"
     },
     "output_type": "display_data"
    }
   ],
   "source": [
    "\n",
    "# roc curve for classes\n",
    "fpr = dict()\n",
    "tpr = dict()\n",
    "thresh =dict()\n",
    "roc_auc = dict()\n",
    "\n",
    "n_class = classes.shape[0]\n",
    "colors = ['yellow', 'red', 'green']\n",
    "fig=plt.figure(figsize=(10, 8), dpi=300)\n",
    "for i, color in zip(range(n_class),colors):    \n",
    "    fpr[i], tpr[i], thresh[i] = metrics.roc_curve(y_test[:,i],y_prednew[:,i])\n",
    "#     fpr[i], tpr[i], thresh[i] = metrics.roc_curve(y_test2,y_final)\n",
    "    roc_auc[i] = metrics.auc(fpr[i], tpr[i])\n",
    "    \n",
    "    # plotting    \n",
    "    plt.plot(fpr[i], tpr[i], linestyle='--',color=color, \n",
    "             label='%s vs Rest (AUC=%0.2f)'%(classes[i],roc_auc[i]))\n",
    "\n",
    "plt.plot([0,1],[0,1],'b--')\n",
    "plt.xlim([0,1])\n",
    "plt.ylim([0,1.05])\n",
    "plt.title('Multiclass ROC curve')\n",
    "plt.xlabel('False Positive Rate')\n",
    "plt.ylabel('True Positive rate')\n",
    "plt.legend(loc='lower right')\n",
    "plt.show()\n",
    "fig.savefig('./Results/Auto-KPCA/ROC3.png',dpi=300)"
   ]
  },
  {
   "cell_type": "code",
   "execution_count": 89,
   "id": "ca7201bc",
   "metadata": {},
   "outputs": [
    {
     "data": {
      "text/plain": [
       "array([[163,   3,   1],\n",
       "       [  9, 173,   4],\n",
       "       [  0,   0, 143]], dtype=int64)"
      ]
     },
     "execution_count": 89,
     "metadata": {},
     "output_type": "execute_result"
    }
   ],
   "source": [
    "confusion_matrix(y_test1,y_pred)"
   ]
  },
  {
   "cell_type": "code",
   "execution_count": 97,
   "id": "fc7a0238",
   "metadata": {},
   "outputs": [
    {
     "data": {
      "image/png": "[encoded data removed]",
      "text/plain": [
       "<Figure size 3000x2400 with 2 Axes>"
      ]
     },
     "metadata": {
      "needs_background": "light"
     },
     "output_type": "display_data"
    }
   ],
   "source": [
    "import numpy as np\n",
    "import seaborn as sns\n",
    "\n",
    "cf_matrix = confusion_matrix(y_test1,y_pred)\n",
    "plt.figure(figsize=(10, 8), dpi=300)\n",
    "sns_plot=sns.heatmap(cf_matrix, annot=True, cmap='Greens')\n",
    "sns_plot.figure.savefig('./Results/Auto-KPCA/Confusion_matrix3.png',dpi=300)"
   ]
  },
  {
   "cell_type": "code",
   "execution_count": 140,
   "id": "3ba9e3e5",
   "metadata": {},
   "outputs": [
    {
     "name": "stdout",
     "output_type": "stream",
     "text": [
      "classification_report\n",
      "               precision    recall  f1-score   support\n",
      "\n",
      "           0       0.93      0.84      0.88       167\n",
      "           1       0.93      0.68      0.79       186\n",
      "           2       0.68      1.00      0.81       143\n",
      "\n",
      "    accuracy                           0.83       496\n",
      "   macro avg       0.85      0.84      0.83       496\n",
      "weighted avg       0.86      0.83      0.83       496\n",
      "\n"
     ]
    }
   ],
   "source": [
    "print(\"classification_report\\n\",classification_report(y_test,y_pred))"
   ]
  },
  {
   "cell_type": "code",
   "execution_count": 143,
   "id": "43024939",
   "metadata": {},
   "outputs": [
    {
     "data": {
      "text/plain": [
       "(1586,)"
      ]
     },
     "execution_count": 143,
     "metadata": {},
     "output_type": "execute_result"
    }
   ],
   "source": [
    "y_train.shape\n",
    "# y_train=label_binarize(y)"
   ]
  },
  {
   "cell_type": "code",
   "execution_count": 145,
   "id": "572c2721",
   "metadata": {},
   "outputs": [
    {
     "name": "stdout",
     "output_type": "stream",
     "text": [
      "50/50 [==============================] - 1s 14ms/step - loss: 0.3101 - Accuracy: 0.8770 - AUC: 0.9752\n",
      "13/13 [==============================] - 0s 14ms/step - loss: 21.9504 - Accuracy: 0.3325 - AUC: 0.4994\n",
      "16/16 [==============================] - 0s 14ms/step - loss: 0.4547 - Accuracy: 0.8266 - AUC: 0.9522\n",
      "Training Accuracy: 87.70%\n",
      "Validation Accuracy: 33.25%\n",
      "Testing Accuracy: 82.66%\n"
     ]
    }
   ],
   "source": [
    "train_scores = model.evaluate(x_train, y_train_binarized)\n",
    "val_scores = model.evaluate(x_val, y_val_binarized)\n",
    "test_scores = model.evaluate(x_test, y_test_binarized)\n",
    "\n",
    "print(\"Training Accuracy: %.2f%%\"%(train_scores[1] * 100))\n",
    "print(\"Validation Accuracy: %.2f%%\"%(val_scores[1] * 100))\n",
    "print(\"Testing Accuracy: %.2f%%\"%(test_scores[1] * 100))"
   ]
  },
  {
   "cell_type": "code",
   "execution_count": null,
   "id": "3300315d",
   "metadata": {},
   "outputs": [],
   "source": []
  }
 ],
 "metadata": {
  "kernelspec": {
   "display_name": "Python 3 (ipykernel)",
   "language": "python",
   "name": "python3"
  },
  "language_info": {
   "codemirror_mode": {
    "name": "ipython",
    "version": 3
   },
   "file_extension": ".py",
   "mimetype": "text/x-python",
   "name": "python",
   "nbconvert_exporter": "python",
   "pygments_lexer": "ipython3",
   "version": "3.9.12"
  }
 },
 "nbformat": 4,
 "nbformat_minor": 5
}
